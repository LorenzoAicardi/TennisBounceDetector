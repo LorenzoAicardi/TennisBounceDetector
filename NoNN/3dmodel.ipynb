{
 "cells": [
  {
   "cell_type": "code",
   "execution_count": null,
   "metadata": {},
   "outputs": [],
   "source": [
    "import cv2\n",
    "import pandas as pd\n",
    "import numpy as np\n",
    "import matplotlib.pyplot as plt\n",
    "import plotly.graph_objects as go\n",
    "import math\n"
   ]
  },
  {
   "cell_type": "code",
   "execution_count": null,
   "metadata": {},
   "outputs": [],
   "source": [
    "def get_image(image_path):\n",
    "    return cv2.imread(image_path)"
   ]
  },
  {
   "cell_type": "code",
   "execution_count": null,
   "metadata": {},
   "outputs": [],
   "source": [
    "image = get_image('./Dataset/game1/Clip1/0000.jpg')"
   ]
  },
  {
   "cell_type": "code",
   "execution_count": null,
   "metadata": {},
   "outputs": [],
   "source": [
    "plt.imshow(image)"
   ]
  },
  {
   "cell_type": "code",
   "execution_count": null,
   "metadata": {},
   "outputs": [],
   "source": [
    "# Mouse callback function to collect points\n",
    "points=[]\n",
    "cv2.imshow('Select Points', image)\n",
    "def get_points(event, x, y, flags, param):\n",
    "    if event == cv2.EVENT_LBUTTONDOWN:\n",
    "        points.append((x, y))\n",
    "        print(\"Point selected: ({}, {})\".format(x, y))\n",
    "\n",
    "# Set the mouse callback\n",
    "cv2.setMouseCallback('Select Points', get_points)\n",
    "\n",
    "# Wait for the user to select points\n",
    "cv2.waitKey(0)\n",
    "\n",
    "# Close the image window\n",
    "cv2.destroyAllWindows()\n",
    "\n",
    "# Print the selected points\n",
    "print(\"Selected Points:\", points)"
   ]
  },
  {
   "cell_type": "code",
   "execution_count": null,
   "metadata": {},
   "outputs": [],
   "source": [
    "# top left corner, top right corner, bottom right corner, bottom left corner, pole left, pole right\n",
    "points=[(420, 165), (860, 165), (1090, 530), (200, 530), (291, 230), (992, 230)]\n",
    "#plot points on frame\n",
    "for point in points:\n",
    "    cv2.circle(image, point, 5, (0, 0, 255), -1)\n",
    "cv2.imshow('points',image)\n",
    "cv2.waitKey(0)\n",
    "\n",
    "# Close the image window\n",
    "cv2.destroyAllWindows()\n",
    "\n"
   ]
  },
  {
   "cell_type": "code",
   "execution_count": null,
   "metadata": {},
   "outputs": [],
   "source": [
    "#true coords\n",
    "# top left corner, top right corner, bottom right corner, bottom left corner, pole left, pole right\n",
    "true_coords = [(0,23.77, 0), (10.97,23.77,  0), (10.97,0, 0),(0,0,0), (-0.91, 5.485,1.07), (11.42,5.485,1.07)]"
   ]
  },
  {
   "cell_type": "code",
   "execution_count": null,
   "metadata": {},
   "outputs": [],
   "source": [
    "A = []\n",
    "for i in range(6):\n",
    "    X, Y, Z = true_coords[i]\n",
    "    u, v = points[i]\n",
    "    A.append([X, Y, Z, 1, 0, 0, 0, 0, -u*X, -u*Y, -u*Z, -u])\n",
    "    A.append([0, 0, 0, 0, X, Y, Z, 1, -v*X, -v*Y, -v*Z, -v])"
   ]
  },
  {
   "cell_type": "code",
   "execution_count": null,
   "metadata": {},
   "outputs": [],
   "source": [
    "A = np.array(A)\n"
   ]
  },
  {
   "cell_type": "code",
   "execution_count": null,
   "metadata": {},
   "outputs": [],
   "source": [
    "image.shape"
   ]
  },
  {
   "cell_type": "code",
   "execution_count": null,
   "metadata": {},
   "outputs": [],
   "source": [
    "# svd of A\n",
    "U, S, V = np.linalg.svd(A)"
   ]
  },
  {
   "cell_type": "code",
   "execution_count": null,
   "metadata": {},
   "outputs": [],
   "source": [
    "V.shape"
   ]
  },
  {
   "cell_type": "code",
   "execution_count": null,
   "metadata": {},
   "outputs": [],
   "source": [
    "# get last column of V\n",
    "p = V[-1, :]"
   ]
  },
  {
   "cell_type": "code",
   "execution_count": null,
   "metadata": {},
   "outputs": [],
   "source": [
    "p.shape"
   ]
  },
  {
   "cell_type": "code",
   "execution_count": null,
   "metadata": {},
   "outputs": [],
   "source": [
    "# reshape to \n",
    "M = np.reshape(p, (3, 4))"
   ]
  },
  {
   "cell_type": "code",
   "execution_count": null,
   "metadata": {},
   "outputs": [],
   "source": [
    "M"
   ]
  },
  {
   "cell_type": "code",
   "execution_count": null,
   "metadata": {},
   "outputs": [],
   "source": [
    "a1 = M[0, :3]\n",
    "a2 = M[1, :3]\n",
    "a3 = M[2, :3]\n",
    "b1 = M[0, 3]\n",
    "b2 = M[1, 3]\n",
    "b3 = M[2, 3]"
   ]
  },
  {
   "cell_type": "code",
   "execution_count": null,
   "metadata": {},
   "outputs": [],
   "source": [
    "rho = 1 / np.linalg.norm(a3)\n",
    "cx = rho**2 * np.dot(a1, a3)\n",
    "cy = rho**2 * np.dot(a2, a3)\n",
    "cos_theta = -np.dot(np.cross(a1, a3), np.cross(a2, a3)) / (np.linalg.norm(np.cross(a1, a3)) * np.linalg.norm(np.cross(a2, a3)))\n",
    "sin_tetha = np.sqrt(1 - cos_theta**2)\n",
    "alpha = rho**2 * np.linalg.norm(np.cross(a1, a3)) * sin_tetha\n",
    "beta = rho**2 * np.linalg.norm(np.cross(a2, a3)) * sin_tetha"
   ]
  },
  {
   "cell_type": "code",
   "execution_count": null,
   "metadata": {},
   "outputs": [],
   "source": [
    "cy"
   ]
  },
  {
   "cell_type": "code",
   "execution_count": null,
   "metadata": {},
   "outputs": [],
   "source": [
    "K = np.array([[alpha, -alpha* (cos_theta/sin_tetha), cx], [0, beta/ sin_tetha, cy], [0, 0, 1]])\n",
    "#K = np.array([[alpha, 0, cx], [0, alpha, cy], [0, 0, 1]])"
   ]
  },
  {
   "cell_type": "code",
   "execution_count": null,
   "metadata": {},
   "outputs": [],
   "source": [
    "K"
   ]
  },
  {
   "cell_type": "code",
   "execution_count": null,
   "metadata": {},
   "outputs": [],
   "source": [
    "# get R and T\n",
    "r1 = (np.cross(a2, a3) / np.linalg.norm(np.cross(a2, a3)))\n",
    "r3= rho * a3\n",
    "r2 = np.cross(r3, r1)"
   ]
  },
  {
   "cell_type": "code",
   "execution_count": null,
   "metadata": {},
   "outputs": [],
   "source": [
    "b = np.array([b1, b2, b3])\n",
    "t = rho* np.linalg.inv(K).dot(b)"
   ]
  },
  {
   "cell_type": "code",
   "execution_count": null,
   "metadata": {},
   "outputs": [],
   "source": [
    "# use K R and t to project the points in 3d and show with matplotlib\n",
    "points_2d = np.array(points)\n",
    "# add 1 to the points\n",
    "points_2d = np.hstack((points_2d, np.ones((6, 1))))\n",
    "points_2d\n"
   ]
  },
  {
   "cell_type": "code",
   "execution_count": null,
   "metadata": {},
   "outputs": [],
   "source": [
    "R = np.array([r1, r2, r3])"
   ]
  },
  {
   "cell_type": "code",
   "execution_count": null,
   "metadata": {},
   "outputs": [],
   "source": [
    "t = t.reshape(3, 1)\n",
    "t"
   ]
  },
  {
   "cell_type": "code",
   "execution_count": null,
   "metadata": {},
   "outputs": [],
   "source": [
    "points_normalized = np.linalg.inv(K) @ points_2d.T\n",
    "points_3d = (np.linalg.inv(R) @ (points_normalized - t)).T\n"
   ]
  },
  {
   "cell_type": "code",
   "execution_count": null,
   "metadata": {},
   "outputs": [],
   "source": [
    "fig = plt.figure()\n",
    "ax = fig.add_subplot(111, projection='3d')\n",
    "\n",
    "ax.scatter(points_3d[:, 0], points_3d[:, 1], points_3d[:, 2], c='r', marker='o')\n",
    "\n",
    "ax.set_xlabel('X')\n",
    "ax.set_ylabel('Y')\n",
    "ax.set_zlabel('Z')\n",
    "\n",
    "plt.show()"
   ]
  },
  {
   "cell_type": "code",
   "execution_count": null,
   "metadata": {},
   "outputs": [],
   "source": [
    "x = points_3d[:, 0]\n",
    "y = points_3d[:, 1]\n",
    "z = points_3d[:, 2]\n",
    "\n",
    "# Create Plotly figure\n",
    "fig = go.Figure(data=[go.Scatter3d(x=x, y=y, z=z, mode='markers', marker=dict(size=5))])\n",
    "\n",
    "# Set axes labels\n",
    "fig.update_layout(scene=dict(xaxis_title='X', yaxis_title='Y', zaxis_title='Z'))\n",
    "\n",
    "# Show plot\n",
    "fig.show()"
   ]
  },
  {
   "cell_type": "code",
   "execution_count": null,
   "metadata": {},
   "outputs": [],
   "source": [
    "rows,cols,ch = image.shape\n",
    "\n",
    "pts1 = np.float32([[420, 165], [860, 165], [1090, 530], [200, 530]])\n",
    "\n",
    "ratio=0.02\n",
    "cardH=math.sqrt((pts1[2][0]-pts1[1][0])*(pts1[2][0]-pts1[1][0])+(pts1[2][1]-pts1[1][1])*(pts1[2][1]-pts1[1][1]))\n",
    "cardW=ratio*cardH\n",
    "pts2 = np.float32([[0,2377], [1097,2377], [1097,0],[0,0]])\n",
    "\n",
    "M = cv2.getPerspectiveTransform(pts1,pts2)\n",
    "\n",
    "offsetSize=20\n",
    "transformed = np.zeros((int(cardW+offsetSize), int(cardH+offsetSize)), dtype=np.uint8);\n",
    "dst = cv2.warpPerspective(image, M, (2000,2500))\n",
    "\n",
    "plt.subplot(121),plt.imshow(image),plt.title('Input')\n",
    "plt.subplot(122),plt.imshow(dst),plt.title('Output')\n",
    "plt.show()"
   ]
  },
  {
   "cell_type": "code",
   "execution_count": null,
   "metadata": {},
   "outputs": [],
   "source": [
    "rectified_pts = cv2.perspectiveTransform(pts1.reshape(-1, 1, 2), M)\n",
    "\n",
    "# Print the coordinates of original points in the new rectified image\n",
    "for point in rectified_pts:\n",
    "    x, y = point[0]\n",
    "    print(\"Original Point: ({}, {}) -> New Rectified Image: ({}, {})\".format(pts1[0][0], pts1[0][1], x, y))"
   ]
  },
  {
   "cell_type": "code",
   "execution_count": null,
   "metadata": {},
   "outputs": [],
   "source": [
    "point1= np.float32([420, 165, 1])\n",
    "corenr=np.dot(M , point1)\n",
    "corner= corenr/corenr[2]\n",
    "corner"
   ]
  },
  {
   "cell_type": "code",
   "execution_count": null,
   "metadata": {},
   "outputs": [],
   "source": [
    "rectified_pts"
   ]
  },
  {
   "cell_type": "code",
   "execution_count": null,
   "metadata": {},
   "outputs": [],
   "source": [
    "d_3pts = []\n",
    "for point in rectified_pts:\n",
    "    x, y = point[0]\n",
    "    point_3d = np.array([x, y, 1])\n",
    "    point_3d = np.dot(np.linalg.inv(M), point_3d)\n",
    "    d_3pts.append(point_3d)\n",
    "d_3pts\n",
    "    "
   ]
  },
  {
   "cell_type": "code",
   "execution_count": null,
   "metadata": {},
   "outputs": [],
   "source": [
    "d_3pts = np.array(d_3pts)"
   ]
  },
  {
   "cell_type": "code",
   "execution_count": null,
   "metadata": {},
   "outputs": [],
   "source": [
    "x = d_3pts[:, 0]\n",
    "y = d_3pts[:, 1]\n",
    "z = d_3pts[:, 2]\n",
    "\n",
    "# Create Plotly figure\n",
    "fig = go.Figure(data=[go.Scatter3d(x=x, y=y, z=z, mode='markers', marker=dict(size=5))])\n",
    "#connect the 4 points\n",
    "fig.add_trace(go.Scatter3d(x=[x[0], x[1]], y=[y[0], y[1]], z=[z[0], z[1]], mode='lines', name='top'))\n",
    "fig.add_trace(go.Scatter3d(x=[x[1], x[2]], y=[y[1], y[2]], z=[z[1], z[2]], mode='lines', name='right'))\n",
    "fig.add_trace(go.Scatter3d(x=[x[2], x[3]], y=[y[2], y[3]], z=[z[2], z[3]], mode='lines', name='bottom'))\n",
    "fig.add_trace(go.Scatter3d(x=[x[3], x[0]], y=[y[3], y[0]], z=[z[3], z[0]], mode='lines', name='left'))\n",
    "\n",
    "# Set axes labels\n",
    "fig.update_layout(scene=dict(xaxis_title='X', yaxis_title='Y', zaxis_title='Z'))\n",
    "\n",
    "# Show plot\n",
    "fig.show()"
   ]
  },
  {
   "cell_type": "code",
   "execution_count": null,
   "metadata": {},
   "outputs": [],
   "source": [
    "# calcula the distance between the 2 points\n",
    "def distance_3d(point1, point2):\n",
    "    return np.linalg.norm(point1[:2] - point2[:2])\n",
    "for i in range(4):\n",
    "    for j in range(i+1, 4):\n",
    "        print(\"Distance between point {} and point {} is: {}\".format(i, j, distance_3d(d_3pts[i], d_3pts[j])))"
   ]
  },
  {
   "cell_type": "code",
   "execution_count": null,
   "metadata": {},
   "outputs": [],
   "source": []
  },
  {
   "cell_type": "code",
   "execution_count": null,
   "metadata": {},
   "outputs": [],
   "source": []
  }
 ],
 "metadata": {
  "kernelspec": {
   "display_name": "base",
   "language": "python",
   "name": "python3"
  },
  "language_info": {
   "codemirror_mode": {
    "name": "ipython",
    "version": 3
   },
   "file_extension": ".py",
   "mimetype": "text/x-python",
   "name": "python",
   "nbconvert_exporter": "python",
   "pygments_lexer": "ipython3",
   "version": "3.10.9"
  }
 },
 "nbformat": 4,
 "nbformat_minor": 2
}
