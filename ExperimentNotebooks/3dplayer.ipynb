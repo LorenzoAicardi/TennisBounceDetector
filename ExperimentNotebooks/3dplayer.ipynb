{
 "cells": [
  {
   "cell_type": "code",
   "execution_count": 2,
   "metadata": {},
   "outputs": [],
   "source": [
    "import cv2\n",
    "import numpy as np\n",
    "import matplotlib.pyplot as plt\n",
    "import os\n",
    "from glob import glob\n",
    "import re\n",
    "from sklearn.cluster import AgglomerativeClustering\n",
    "from sklearn.cluster import DBSCAN\n",
    "import math\n",
    "import plotly.graph_objects as go\n",
    "import pandas as pd\n",
    "\n",
    "import argparse\n",
    "import queue\n",
    "import imutils\n",
    "from sktime.datatypes._panel._convert import from_2d_array_to_nested\n",
    "from trackplayers import *\n",
    "from utils import get_video_properties, get_dtype\n",
    "from detection import *\n",
    "from pickle import load\n",
    "from court_detector import CourtDetector\n",
    "import time\n",
    "from PIL import Image, ImageDraw\n",
    "\n",
    "\n"
   ]
  },
  {
   "cell_type": "code",
   "execution_count": 5,
   "metadata": {},
   "outputs": [],
   "source": [
    "video_path= 'output_video.mp4'"
   ]
  },
  {
   "cell_type": "markdown",
   "metadata": {},
   "source": [
    "# 1. Calibrate camera with current video"
   ]
  },
  {
   "cell_type": "code",
   "execution_count": 6,
   "metadata": {},
   "outputs": [],
   "source": [
    "# get first frame of video\n",
    "cap = cv2.VideoCapture(video_path)\n",
    "ret, frame = cap.read()"
   ]
  },
  {
   "cell_type": "code",
   "execution_count": 7,
   "metadata": {},
   "outputs": [
    {
     "name": "stdout",
     "output_type": "stream",
     "text": [
      "Point selected: (485, 215)\n",
      "Point selected: (485, 215)\n",
      "Point selected: (485, 215)\n",
      "Point selected: (485, 215)\n",
      "Point selected: (485, 215)\n",
      "Selected Points: [(485, 215), (485, 215), (485, 215), (485, 215), (485, 215)]\n"
     ]
    }
   ],
   "source": [
    "# Mouse callback function to collect points\n",
    "points=[]\n",
    "cv2.imshow('Select Points', frame)\n",
    "def get_points(event, x, y, flags, param):\n",
    "    if event == cv2.EVENT_LBUTTONDOWN:\n",
    "        points.append((x, y))\n",
    "        print(\"Point selected: ({}, {})\".format(x, y))\n",
    "\n",
    "# Set the mouse callback\n",
    "cv2.setMouseCallback('Select Points', get_points)\n",
    "\n",
    "# Wait for the user to select points\n",
    "cv2.waitKey(0)\n",
    "\n",
    "# Close the image window\n",
    "cv2.destroyAllWindows()\n",
    "\n",
    "# Print the selected points\n",
    "print(\"Selected Points:\", points)"
   ]
  },
  {
   "cell_type": "code",
   "execution_count": 8,
   "metadata": {},
   "outputs": [],
   "source": [
    "points=[(420, 165), (865, 165), (1090, 530), (190, 530), (290, 230), (990, 230)]\n",
    "#plot points on frame\n",
    "for point in points:\n",
    "    cv2.circle(frame, point, 5, (0, 0, 255), -1)\n",
    "cv2.imshow('points',frame)\n",
    "cv2.waitKey(0)\n",
    "\n",
    "# Close the image window\n",
    "cv2.destroyAllWindows()"
   ]
  },
  {
   "cell_type": "code",
   "execution_count": 9,
   "metadata": {},
   "outputs": [],
   "source": [
    "#true coords\n",
    "# top left corner, top right corner, bottom right corner, bottom left corner, pole left, pole right\n",
    "true_coords = [(0,23.77, 0), (10.97,23.77,  0), (10.97,0, 0),(0,0,0), (0.0, 5.485,1.07), (12.32,5.485,1.07)]"
   ]
  },
  {
   "cell_type": "code",
   "execution_count": 10,
   "metadata": {},
   "outputs": [],
   "source": [
    "A = []\n",
    "for i in range(6):\n",
    "    X, Y, Z = true_coords[i]\n",
    "    u, v = points[i]\n",
    "    A.append([X, Y, Z, 1, 0, 0, 0, 0, -u*X, -u*Y, -u*Z, -u])\n",
    "    A.append([0, 0, 0, 0, X, Y, Z, 1, -v*X, -v*Y, -v*Z, -v])\n",
    "A = np.array(A)\n",
    "U, S, V = np.linalg.svd(A)\n",
    "\n",
    "# get last column of V\n",
    "p = V[-1, :]\n",
    "\n",
    "# reshape to \n",
    "M3D = np.reshape(p, (3, 4))\n",
    "\n",
    "a1 = M3D[0, :3]\n",
    "a2 = M3D[1, :3]\n",
    "a3 = M3D[2, :3]\n",
    "b1 = M3D[0, 3]\n",
    "b2 = M3D[1, 3]\n",
    "b3 = M3D[2, 3]\n",
    "\n",
    "rho = 1 / np.linalg.norm(a3)\n",
    "cx = rho**2 * np.dot(a1, a3)\n",
    "cy = rho**2 * np.dot(a2, a3)\n",
    "cos_theta = -np.dot(np.cross(a1, a3), np.cross(a2, a3)) / (np.linalg.norm(np.cross(a1, a3)) * np.linalg.norm(np.cross(a2, a3)))\n",
    "sin_tetha = np.sqrt(1 - cos_theta**2)\n",
    "alpha = rho**2 * np.linalg.norm(np.cross(a1, a3)) * sin_tetha\n",
    "beta = rho**2 * np.linalg.norm(np.cross(a2, a3)) * sin_tetha\n",
    "\n",
    "K = np.array([[alpha, -alpha* (cos_theta/sin_tetha), cx], [0, beta/ sin_tetha, cy], [0, 0, 1]])\n",
    "\n",
    "\n",
    "# get R and T\n",
    "r1 = (np.cross(a2, a3) / np.linalg.norm(np.cross(a2, a3)))\n",
    "r3= rho * a3\n",
    "r2 = np.cross(r3, r1)\n",
    "\n",
    "b = np.array([b1, b2, b3])\n",
    "t = rho* np.linalg.inv(K).dot(b)"
   ]
  },
  {
   "cell_type": "code",
   "execution_count": 11,
   "metadata": {},
   "outputs": [],
   "source": [
    "R = np.array([r1, r2, r3])\n",
    "t = t.reshape(3, 1)\n"
   ]
  },
  {
   "cell_type": "markdown",
   "metadata": {},
   "source": [
    "# Calibrazione Caglioti"
   ]
  },
  {
   "cell_type": "code",
   "execution_count": 12,
   "metadata": {},
   "outputs": [],
   "source": [
    "from court_detector import CourtDetector\n",
    "court_detector = CourtDetector()\n",
    "lines = court_detector.detect(frame)"
   ]
  },
  {
   "cell_type": "code",
   "execution_count": 41,
   "metadata": {},
   "outputs": [
    {
     "name": "stdout",
     "output_type": "stream",
     "text": [
      "[array([[ 3.62781744e-01, -1.21848073e-01,  3.40948040e+02],\n",
      "       [-9.16615003e-04,  3.72768884e-02,  1.28661497e+02],\n",
      "       [-2.01996726e-07, -1.88677784e-04,  1.00000000e+00]])]\n"
     ]
    }
   ],
   "source": [
    "print(court_detector.court_warp_matrix)"
   ]
  },
  {
   "cell_type": "code",
   "execution_count": 13,
   "metadata": {},
   "outputs": [],
   "source": [
    "H= court_detector.court_warp_matrix\n",
    "E=np.array([0.0, 5.485,1.07])\n",
    "F = np.array([12.32,5.485,1.07])"
   ]
  },
  {
   "cell_type": "code",
   "execution_count": 14,
   "metadata": {},
   "outputs": [
    {
     "name": "stdout",
     "output_type": "stream",
     "text": [
      "Image coordinates of E: (340.13162751680613, 128.89857758477274)\n",
      "Image coordinates of F: (344.33594961943675, 128.88961341941453)\n"
     ]
    }
   ],
   "source": [
    "E = [0.0, 5.485,1.07]\n",
    "F =[12.32,5.485,1.07]\n",
    "E = np.array(E)\n",
    "F = np.array(F)\n",
    "\n",
    "# Transforming point E\n",
    "E_transformed = H @ E\n",
    "x_E = E_transformed[0][0] / E_transformed[0][2]\n",
    "y_E = E_transformed[0][1] / E_transformed[0][2]\n",
    "\n",
    "# Transforming point F\n",
    "F_transformed = H @ F\n",
    "x_F = F_transformed[0][0] / F_transformed[0][2]\n",
    "y_F = F_transformed[0][1] / F_transformed[0][2]\n",
    "\n",
    "# Print the results\n",
    "print(f\"Image coordinates of E: ({x_E}, {y_E})\")\n",
    "print(f\"Image coordinates of F: ({x_F}, {y_F})\")"
   ]
  },
  {
   "cell_type": "code",
   "execution_count": 15,
   "metadata": {},
   "outputs": [],
   "source": [
    "# transform in homogeneous coordinates\n",
    "E_prime = np.array([x_E, y_E, 1])\n",
    "F_prime = np.array([x_F, y_F, 1])"
   ]
  },
  {
   "cell_type": "code",
   "execution_count": 16,
   "metadata": {},
   "outputs": [
    {
     "data": {
      "application/vnd.plotly.v1+json": {
       "config": {
        "plotlyServerURL": "https://plot.ly"
       },
       "data": [
        {
         "mode": "markers+lines",
         "name": "Original",
         "type": "scatter3d",
         "x": [
          0,
          12.32
         ],
         "y": [
          5.485,
          5.485
         ],
         "z": [
          1.07,
          1.07
         ]
        },
        {
         "mode": "markers+lines",
         "name": "Transformed",
         "type": "scatter3d",
         "x": [
          340.13162751680613,
          344.33594961943675
         ],
         "y": [
          128.89857758477274,
          128.88961341941453
         ],
         "z": [
          0,
          0
         ]
        }
       ],
       "layout": {
        "scene": {
         "aspectmode": "cube",
         "camera": {
          "eye": {
           "x": 0,
           "y": 0,
           "z": 2
          }
         }
        },
        "template": {
         "data": {
          "bar": [
           {
            "error_x": {
             "color": "#2a3f5f"
            },
            "error_y": {
             "color": "#2a3f5f"
            },
            "marker": {
             "line": {
              "color": "#E5ECF6",
              "width": 0.5
             },
             "pattern": {
              "fillmode": "overlay",
              "size": 10,
              "solidity": 0.2
             }
            },
            "type": "bar"
           }
          ],
          "barpolar": [
           {
            "marker": {
             "line": {
              "color": "#E5ECF6",
              "width": 0.5
             },
             "pattern": {
              "fillmode": "overlay",
              "size": 10,
              "solidity": 0.2
             }
            },
            "type": "barpolar"
           }
          ],
          "carpet": [
           {
            "aaxis": {
             "endlinecolor": "#2a3f5f",
             "gridcolor": "white",
             "linecolor": "white",
             "minorgridcolor": "white",
             "startlinecolor": "#2a3f5f"
            },
            "baxis": {
             "endlinecolor": "#2a3f5f",
             "gridcolor": "white",
             "linecolor": "white",
             "minorgridcolor": "white",
             "startlinecolor": "#2a3f5f"
            },
            "type": "carpet"
           }
          ],
          "choropleth": [
           {
            "colorbar": {
             "outlinewidth": 0,
             "ticks": ""
            },
            "type": "choropleth"
           }
          ],
          "contour": [
           {
            "colorbar": {
             "outlinewidth": 0,
             "ticks": ""
            },
            "colorscale": [
             [
              0,
              "#0d0887"
             ],
             [
              0.1111111111111111,
              "#46039f"
             ],
             [
              0.2222222222222222,
              "#7201a8"
             ],
             [
              0.3333333333333333,
              "#9c179e"
             ],
             [
              0.4444444444444444,
              "#bd3786"
             ],
             [
              0.5555555555555556,
              "#d8576b"
             ],
             [
              0.6666666666666666,
              "#ed7953"
             ],
             [
              0.7777777777777778,
              "#fb9f3a"
             ],
             [
              0.8888888888888888,
              "#fdca26"
             ],
             [
              1,
              "#f0f921"
             ]
            ],
            "type": "contour"
           }
          ],
          "contourcarpet": [
           {
            "colorbar": {
             "outlinewidth": 0,
             "ticks": ""
            },
            "type": "contourcarpet"
           }
          ],
          "heatmap": [
           {
            "colorbar": {
             "outlinewidth": 0,
             "ticks": ""
            },
            "colorscale": [
             [
              0,
              "#0d0887"
             ],
             [
              0.1111111111111111,
              "#46039f"
             ],
             [
              0.2222222222222222,
              "#7201a8"
             ],
             [
              0.3333333333333333,
              "#9c179e"
             ],
             [
              0.4444444444444444,
              "#bd3786"
             ],
             [
              0.5555555555555556,
              "#d8576b"
             ],
             [
              0.6666666666666666,
              "#ed7953"
             ],
             [
              0.7777777777777778,
              "#fb9f3a"
             ],
             [
              0.8888888888888888,
              "#fdca26"
             ],
             [
              1,
              "#f0f921"
             ]
            ],
            "type": "heatmap"
           }
          ],
          "heatmapgl": [
           {
            "colorbar": {
             "outlinewidth": 0,
             "ticks": ""
            },
            "colorscale": [
             [
              0,
              "#0d0887"
             ],
             [
              0.1111111111111111,
              "#46039f"
             ],
             [
              0.2222222222222222,
              "#7201a8"
             ],
             [
              0.3333333333333333,
              "#9c179e"
             ],
             [
              0.4444444444444444,
              "#bd3786"
             ],
             [
              0.5555555555555556,
              "#d8576b"
             ],
             [
              0.6666666666666666,
              "#ed7953"
             ],
             [
              0.7777777777777778,
              "#fb9f3a"
             ],
             [
              0.8888888888888888,
              "#fdca26"
             ],
             [
              1,
              "#f0f921"
             ]
            ],
            "type": "heatmapgl"
           }
          ],
          "histogram": [
           {
            "marker": {
             "pattern": {
              "fillmode": "overlay",
              "size": 10,
              "solidity": 0.2
             }
            },
            "type": "histogram"
           }
          ],
          "histogram2d": [
           {
            "colorbar": {
             "outlinewidth": 0,
             "ticks": ""
            },
            "colorscale": [
             [
              0,
              "#0d0887"
             ],
             [
              0.1111111111111111,
              "#46039f"
             ],
             [
              0.2222222222222222,
              "#7201a8"
             ],
             [
              0.3333333333333333,
              "#9c179e"
             ],
             [
              0.4444444444444444,
              "#bd3786"
             ],
             [
              0.5555555555555556,
              "#d8576b"
             ],
             [
              0.6666666666666666,
              "#ed7953"
             ],
             [
              0.7777777777777778,
              "#fb9f3a"
             ],
             [
              0.8888888888888888,
              "#fdca26"
             ],
             [
              1,
              "#f0f921"
             ]
            ],
            "type": "histogram2d"
           }
          ],
          "histogram2dcontour": [
           {
            "colorbar": {
             "outlinewidth": 0,
             "ticks": ""
            },
            "colorscale": [
             [
              0,
              "#0d0887"
             ],
             [
              0.1111111111111111,
              "#46039f"
             ],
             [
              0.2222222222222222,
              "#7201a8"
             ],
             [
              0.3333333333333333,
              "#9c179e"
             ],
             [
              0.4444444444444444,
              "#bd3786"
             ],
             [
              0.5555555555555556,
              "#d8576b"
             ],
             [
              0.6666666666666666,
              "#ed7953"
             ],
             [
              0.7777777777777778,
              "#fb9f3a"
             ],
             [
              0.8888888888888888,
              "#fdca26"
             ],
             [
              1,
              "#f0f921"
             ]
            ],
            "type": "histogram2dcontour"
           }
          ],
          "mesh3d": [
           {
            "colorbar": {
             "outlinewidth": 0,
             "ticks": ""
            },
            "type": "mesh3d"
           }
          ],
          "parcoords": [
           {
            "line": {
             "colorbar": {
              "outlinewidth": 0,
              "ticks": ""
             }
            },
            "type": "parcoords"
           }
          ],
          "pie": [
           {
            "automargin": true,
            "type": "pie"
           }
          ],
          "scatter": [
           {
            "fillpattern": {
             "fillmode": "overlay",
             "size": 10,
             "solidity": 0.2
            },
            "type": "scatter"
           }
          ],
          "scatter3d": [
           {
            "line": {
             "colorbar": {
              "outlinewidth": 0,
              "ticks": ""
             }
            },
            "marker": {
             "colorbar": {
              "outlinewidth": 0,
              "ticks": ""
             }
            },
            "type": "scatter3d"
           }
          ],
          "scattercarpet": [
           {
            "marker": {
             "colorbar": {
              "outlinewidth": 0,
              "ticks": ""
             }
            },
            "type": "scattercarpet"
           }
          ],
          "scattergeo": [
           {
            "marker": {
             "colorbar": {
              "outlinewidth": 0,
              "ticks": ""
             }
            },
            "type": "scattergeo"
           }
          ],
          "scattergl": [
           {
            "marker": {
             "colorbar": {
              "outlinewidth": 0,
              "ticks": ""
             }
            },
            "type": "scattergl"
           }
          ],
          "scattermapbox": [
           {
            "marker": {
             "colorbar": {
              "outlinewidth": 0,
              "ticks": ""
             }
            },
            "type": "scattermapbox"
           }
          ],
          "scatterpolar": [
           {
            "marker": {
             "colorbar": {
              "outlinewidth": 0,
              "ticks": ""
             }
            },
            "type": "scatterpolar"
           }
          ],
          "scatterpolargl": [
           {
            "marker": {
             "colorbar": {
              "outlinewidth": 0,
              "ticks": ""
             }
            },
            "type": "scatterpolargl"
           }
          ],
          "scatterternary": [
           {
            "marker": {
             "colorbar": {
              "outlinewidth": 0,
              "ticks": ""
             }
            },
            "type": "scatterternary"
           }
          ],
          "surface": [
           {
            "colorbar": {
             "outlinewidth": 0,
             "ticks": ""
            },
            "colorscale": [
             [
              0,
              "#0d0887"
             ],
             [
              0.1111111111111111,
              "#46039f"
             ],
             [
              0.2222222222222222,
              "#7201a8"
             ],
             [
              0.3333333333333333,
              "#9c179e"
             ],
             [
              0.4444444444444444,
              "#bd3786"
             ],
             [
              0.5555555555555556,
              "#d8576b"
             ],
             [
              0.6666666666666666,
              "#ed7953"
             ],
             [
              0.7777777777777778,
              "#fb9f3a"
             ],
             [
              0.8888888888888888,
              "#fdca26"
             ],
             [
              1,
              "#f0f921"
             ]
            ],
            "type": "surface"
           }
          ],
          "table": [
           {
            "cells": {
             "fill": {
              "color": "#EBF0F8"
             },
             "line": {
              "color": "white"
             }
            },
            "header": {
             "fill": {
              "color": "#C8D4E3"
             },
             "line": {
              "color": "white"
             }
            },
            "type": "table"
           }
          ]
         },
         "layout": {
          "annotationdefaults": {
           "arrowcolor": "#2a3f5f",
           "arrowhead": 0,
           "arrowwidth": 1
          },
          "autotypenumbers": "strict",
          "coloraxis": {
           "colorbar": {
            "outlinewidth": 0,
            "ticks": ""
           }
          },
          "colorscale": {
           "diverging": [
            [
             0,
             "#8e0152"
            ],
            [
             0.1,
             "#c51b7d"
            ],
            [
             0.2,
             "#de77ae"
            ],
            [
             0.3,
             "#f1b6da"
            ],
            [
             0.4,
             "#fde0ef"
            ],
            [
             0.5,
             "#f7f7f7"
            ],
            [
             0.6,
             "#e6f5d0"
            ],
            [
             0.7,
             "#b8e186"
            ],
            [
             0.8,
             "#7fbc41"
            ],
            [
             0.9,
             "#4d9221"
            ],
            [
             1,
             "#276419"
            ]
           ],
           "sequential": [
            [
             0,
             "#0d0887"
            ],
            [
             0.1111111111111111,
             "#46039f"
            ],
            [
             0.2222222222222222,
             "#7201a8"
            ],
            [
             0.3333333333333333,
             "#9c179e"
            ],
            [
             0.4444444444444444,
             "#bd3786"
            ],
            [
             0.5555555555555556,
             "#d8576b"
            ],
            [
             0.6666666666666666,
             "#ed7953"
            ],
            [
             0.7777777777777778,
             "#fb9f3a"
            ],
            [
             0.8888888888888888,
             "#fdca26"
            ],
            [
             1,
             "#f0f921"
            ]
           ],
           "sequentialminus": [
            [
             0,
             "#0d0887"
            ],
            [
             0.1111111111111111,
             "#46039f"
            ],
            [
             0.2222222222222222,
             "#7201a8"
            ],
            [
             0.3333333333333333,
             "#9c179e"
            ],
            [
             0.4444444444444444,
             "#bd3786"
            ],
            [
             0.5555555555555556,
             "#d8576b"
            ],
            [
             0.6666666666666666,
             "#ed7953"
            ],
            [
             0.7777777777777778,
             "#fb9f3a"
            ],
            [
             0.8888888888888888,
             "#fdca26"
            ],
            [
             1,
             "#f0f921"
            ]
           ]
          },
          "colorway": [
           "#636efa",
           "#EF553B",
           "#00cc96",
           "#ab63fa",
           "#FFA15A",
           "#19d3f3",
           "#FF6692",
           "#B6E880",
           "#FF97FF",
           "#FECB52"
          ],
          "font": {
           "color": "#2a3f5f"
          },
          "geo": {
           "bgcolor": "white",
           "lakecolor": "white",
           "landcolor": "#E5ECF6",
           "showlakes": true,
           "showland": true,
           "subunitcolor": "white"
          },
          "hoverlabel": {
           "align": "left"
          },
          "hovermode": "closest",
          "mapbox": {
           "style": "light"
          },
          "paper_bgcolor": "white",
          "plot_bgcolor": "#E5ECF6",
          "polar": {
           "angularaxis": {
            "gridcolor": "white",
            "linecolor": "white",
            "ticks": ""
           },
           "bgcolor": "#E5ECF6",
           "radialaxis": {
            "gridcolor": "white",
            "linecolor": "white",
            "ticks": ""
           }
          },
          "scene": {
           "xaxis": {
            "backgroundcolor": "#E5ECF6",
            "gridcolor": "white",
            "gridwidth": 2,
            "linecolor": "white",
            "showbackground": true,
            "ticks": "",
            "zerolinecolor": "white"
           },
           "yaxis": {
            "backgroundcolor": "#E5ECF6",
            "gridcolor": "white",
            "gridwidth": 2,
            "linecolor": "white",
            "showbackground": true,
            "ticks": "",
            "zerolinecolor": "white"
           },
           "zaxis": {
            "backgroundcolor": "#E5ECF6",
            "gridcolor": "white",
            "gridwidth": 2,
            "linecolor": "white",
            "showbackground": true,
            "ticks": "",
            "zerolinecolor": "white"
           }
          },
          "shapedefaults": {
           "line": {
            "color": "#2a3f5f"
           }
          },
          "ternary": {
           "aaxis": {
            "gridcolor": "white",
            "linecolor": "white",
            "ticks": ""
           },
           "baxis": {
            "gridcolor": "white",
            "linecolor": "white",
            "ticks": ""
           },
           "bgcolor": "#E5ECF6",
           "caxis": {
            "gridcolor": "white",
            "linecolor": "white",
            "ticks": ""
           }
          },
          "title": {
           "x": 0.05
          },
          "xaxis": {
           "automargin": true,
           "gridcolor": "white",
           "linecolor": "white",
           "ticks": "",
           "title": {
            "standoff": 15
           },
           "zerolinecolor": "white",
           "zerolinewidth": 2
          },
          "yaxis": {
           "automargin": true,
           "gridcolor": "white",
           "linecolor": "white",
           "ticks": "",
           "title": {
            "standoff": 15
           },
           "zerolinecolor": "white",
           "zerolinewidth": 2
          }
         }
        }
       }
      }
     },
     "metadata": {},
     "output_type": "display_data"
    }
   ],
   "source": [
    "# plot in 3d E, F x_e X_f\n",
    "fig = go.Figure()\n",
    "fig.add_trace(go.Scatter3d(x=[E[0], F[0]], y=[E[1], F[1]], z=[E[2], F[2]], mode='markers+lines', name='Original'))\n",
    "fig.add_trace(go.Scatter3d(x=[E_prime[0], F_prime[0]], y=[E_prime[1], F_prime[1]], z=[0,0], mode='markers+lines', name='Transformed'))\n",
    "fig.update_layout(scene=dict(aspectmode='cube'))\n",
    "# add zoom\n",
    "fig.update_layout(scene_camera_eye=dict(x=0, y=0, z=2))\n",
    "\n",
    "fig.show()"
   ]
  },
  {
   "cell_type": "code",
   "execution_count": 17,
   "metadata": {},
   "outputs": [
    {
     "data": {
      "text/plain": [
       "array([554924.49177326, 207226.56392795,   1032.34460892])"
      ]
     },
     "execution_count": 17,
     "metadata": {},
     "output_type": "execute_result"
    }
   ],
   "source": [
    "# find line intercepting E and E_prime\n",
    "line1 = np.cross(E, E_prime)\n",
    "line2 = np.cross(F, F_prime)\n",
    "O = np.cross(line1, line2)\n",
    "O"
   ]
  },
  {
   "cell_type": "code",
   "execution_count": 18,
   "metadata": {},
   "outputs": [
    {
     "ename": "ValueError",
     "evalue": "cannot reshape array of size 3 into shape (3,3)",
     "output_type": "error",
     "traceback": [
      "\u001b[0;31m---------------------------------------------------------------------------\u001b[0m",
      "\u001b[0;31mValueError\u001b[0m                                Traceback (most recent call last)",
      "Cell \u001b[0;32mIn[18], line 38\u001b[0m\n\u001b[1;32m     35\u001b[0m \u001b[38;5;66;03m# Decompose homography to intrinsic and extrinsic parameters\u001b[39;00m\n\u001b[1;32m     36\u001b[0m \u001b[38;5;66;03m# See Zhang's method or Hartley and Zisserman \"Multiple View Geometry\"\u001b[39;00m\n\u001b[1;32m     37\u001b[0m _, _, Vt \u001b[38;5;241m=\u001b[39m np\u001b[38;5;241m.\u001b[39mlinalg\u001b[38;5;241m.\u001b[39msvd(H_normalized)\n\u001b[0;32m---> 38\u001b[0m H_3x3 \u001b[38;5;241m=\u001b[39m Vt[\u001b[38;5;241m-\u001b[39m\u001b[38;5;241m1\u001b[39m]\u001b[38;5;241m.\u001b[39mreshape((\u001b[38;5;241m3\u001b[39m, \u001b[38;5;241m3\u001b[39m))\n\u001b[1;32m     40\u001b[0m \u001b[38;5;66;03m# Intrinsic parameters\u001b[39;00m\n\u001b[1;32m     41\u001b[0m K, R \u001b[38;5;241m=\u001b[39m np\u001b[38;5;241m.\u001b[39mlinalg\u001b[38;5;241m.\u001b[39mqr(np\u001b[38;5;241m.\u001b[39mlinalg\u001b[38;5;241m.\u001b[39minv(H_3x3))\n",
      "\u001b[0;31mValueError\u001b[0m: cannot reshape array of size 3 into shape (3,3)"
     ]
    }
   ],
   "source": [
    "# Image points (u, v) and corresponding ground plane points (x, y)\n",
    "image_points = np.array([\n",
    "    [420, 530], [860, 530], [1090, 165], [200, 165]\n",
    "])\n",
    "ground_points = np.array([\n",
    "    [91,2377], [1188,2377], [1188,0],[91,0]\n",
    "])\n",
    "\n",
    "# Compute the homography H\n",
    "H, _ = cv2.findHomography(ground_points, image_points)\n",
    "\n",
    "# Real-world coordinates of the tops of the net posts\n",
    "E_top = np.array([0,  1188, 107])\n",
    "F_top = np.array([1279,1188, 107])\n",
    "\n",
    "# Transform to ground plane using H\n",
    "E_ground = H @ E_top\n",
    "E_ground /= E_ground[2]\n",
    "F_ground = H @ F_top\n",
    "F_ground /= F_ground[2]\n",
    "\n",
    "# Find the camera center by intersecting the lines (E, E') and (F, F')\n",
    "# Represent the lines in homogeneous coordinates\n",
    "line_E = np.cross(E_top, E_ground)\n",
    "line_F = np.cross(F_top, F_ground)\n",
    "\n",
    "# Camera center O is the intersection of these lines\n",
    "O = np.cross(line_E, line_F)\n",
    "O /= O[2]\n",
    "\n",
    "# Compute intrinsic and extrinsic parameters\n",
    "# Normalize the homography matrix\n",
    "H_normalized = H / np.linalg.norm(H[:, 0])\n",
    "\n",
    "# Decompose homography to intrinsic and extrinsic parameters\n",
    "# See Zhang's method or Hartley and Zisserman \"Multiple View Geometry\"\n",
    "_, _, Vt = np.linalg.svd(H_normalized)\n",
    "H_3x3 = Vt[-1].reshape((3, 3))\n",
    "\n",
    "# Intrinsic parameters\n",
    "K, R = np.linalg.qr(np.linalg.inv(H_3x3))\n",
    "K = np.linalg.inv(K)\n",
    "K /= K[2, 2]  # Normalize\n",
    "\n",
    "# Extrinsic parameters\n",
    "t = np.dot(np.linalg.inv(K), H[:, 2])\n",
    "\n",
    "# Print the results\n",
    "print(\"Homography Matrix (H):\")\n",
    "print(H)\n",
    "print(\"\\nCamera Center (O):\")\n",
    "print(O)\n",
    "print(\"\\nIntrinsic Matrix (K):\")\n",
    "print(K)\n",
    "print(\"\\nRotation Matrix (R):\")\n",
    "print(R)\n",
    "print(\"\\nTranslation Vector (t):\")\n",
    "print(t)"
   ]
  },
  {
   "cell_type": "code",
   "execution_count": 19,
   "metadata": {},
   "outputs": [
    {
     "data": {
      "application/vnd.plotly.v1+json": {
       "config": {
        "plotlyServerURL": "https://plot.ly"
       },
       "data": [
        {
         "mode": "markers+lines",
         "name": "Original",
         "type": "scatter3d",
         "x": [
          0,
          1279
         ],
         "y": [
          1188,
          1188
         ],
         "z": [
          107,
          107
         ]
        },
        {
         "mode": "markers+lines",
         "name": "Transformed",
         "type": "scatter3d",
         "x": [
          128.59106773081456,
          138.24269234325592
         ],
         "y": [
          168.4321317608021,
          168.4321317608021
         ],
         "z": [
          0,
          0
         ]
        },
        {
         "mode": "lines",
         "name": "Line E",
         "type": "scatter3d",
         "x": [
          0,
          128.59106773081456
         ],
         "y": [
          1188,
          168.4321317608021
         ],
         "z": [
          107,
          0
         ]
        },
        {
         "mode": "lines",
         "name": "Line F",
         "type": "scatter3d",
         "x": [
          1279,
          138.24269234325592
         ],
         "y": [
          1188,
          168.4321317608021
         ],
         "z": [
          107,
          0
         ]
        }
       ],
       "layout": {
        "scene": {
         "aspectmode": "cube",
         "camera": {
          "eye": {
           "x": 0,
           "y": 0,
           "z": 2
          }
         }
        },
        "template": {
         "data": {
          "bar": [
           {
            "error_x": {
             "color": "#2a3f5f"
            },
            "error_y": {
             "color": "#2a3f5f"
            },
            "marker": {
             "line": {
              "color": "#E5ECF6",
              "width": 0.5
             },
             "pattern": {
              "fillmode": "overlay",
              "size": 10,
              "solidity": 0.2
             }
            },
            "type": "bar"
           }
          ],
          "barpolar": [
           {
            "marker": {
             "line": {
              "color": "#E5ECF6",
              "width": 0.5
             },
             "pattern": {
              "fillmode": "overlay",
              "size": 10,
              "solidity": 0.2
             }
            },
            "type": "barpolar"
           }
          ],
          "carpet": [
           {
            "aaxis": {
             "endlinecolor": "#2a3f5f",
             "gridcolor": "white",
             "linecolor": "white",
             "minorgridcolor": "white",
             "startlinecolor": "#2a3f5f"
            },
            "baxis": {
             "endlinecolor": "#2a3f5f",
             "gridcolor": "white",
             "linecolor": "white",
             "minorgridcolor": "white",
             "startlinecolor": "#2a3f5f"
            },
            "type": "carpet"
           }
          ],
          "choropleth": [
           {
            "colorbar": {
             "outlinewidth": 0,
             "ticks": ""
            },
            "type": "choropleth"
           }
          ],
          "contour": [
           {
            "colorbar": {
             "outlinewidth": 0,
             "ticks": ""
            },
            "colorscale": [
             [
              0,
              "#0d0887"
             ],
             [
              0.1111111111111111,
              "#46039f"
             ],
             [
              0.2222222222222222,
              "#7201a8"
             ],
             [
              0.3333333333333333,
              "#9c179e"
             ],
             [
              0.4444444444444444,
              "#bd3786"
             ],
             [
              0.5555555555555556,
              "#d8576b"
             ],
             [
              0.6666666666666666,
              "#ed7953"
             ],
             [
              0.7777777777777778,
              "#fb9f3a"
             ],
             [
              0.8888888888888888,
              "#fdca26"
             ],
             [
              1,
              "#f0f921"
             ]
            ],
            "type": "contour"
           }
          ],
          "contourcarpet": [
           {
            "colorbar": {
             "outlinewidth": 0,
             "ticks": ""
            },
            "type": "contourcarpet"
           }
          ],
          "heatmap": [
           {
            "colorbar": {
             "outlinewidth": 0,
             "ticks": ""
            },
            "colorscale": [
             [
              0,
              "#0d0887"
             ],
             [
              0.1111111111111111,
              "#46039f"
             ],
             [
              0.2222222222222222,
              "#7201a8"
             ],
             [
              0.3333333333333333,
              "#9c179e"
             ],
             [
              0.4444444444444444,
              "#bd3786"
             ],
             [
              0.5555555555555556,
              "#d8576b"
             ],
             [
              0.6666666666666666,
              "#ed7953"
             ],
             [
              0.7777777777777778,
              "#fb9f3a"
             ],
             [
              0.8888888888888888,
              "#fdca26"
             ],
             [
              1,
              "#f0f921"
             ]
            ],
            "type": "heatmap"
           }
          ],
          "heatmapgl": [
           {
            "colorbar": {
             "outlinewidth": 0,
             "ticks": ""
            },
            "colorscale": [
             [
              0,
              "#0d0887"
             ],
             [
              0.1111111111111111,
              "#46039f"
             ],
             [
              0.2222222222222222,
              "#7201a8"
             ],
             [
              0.3333333333333333,
              "#9c179e"
             ],
             [
              0.4444444444444444,
              "#bd3786"
             ],
             [
              0.5555555555555556,
              "#d8576b"
             ],
             [
              0.6666666666666666,
              "#ed7953"
             ],
             [
              0.7777777777777778,
              "#fb9f3a"
             ],
             [
              0.8888888888888888,
              "#fdca26"
             ],
             [
              1,
              "#f0f921"
             ]
            ],
            "type": "heatmapgl"
           }
          ],
          "histogram": [
           {
            "marker": {
             "pattern": {
              "fillmode": "overlay",
              "size": 10,
              "solidity": 0.2
             }
            },
            "type": "histogram"
           }
          ],
          "histogram2d": [
           {
            "colorbar": {
             "outlinewidth": 0,
             "ticks": ""
            },
            "colorscale": [
             [
              0,
              "#0d0887"
             ],
             [
              0.1111111111111111,
              "#46039f"
             ],
             [
              0.2222222222222222,
              "#7201a8"
             ],
             [
              0.3333333333333333,
              "#9c179e"
             ],
             [
              0.4444444444444444,
              "#bd3786"
             ],
             [
              0.5555555555555556,
              "#d8576b"
             ],
             [
              0.6666666666666666,
              "#ed7953"
             ],
             [
              0.7777777777777778,
              "#fb9f3a"
             ],
             [
              0.8888888888888888,
              "#fdca26"
             ],
             [
              1,
              "#f0f921"
             ]
            ],
            "type": "histogram2d"
           }
          ],
          "histogram2dcontour": [
           {
            "colorbar": {
             "outlinewidth": 0,
             "ticks": ""
            },
            "colorscale": [
             [
              0,
              "#0d0887"
             ],
             [
              0.1111111111111111,
              "#46039f"
             ],
             [
              0.2222222222222222,
              "#7201a8"
             ],
             [
              0.3333333333333333,
              "#9c179e"
             ],
             [
              0.4444444444444444,
              "#bd3786"
             ],
             [
              0.5555555555555556,
              "#d8576b"
             ],
             [
              0.6666666666666666,
              "#ed7953"
             ],
             [
              0.7777777777777778,
              "#fb9f3a"
             ],
             [
              0.8888888888888888,
              "#fdca26"
             ],
             [
              1,
              "#f0f921"
             ]
            ],
            "type": "histogram2dcontour"
           }
          ],
          "mesh3d": [
           {
            "colorbar": {
             "outlinewidth": 0,
             "ticks": ""
            },
            "type": "mesh3d"
           }
          ],
          "parcoords": [
           {
            "line": {
             "colorbar": {
              "outlinewidth": 0,
              "ticks": ""
             }
            },
            "type": "parcoords"
           }
          ],
          "pie": [
           {
            "automargin": true,
            "type": "pie"
           }
          ],
          "scatter": [
           {
            "fillpattern": {
             "fillmode": "overlay",
             "size": 10,
             "solidity": 0.2
            },
            "type": "scatter"
           }
          ],
          "scatter3d": [
           {
            "line": {
             "colorbar": {
              "outlinewidth": 0,
              "ticks": ""
             }
            },
            "marker": {
             "colorbar": {
              "outlinewidth": 0,
              "ticks": ""
             }
            },
            "type": "scatter3d"
           }
          ],
          "scattercarpet": [
           {
            "marker": {
             "colorbar": {
              "outlinewidth": 0,
              "ticks": ""
             }
            },
            "type": "scattercarpet"
           }
          ],
          "scattergeo": [
           {
            "marker": {
             "colorbar": {
              "outlinewidth": 0,
              "ticks": ""
             }
            },
            "type": "scattergeo"
           }
          ],
          "scattergl": [
           {
            "marker": {
             "colorbar": {
              "outlinewidth": 0,
              "ticks": ""
             }
            },
            "type": "scattergl"
           }
          ],
          "scattermapbox": [
           {
            "marker": {
             "colorbar": {
              "outlinewidth": 0,
              "ticks": ""
             }
            },
            "type": "scattermapbox"
           }
          ],
          "scatterpolar": [
           {
            "marker": {
             "colorbar": {
              "outlinewidth": 0,
              "ticks": ""
             }
            },
            "type": "scatterpolar"
           }
          ],
          "scatterpolargl": [
           {
            "marker": {
             "colorbar": {
              "outlinewidth": 0,
              "ticks": ""
             }
            },
            "type": "scatterpolargl"
           }
          ],
          "scatterternary": [
           {
            "marker": {
             "colorbar": {
              "outlinewidth": 0,
              "ticks": ""
             }
            },
            "type": "scatterternary"
           }
          ],
          "surface": [
           {
            "colorbar": {
             "outlinewidth": 0,
             "ticks": ""
            },
            "colorscale": [
             [
              0,
              "#0d0887"
             ],
             [
              0.1111111111111111,
              "#46039f"
             ],
             [
              0.2222222222222222,
              "#7201a8"
             ],
             [
              0.3333333333333333,
              "#9c179e"
             ],
             [
              0.4444444444444444,
              "#bd3786"
             ],
             [
              0.5555555555555556,
              "#d8576b"
             ],
             [
              0.6666666666666666,
              "#ed7953"
             ],
             [
              0.7777777777777778,
              "#fb9f3a"
             ],
             [
              0.8888888888888888,
              "#fdca26"
             ],
             [
              1,
              "#f0f921"
             ]
            ],
            "type": "surface"
           }
          ],
          "table": [
           {
            "cells": {
             "fill": {
              "color": "#EBF0F8"
             },
             "line": {
              "color": "white"
             }
            },
            "header": {
             "fill": {
              "color": "#C8D4E3"
             },
             "line": {
              "color": "white"
             }
            },
            "type": "table"
           }
          ]
         },
         "layout": {
          "annotationdefaults": {
           "arrowcolor": "#2a3f5f",
           "arrowhead": 0,
           "arrowwidth": 1
          },
          "autotypenumbers": "strict",
          "coloraxis": {
           "colorbar": {
            "outlinewidth": 0,
            "ticks": ""
           }
          },
          "colorscale": {
           "diverging": [
            [
             0,
             "#8e0152"
            ],
            [
             0.1,
             "#c51b7d"
            ],
            [
             0.2,
             "#de77ae"
            ],
            [
             0.3,
             "#f1b6da"
            ],
            [
             0.4,
             "#fde0ef"
            ],
            [
             0.5,
             "#f7f7f7"
            ],
            [
             0.6,
             "#e6f5d0"
            ],
            [
             0.7,
             "#b8e186"
            ],
            [
             0.8,
             "#7fbc41"
            ],
            [
             0.9,
             "#4d9221"
            ],
            [
             1,
             "#276419"
            ]
           ],
           "sequential": [
            [
             0,
             "#0d0887"
            ],
            [
             0.1111111111111111,
             "#46039f"
            ],
            [
             0.2222222222222222,
             "#7201a8"
            ],
            [
             0.3333333333333333,
             "#9c179e"
            ],
            [
             0.4444444444444444,
             "#bd3786"
            ],
            [
             0.5555555555555556,
             "#d8576b"
            ],
            [
             0.6666666666666666,
             "#ed7953"
            ],
            [
             0.7777777777777778,
             "#fb9f3a"
            ],
            [
             0.8888888888888888,
             "#fdca26"
            ],
            [
             1,
             "#f0f921"
            ]
           ],
           "sequentialminus": [
            [
             0,
             "#0d0887"
            ],
            [
             0.1111111111111111,
             "#46039f"
            ],
            [
             0.2222222222222222,
             "#7201a8"
            ],
            [
             0.3333333333333333,
             "#9c179e"
            ],
            [
             0.4444444444444444,
             "#bd3786"
            ],
            [
             0.5555555555555556,
             "#d8576b"
            ],
            [
             0.6666666666666666,
             "#ed7953"
            ],
            [
             0.7777777777777778,
             "#fb9f3a"
            ],
            [
             0.8888888888888888,
             "#fdca26"
            ],
            [
             1,
             "#f0f921"
            ]
           ]
          },
          "colorway": [
           "#636efa",
           "#EF553B",
           "#00cc96",
           "#ab63fa",
           "#FFA15A",
           "#19d3f3",
           "#FF6692",
           "#B6E880",
           "#FF97FF",
           "#FECB52"
          ],
          "font": {
           "color": "#2a3f5f"
          },
          "geo": {
           "bgcolor": "white",
           "lakecolor": "white",
           "landcolor": "#E5ECF6",
           "showlakes": true,
           "showland": true,
           "subunitcolor": "white"
          },
          "hoverlabel": {
           "align": "left"
          },
          "hovermode": "closest",
          "mapbox": {
           "style": "light"
          },
          "paper_bgcolor": "white",
          "plot_bgcolor": "#E5ECF6",
          "polar": {
           "angularaxis": {
            "gridcolor": "white",
            "linecolor": "white",
            "ticks": ""
           },
           "bgcolor": "#E5ECF6",
           "radialaxis": {
            "gridcolor": "white",
            "linecolor": "white",
            "ticks": ""
           }
          },
          "scene": {
           "xaxis": {
            "backgroundcolor": "#E5ECF6",
            "gridcolor": "white",
            "gridwidth": 2,
            "linecolor": "white",
            "showbackground": true,
            "ticks": "",
            "zerolinecolor": "white"
           },
           "yaxis": {
            "backgroundcolor": "#E5ECF6",
            "gridcolor": "white",
            "gridwidth": 2,
            "linecolor": "white",
            "showbackground": true,
            "ticks": "",
            "zerolinecolor": "white"
           },
           "zaxis": {
            "backgroundcolor": "#E5ECF6",
            "gridcolor": "white",
            "gridwidth": 2,
            "linecolor": "white",
            "showbackground": true,
            "ticks": "",
            "zerolinecolor": "white"
           }
          },
          "shapedefaults": {
           "line": {
            "color": "#2a3f5f"
           }
          },
          "ternary": {
           "aaxis": {
            "gridcolor": "white",
            "linecolor": "white",
            "ticks": ""
           },
           "baxis": {
            "gridcolor": "white",
            "linecolor": "white",
            "ticks": ""
           },
           "bgcolor": "#E5ECF6",
           "caxis": {
            "gridcolor": "white",
            "linecolor": "white",
            "ticks": ""
           }
          },
          "title": {
           "x": 0.05
          },
          "xaxis": {
           "automargin": true,
           "gridcolor": "white",
           "linecolor": "white",
           "ticks": "",
           "title": {
            "standoff": 15
           },
           "zerolinecolor": "white",
           "zerolinewidth": 2
          },
          "yaxis": {
           "automargin": true,
           "gridcolor": "white",
           "linecolor": "white",
           "ticks": "",
           "title": {
            "standoff": 15
           },
           "zerolinecolor": "white",
           "zerolinewidth": 2
          }
         }
        }
       }
      }
     },
     "metadata": {},
     "output_type": "display_data"
    }
   ],
   "source": [
    "# plot in 3d E, F x_e X_f\n",
    "fig = go.Figure()\n",
    "fig.add_trace(go.Scatter3d(x=[E_top[0], F_top[0]], y=[E_top[1], F_top[1]], z=[107, 107], mode='markers+lines', name='Original'))\n",
    "fig.add_trace(go.Scatter3d(x=[E_ground[0], F_ground[0]], y=[E_ground[1], F_ground[1]], z=[0,0], mode='markers+lines', name='Transformed'))\n",
    "#fig.add_trace(go.Scatter3d(x=[O[0]], y=[O[1]], z=[O[2]], mode='markers', name='Intersection'))\n",
    "# scatter line e\n",
    "fig.add_trace(go.Scatter3d(x=[E_top[0], E_ground[0]], y=[E_top[1], E_ground[1]], z=[107, 0], mode='lines', name='Line E'))\n",
    "fig.add_trace(go.Scatter3d(x=[F_top[0], F_ground[0]], y=[F_top[1], F_ground[1]], z=[107, 0], mode='lines', name='Line F'))\n",
    "fig.update_layout(scene=dict(aspectmode='cube'))\n",
    "# add zoom\n",
    "fig.update_layout(scene_camera_eye=dict(x=0, y=0, z=2))\n",
    "\n",
    "fig.show()"
   ]
  },
  {
   "cell_type": "code",
   "execution_count": 74,
   "metadata": {},
   "outputs": [
    {
     "data": {
      "application/vnd.plotly.v1+json": {
       "config": {
        "plotlyServerURL": "https://plot.ly"
       },
       "data": [
        {
         "mode": "markers",
         "name": "Image Points",
         "type": "scatter",
         "x": [
          420,
          860,
          1090,
          200
         ],
         "y": [
          530,
          530,
          165,
          165
         ]
        }
       ],
       "layout": {
        "template": {
         "data": {
          "bar": [
           {
            "error_x": {
             "color": "#2a3f5f"
            },
            "error_y": {
             "color": "#2a3f5f"
            },
            "marker": {
             "line": {
              "color": "#E5ECF6",
              "width": 0.5
             },
             "pattern": {
              "fillmode": "overlay",
              "size": 10,
              "solidity": 0.2
             }
            },
            "type": "bar"
           }
          ],
          "barpolar": [
           {
            "marker": {
             "line": {
              "color": "#E5ECF6",
              "width": 0.5
             },
             "pattern": {
              "fillmode": "overlay",
              "size": 10,
              "solidity": 0.2
             }
            },
            "type": "barpolar"
           }
          ],
          "carpet": [
           {
            "aaxis": {
             "endlinecolor": "#2a3f5f",
             "gridcolor": "white",
             "linecolor": "white",
             "minorgridcolor": "white",
             "startlinecolor": "#2a3f5f"
            },
            "baxis": {
             "endlinecolor": "#2a3f5f",
             "gridcolor": "white",
             "linecolor": "white",
             "minorgridcolor": "white",
             "startlinecolor": "#2a3f5f"
            },
            "type": "carpet"
           }
          ],
          "choropleth": [
           {
            "colorbar": {
             "outlinewidth": 0,
             "ticks": ""
            },
            "type": "choropleth"
           }
          ],
          "contour": [
           {
            "colorbar": {
             "outlinewidth": 0,
             "ticks": ""
            },
            "colorscale": [
             [
              0,
              "#0d0887"
             ],
             [
              0.1111111111111111,
              "#46039f"
             ],
             [
              0.2222222222222222,
              "#7201a8"
             ],
             [
              0.3333333333333333,
              "#9c179e"
             ],
             [
              0.4444444444444444,
              "#bd3786"
             ],
             [
              0.5555555555555556,
              "#d8576b"
             ],
             [
              0.6666666666666666,
              "#ed7953"
             ],
             [
              0.7777777777777778,
              "#fb9f3a"
             ],
             [
              0.8888888888888888,
              "#fdca26"
             ],
             [
              1,
              "#f0f921"
             ]
            ],
            "type": "contour"
           }
          ],
          "contourcarpet": [
           {
            "colorbar": {
             "outlinewidth": 0,
             "ticks": ""
            },
            "type": "contourcarpet"
           }
          ],
          "heatmap": [
           {
            "colorbar": {
             "outlinewidth": 0,
             "ticks": ""
            },
            "colorscale": [
             [
              0,
              "#0d0887"
             ],
             [
              0.1111111111111111,
              "#46039f"
             ],
             [
              0.2222222222222222,
              "#7201a8"
             ],
             [
              0.3333333333333333,
              "#9c179e"
             ],
             [
              0.4444444444444444,
              "#bd3786"
             ],
             [
              0.5555555555555556,
              "#d8576b"
             ],
             [
              0.6666666666666666,
              "#ed7953"
             ],
             [
              0.7777777777777778,
              "#fb9f3a"
             ],
             [
              0.8888888888888888,
              "#fdca26"
             ],
             [
              1,
              "#f0f921"
             ]
            ],
            "type": "heatmap"
           }
          ],
          "heatmapgl": [
           {
            "colorbar": {
             "outlinewidth": 0,
             "ticks": ""
            },
            "colorscale": [
             [
              0,
              "#0d0887"
             ],
             [
              0.1111111111111111,
              "#46039f"
             ],
             [
              0.2222222222222222,
              "#7201a8"
             ],
             [
              0.3333333333333333,
              "#9c179e"
             ],
             [
              0.4444444444444444,
              "#bd3786"
             ],
             [
              0.5555555555555556,
              "#d8576b"
             ],
             [
              0.6666666666666666,
              "#ed7953"
             ],
             [
              0.7777777777777778,
              "#fb9f3a"
             ],
             [
              0.8888888888888888,
              "#fdca26"
             ],
             [
              1,
              "#f0f921"
             ]
            ],
            "type": "heatmapgl"
           }
          ],
          "histogram": [
           {
            "marker": {
             "pattern": {
              "fillmode": "overlay",
              "size": 10,
              "solidity": 0.2
             }
            },
            "type": "histogram"
           }
          ],
          "histogram2d": [
           {
            "colorbar": {
             "outlinewidth": 0,
             "ticks": ""
            },
            "colorscale": [
             [
              0,
              "#0d0887"
             ],
             [
              0.1111111111111111,
              "#46039f"
             ],
             [
              0.2222222222222222,
              "#7201a8"
             ],
             [
              0.3333333333333333,
              "#9c179e"
             ],
             [
              0.4444444444444444,
              "#bd3786"
             ],
             [
              0.5555555555555556,
              "#d8576b"
             ],
             [
              0.6666666666666666,
              "#ed7953"
             ],
             [
              0.7777777777777778,
              "#fb9f3a"
             ],
             [
              0.8888888888888888,
              "#fdca26"
             ],
             [
              1,
              "#f0f921"
             ]
            ],
            "type": "histogram2d"
           }
          ],
          "histogram2dcontour": [
           {
            "colorbar": {
             "outlinewidth": 0,
             "ticks": ""
            },
            "colorscale": [
             [
              0,
              "#0d0887"
             ],
             [
              0.1111111111111111,
              "#46039f"
             ],
             [
              0.2222222222222222,
              "#7201a8"
             ],
             [
              0.3333333333333333,
              "#9c179e"
             ],
             [
              0.4444444444444444,
              "#bd3786"
             ],
             [
              0.5555555555555556,
              "#d8576b"
             ],
             [
              0.6666666666666666,
              "#ed7953"
             ],
             [
              0.7777777777777778,
              "#fb9f3a"
             ],
             [
              0.8888888888888888,
              "#fdca26"
             ],
             [
              1,
              "#f0f921"
             ]
            ],
            "type": "histogram2dcontour"
           }
          ],
          "mesh3d": [
           {
            "colorbar": {
             "outlinewidth": 0,
             "ticks": ""
            },
            "type": "mesh3d"
           }
          ],
          "parcoords": [
           {
            "line": {
             "colorbar": {
              "outlinewidth": 0,
              "ticks": ""
             }
            },
            "type": "parcoords"
           }
          ],
          "pie": [
           {
            "automargin": true,
            "type": "pie"
           }
          ],
          "scatter": [
           {
            "fillpattern": {
             "fillmode": "overlay",
             "size": 10,
             "solidity": 0.2
            },
            "type": "scatter"
           }
          ],
          "scatter3d": [
           {
            "line": {
             "colorbar": {
              "outlinewidth": 0,
              "ticks": ""
             }
            },
            "marker": {
             "colorbar": {
              "outlinewidth": 0,
              "ticks": ""
             }
            },
            "type": "scatter3d"
           }
          ],
          "scattercarpet": [
           {
            "marker": {
             "colorbar": {
              "outlinewidth": 0,
              "ticks": ""
             }
            },
            "type": "scattercarpet"
           }
          ],
          "scattergeo": [
           {
            "marker": {
             "colorbar": {
              "outlinewidth": 0,
              "ticks": ""
             }
            },
            "type": "scattergeo"
           }
          ],
          "scattergl": [
           {
            "marker": {
             "colorbar": {
              "outlinewidth": 0,
              "ticks": ""
             }
            },
            "type": "scattergl"
           }
          ],
          "scattermapbox": [
           {
            "marker": {
             "colorbar": {
              "outlinewidth": 0,
              "ticks": ""
             }
            },
            "type": "scattermapbox"
           }
          ],
          "scatterpolar": [
           {
            "marker": {
             "colorbar": {
              "outlinewidth": 0,
              "ticks": ""
             }
            },
            "type": "scatterpolar"
           }
          ],
          "scatterpolargl": [
           {
            "marker": {
             "colorbar": {
              "outlinewidth": 0,
              "ticks": ""
             }
            },
            "type": "scatterpolargl"
           }
          ],
          "scatterternary": [
           {
            "marker": {
             "colorbar": {
              "outlinewidth": 0,
              "ticks": ""
             }
            },
            "type": "scatterternary"
           }
          ],
          "surface": [
           {
            "colorbar": {
             "outlinewidth": 0,
             "ticks": ""
            },
            "colorscale": [
             [
              0,
              "#0d0887"
             ],
             [
              0.1111111111111111,
              "#46039f"
             ],
             [
              0.2222222222222222,
              "#7201a8"
             ],
             [
              0.3333333333333333,
              "#9c179e"
             ],
             [
              0.4444444444444444,
              "#bd3786"
             ],
             [
              0.5555555555555556,
              "#d8576b"
             ],
             [
              0.6666666666666666,
              "#ed7953"
             ],
             [
              0.7777777777777778,
              "#fb9f3a"
             ],
             [
              0.8888888888888888,
              "#fdca26"
             ],
             [
              1,
              "#f0f921"
             ]
            ],
            "type": "surface"
           }
          ],
          "table": [
           {
            "cells": {
             "fill": {
              "color": "#EBF0F8"
             },
             "line": {
              "color": "white"
             }
            },
            "header": {
             "fill": {
              "color": "#C8D4E3"
             },
             "line": {
              "color": "white"
             }
            },
            "type": "table"
           }
          ]
         },
         "layout": {
          "annotationdefaults": {
           "arrowcolor": "#2a3f5f",
           "arrowhead": 0,
           "arrowwidth": 1
          },
          "autotypenumbers": "strict",
          "coloraxis": {
           "colorbar": {
            "outlinewidth": 0,
            "ticks": ""
           }
          },
          "colorscale": {
           "diverging": [
            [
             0,
             "#8e0152"
            ],
            [
             0.1,
             "#c51b7d"
            ],
            [
             0.2,
             "#de77ae"
            ],
            [
             0.3,
             "#f1b6da"
            ],
            [
             0.4,
             "#fde0ef"
            ],
            [
             0.5,
             "#f7f7f7"
            ],
            [
             0.6,
             "#e6f5d0"
            ],
            [
             0.7,
             "#b8e186"
            ],
            [
             0.8,
             "#7fbc41"
            ],
            [
             0.9,
             "#4d9221"
            ],
            [
             1,
             "#276419"
            ]
           ],
           "sequential": [
            [
             0,
             "#0d0887"
            ],
            [
             0.1111111111111111,
             "#46039f"
            ],
            [
             0.2222222222222222,
             "#7201a8"
            ],
            [
             0.3333333333333333,
             "#9c179e"
            ],
            [
             0.4444444444444444,
             "#bd3786"
            ],
            [
             0.5555555555555556,
             "#d8576b"
            ],
            [
             0.6666666666666666,
             "#ed7953"
            ],
            [
             0.7777777777777778,
             "#fb9f3a"
            ],
            [
             0.8888888888888888,
             "#fdca26"
            ],
            [
             1,
             "#f0f921"
            ]
           ],
           "sequentialminus": [
            [
             0,
             "#0d0887"
            ],
            [
             0.1111111111111111,
             "#46039f"
            ],
            [
             0.2222222222222222,
             "#7201a8"
            ],
            [
             0.3333333333333333,
             "#9c179e"
            ],
            [
             0.4444444444444444,
             "#bd3786"
            ],
            [
             0.5555555555555556,
             "#d8576b"
            ],
            [
             0.6666666666666666,
             "#ed7953"
            ],
            [
             0.7777777777777778,
             "#fb9f3a"
            ],
            [
             0.8888888888888888,
             "#fdca26"
            ],
            [
             1,
             "#f0f921"
            ]
           ]
          },
          "colorway": [
           "#636efa",
           "#EF553B",
           "#00cc96",
           "#ab63fa",
           "#FFA15A",
           "#19d3f3",
           "#FF6692",
           "#B6E880",
           "#FF97FF",
           "#FECB52"
          ],
          "font": {
           "color": "#2a3f5f"
          },
          "geo": {
           "bgcolor": "white",
           "lakecolor": "white",
           "landcolor": "#E5ECF6",
           "showlakes": true,
           "showland": true,
           "subunitcolor": "white"
          },
          "hoverlabel": {
           "align": "left"
          },
          "hovermode": "closest",
          "mapbox": {
           "style": "light"
          },
          "paper_bgcolor": "white",
          "plot_bgcolor": "#E5ECF6",
          "polar": {
           "angularaxis": {
            "gridcolor": "white",
            "linecolor": "white",
            "ticks": ""
           },
           "bgcolor": "#E5ECF6",
           "radialaxis": {
            "gridcolor": "white",
            "linecolor": "white",
            "ticks": ""
           }
          },
          "scene": {
           "xaxis": {
            "backgroundcolor": "#E5ECF6",
            "gridcolor": "white",
            "gridwidth": 2,
            "linecolor": "white",
            "showbackground": true,
            "ticks": "",
            "zerolinecolor": "white"
           },
           "yaxis": {
            "backgroundcolor": "#E5ECF6",
            "gridcolor": "white",
            "gridwidth": 2,
            "linecolor": "white",
            "showbackground": true,
            "ticks": "",
            "zerolinecolor": "white"
           },
           "zaxis": {
            "backgroundcolor": "#E5ECF6",
            "gridcolor": "white",
            "gridwidth": 2,
            "linecolor": "white",
            "showbackground": true,
            "ticks": "",
            "zerolinecolor": "white"
           }
          },
          "shapedefaults": {
           "line": {
            "color": "#2a3f5f"
           }
          },
          "ternary": {
           "aaxis": {
            "gridcolor": "white",
            "linecolor": "white",
            "ticks": ""
           },
           "baxis": {
            "gridcolor": "white",
            "linecolor": "white",
            "ticks": ""
           },
           "bgcolor": "#E5ECF6",
           "caxis": {
            "gridcolor": "white",
            "linecolor": "white",
            "ticks": ""
           }
          },
          "title": {
           "x": 0.05
          },
          "xaxis": {
           "automargin": true,
           "gridcolor": "white",
           "linecolor": "white",
           "ticks": "",
           "title": {
            "standoff": 15
           },
           "zerolinecolor": "white",
           "zerolinewidth": 2
          },
          "yaxis": {
           "automargin": true,
           "gridcolor": "white",
           "linecolor": "white",
           "ticks": "",
           "title": {
            "standoff": 15
           },
           "zerolinecolor": "white",
           "zerolinewidth": 2
          }
         }
        }
       }
      }
     },
     "metadata": {},
     "output_type": "display_data"
    }
   ],
   "source": [
    "# scatter image points\n",
    "fig = go.Figure()\n",
    "fig.add_trace(go.Scatter(x=image_points[:, 0], y=image_points[:, 1], mode='markers', name='Image Points'))"
   ]
  },
  {
   "cell_type": "code",
   "execution_count": 21,
   "metadata": {},
   "outputs": [
    {
     "data": {
      "text/plain": [
       "array([[ 1.00326986e+00, -7.07316462e-01, -9.87672263e+00],\n",
       "       [ 0.00000000e+00,  2.62059634e+00, -4.32398396e+02],\n",
       "       [-1.48478174e-19, -1.12753696e-03,  1.00000000e+00]])"
      ]
     },
     "execution_count": 21,
     "metadata": {},
     "output_type": "execute_result"
    }
   ],
   "source": [
    "image_points= np.float32(image_points)\n",
    "ground_points= np.float32(ground_points)\n",
    "M = cv2.getPerspectiveTransform(image_points,ground_points)\n",
    "M"
   ]
  },
  {
   "cell_type": "code",
   "execution_count": 22,
   "metadata": {},
   "outputs": [
    {
     "data": {
      "text/plain": [
       "array([[ 8.11303555e-01,  2.73262707e-01,  1.26171376e+02],\n",
       "       [-1.49653295e-17,  3.81592535e-01,  1.65000000e+02],\n",
       "       [-4.30656963e-20,  4.30259686e-04,  1.00000000e+00]])"
      ]
     },
     "execution_count": 22,
     "metadata": {},
     "output_type": "execute_result"
    }
   ],
   "source": [
    "H"
   ]
  },
  {
   "cell_type": "code",
   "execution_count": 23,
   "metadata": {},
   "outputs": [],
   "source": [
    "transformed_points = np.dot(M, np.stack([image_points[:, 0], image_points[:, 1], np.ones(image_points.shape[0])]))"
   ]
  },
  {
   "cell_type": "code",
   "execution_count": 24,
   "metadata": {},
   "outputs": [],
   "source": [
    "transformed_points /= transformed_points[2]"
   ]
  },
  {
   "cell_type": "code",
   "execution_count": 25,
   "metadata": {},
   "outputs": [
    {
     "data": {
      "text/plain": [
       "array([[9.100e+01, 1.188e+03, 1.188e+03, 9.100e+01],\n",
       "       [2.377e+03, 2.377e+03, 0.000e+00, 0.000e+00],\n",
       "       [1.000e+00, 1.000e+00, 1.000e+00, 1.000e+00]])"
      ]
     },
     "execution_count": 25,
     "metadata": {},
     "output_type": "execute_result"
    }
   ],
   "source": [
    "transformed_points"
   ]
  },
  {
   "cell_type": "code",
   "execution_count": 54,
   "metadata": {},
   "outputs": [
    {
     "data": {
      "application/vnd.plotly.v1+json": {
       "config": {
        "plotlyServerURL": "https://plot.ly"
       },
       "data": [
        {
         "mode": "markers",
         "name": "Image Points",
         "type": "scatter",
         "x": [
          420,
          860,
          1090,
          200
         ],
         "y": [
          530,
          530,
          165,
          165
         ]
        },
        {
         "mode": "markers",
         "name": "Transformed Points",
         "type": "scatter",
         "x": [
          90.99999999999991,
          1187.9999999999998,
          1188,
          90.99999999999999
         ],
         "y": [
          2376.9999999999995,
          2377.0000000000005,
          0,
          0
         ]
        }
       ],
       "layout": {
        "template": {
         "data": {
          "bar": [
           {
            "error_x": {
             "color": "#2a3f5f"
            },
            "error_y": {
             "color": "#2a3f5f"
            },
            "marker": {
             "line": {
              "color": "#E5ECF6",
              "width": 0.5
             },
             "pattern": {
              "fillmode": "overlay",
              "size": 10,
              "solidity": 0.2
             }
            },
            "type": "bar"
           }
          ],
          "barpolar": [
           {
            "marker": {
             "line": {
              "color": "#E5ECF6",
              "width": 0.5
             },
             "pattern": {
              "fillmode": "overlay",
              "size": 10,
              "solidity": 0.2
             }
            },
            "type": "barpolar"
           }
          ],
          "carpet": [
           {
            "aaxis": {
             "endlinecolor": "#2a3f5f",
             "gridcolor": "white",
             "linecolor": "white",
             "minorgridcolor": "white",
             "startlinecolor": "#2a3f5f"
            },
            "baxis": {
             "endlinecolor": "#2a3f5f",
             "gridcolor": "white",
             "linecolor": "white",
             "minorgridcolor": "white",
             "startlinecolor": "#2a3f5f"
            },
            "type": "carpet"
           }
          ],
          "choropleth": [
           {
            "colorbar": {
             "outlinewidth": 0,
             "ticks": ""
            },
            "type": "choropleth"
           }
          ],
          "contour": [
           {
            "colorbar": {
             "outlinewidth": 0,
             "ticks": ""
            },
            "colorscale": [
             [
              0,
              "#0d0887"
             ],
             [
              0.1111111111111111,
              "#46039f"
             ],
             [
              0.2222222222222222,
              "#7201a8"
             ],
             [
              0.3333333333333333,
              "#9c179e"
             ],
             [
              0.4444444444444444,
              "#bd3786"
             ],
             [
              0.5555555555555556,
              "#d8576b"
             ],
             [
              0.6666666666666666,
              "#ed7953"
             ],
             [
              0.7777777777777778,
              "#fb9f3a"
             ],
             [
              0.8888888888888888,
              "#fdca26"
             ],
             [
              1,
              "#f0f921"
             ]
            ],
            "type": "contour"
           }
          ],
          "contourcarpet": [
           {
            "colorbar": {
             "outlinewidth": 0,
             "ticks": ""
            },
            "type": "contourcarpet"
           }
          ],
          "heatmap": [
           {
            "colorbar": {
             "outlinewidth": 0,
             "ticks": ""
            },
            "colorscale": [
             [
              0,
              "#0d0887"
             ],
             [
              0.1111111111111111,
              "#46039f"
             ],
             [
              0.2222222222222222,
              "#7201a8"
             ],
             [
              0.3333333333333333,
              "#9c179e"
             ],
             [
              0.4444444444444444,
              "#bd3786"
             ],
             [
              0.5555555555555556,
              "#d8576b"
             ],
             [
              0.6666666666666666,
              "#ed7953"
             ],
             [
              0.7777777777777778,
              "#fb9f3a"
             ],
             [
              0.8888888888888888,
              "#fdca26"
             ],
             [
              1,
              "#f0f921"
             ]
            ],
            "type": "heatmap"
           }
          ],
          "heatmapgl": [
           {
            "colorbar": {
             "outlinewidth": 0,
             "ticks": ""
            },
            "colorscale": [
             [
              0,
              "#0d0887"
             ],
             [
              0.1111111111111111,
              "#46039f"
             ],
             [
              0.2222222222222222,
              "#7201a8"
             ],
             [
              0.3333333333333333,
              "#9c179e"
             ],
             [
              0.4444444444444444,
              "#bd3786"
             ],
             [
              0.5555555555555556,
              "#d8576b"
             ],
             [
              0.6666666666666666,
              "#ed7953"
             ],
             [
              0.7777777777777778,
              "#fb9f3a"
             ],
             [
              0.8888888888888888,
              "#fdca26"
             ],
             [
              1,
              "#f0f921"
             ]
            ],
            "type": "heatmapgl"
           }
          ],
          "histogram": [
           {
            "marker": {
             "pattern": {
              "fillmode": "overlay",
              "size": 10,
              "solidity": 0.2
             }
            },
            "type": "histogram"
           }
          ],
          "histogram2d": [
           {
            "colorbar": {
             "outlinewidth": 0,
             "ticks": ""
            },
            "colorscale": [
             [
              0,
              "#0d0887"
             ],
             [
              0.1111111111111111,
              "#46039f"
             ],
             [
              0.2222222222222222,
              "#7201a8"
             ],
             [
              0.3333333333333333,
              "#9c179e"
             ],
             [
              0.4444444444444444,
              "#bd3786"
             ],
             [
              0.5555555555555556,
              "#d8576b"
             ],
             [
              0.6666666666666666,
              "#ed7953"
             ],
             [
              0.7777777777777778,
              "#fb9f3a"
             ],
             [
              0.8888888888888888,
              "#fdca26"
             ],
             [
              1,
              "#f0f921"
             ]
            ],
            "type": "histogram2d"
           }
          ],
          "histogram2dcontour": [
           {
            "colorbar": {
             "outlinewidth": 0,
             "ticks": ""
            },
            "colorscale": [
             [
              0,
              "#0d0887"
             ],
             [
              0.1111111111111111,
              "#46039f"
             ],
             [
              0.2222222222222222,
              "#7201a8"
             ],
             [
              0.3333333333333333,
              "#9c179e"
             ],
             [
              0.4444444444444444,
              "#bd3786"
             ],
             [
              0.5555555555555556,
              "#d8576b"
             ],
             [
              0.6666666666666666,
              "#ed7953"
             ],
             [
              0.7777777777777778,
              "#fb9f3a"
             ],
             [
              0.8888888888888888,
              "#fdca26"
             ],
             [
              1,
              "#f0f921"
             ]
            ],
            "type": "histogram2dcontour"
           }
          ],
          "mesh3d": [
           {
            "colorbar": {
             "outlinewidth": 0,
             "ticks": ""
            },
            "type": "mesh3d"
           }
          ],
          "parcoords": [
           {
            "line": {
             "colorbar": {
              "outlinewidth": 0,
              "ticks": ""
             }
            },
            "type": "parcoords"
           }
          ],
          "pie": [
           {
            "automargin": true,
            "type": "pie"
           }
          ],
          "scatter": [
           {
            "fillpattern": {
             "fillmode": "overlay",
             "size": 10,
             "solidity": 0.2
            },
            "type": "scatter"
           }
          ],
          "scatter3d": [
           {
            "line": {
             "colorbar": {
              "outlinewidth": 0,
              "ticks": ""
             }
            },
            "marker": {
             "colorbar": {
              "outlinewidth": 0,
              "ticks": ""
             }
            },
            "type": "scatter3d"
           }
          ],
          "scattercarpet": [
           {
            "marker": {
             "colorbar": {
              "outlinewidth": 0,
              "ticks": ""
             }
            },
            "type": "scattercarpet"
           }
          ],
          "scattergeo": [
           {
            "marker": {
             "colorbar": {
              "outlinewidth": 0,
              "ticks": ""
             }
            },
            "type": "scattergeo"
           }
          ],
          "scattergl": [
           {
            "marker": {
             "colorbar": {
              "outlinewidth": 0,
              "ticks": ""
             }
            },
            "type": "scattergl"
           }
          ],
          "scattermapbox": [
           {
            "marker": {
             "colorbar": {
              "outlinewidth": 0,
              "ticks": ""
             }
            },
            "type": "scattermapbox"
           }
          ],
          "scatterpolar": [
           {
            "marker": {
             "colorbar": {
              "outlinewidth": 0,
              "ticks": ""
             }
            },
            "type": "scatterpolar"
           }
          ],
          "scatterpolargl": [
           {
            "marker": {
             "colorbar": {
              "outlinewidth": 0,
              "ticks": ""
             }
            },
            "type": "scatterpolargl"
           }
          ],
          "scatterternary": [
           {
            "marker": {
             "colorbar": {
              "outlinewidth": 0,
              "ticks": ""
             }
            },
            "type": "scatterternary"
           }
          ],
          "surface": [
           {
            "colorbar": {
             "outlinewidth": 0,
             "ticks": ""
            },
            "colorscale": [
             [
              0,
              "#0d0887"
             ],
             [
              0.1111111111111111,
              "#46039f"
             ],
             [
              0.2222222222222222,
              "#7201a8"
             ],
             [
              0.3333333333333333,
              "#9c179e"
             ],
             [
              0.4444444444444444,
              "#bd3786"
             ],
             [
              0.5555555555555556,
              "#d8576b"
             ],
             [
              0.6666666666666666,
              "#ed7953"
             ],
             [
              0.7777777777777778,
              "#fb9f3a"
             ],
             [
              0.8888888888888888,
              "#fdca26"
             ],
             [
              1,
              "#f0f921"
             ]
            ],
            "type": "surface"
           }
          ],
          "table": [
           {
            "cells": {
             "fill": {
              "color": "#EBF0F8"
             },
             "line": {
              "color": "white"
             }
            },
            "header": {
             "fill": {
              "color": "#C8D4E3"
             },
             "line": {
              "color": "white"
             }
            },
            "type": "table"
           }
          ]
         },
         "layout": {
          "annotationdefaults": {
           "arrowcolor": "#2a3f5f",
           "arrowhead": 0,
           "arrowwidth": 1
          },
          "autotypenumbers": "strict",
          "coloraxis": {
           "colorbar": {
            "outlinewidth": 0,
            "ticks": ""
           }
          },
          "colorscale": {
           "diverging": [
            [
             0,
             "#8e0152"
            ],
            [
             0.1,
             "#c51b7d"
            ],
            [
             0.2,
             "#de77ae"
            ],
            [
             0.3,
             "#f1b6da"
            ],
            [
             0.4,
             "#fde0ef"
            ],
            [
             0.5,
             "#f7f7f7"
            ],
            [
             0.6,
             "#e6f5d0"
            ],
            [
             0.7,
             "#b8e186"
            ],
            [
             0.8,
             "#7fbc41"
            ],
            [
             0.9,
             "#4d9221"
            ],
            [
             1,
             "#276419"
            ]
           ],
           "sequential": [
            [
             0,
             "#0d0887"
            ],
            [
             0.1111111111111111,
             "#46039f"
            ],
            [
             0.2222222222222222,
             "#7201a8"
            ],
            [
             0.3333333333333333,
             "#9c179e"
            ],
            [
             0.4444444444444444,
             "#bd3786"
            ],
            [
             0.5555555555555556,
             "#d8576b"
            ],
            [
             0.6666666666666666,
             "#ed7953"
            ],
            [
             0.7777777777777778,
             "#fb9f3a"
            ],
            [
             0.8888888888888888,
             "#fdca26"
            ],
            [
             1,
             "#f0f921"
            ]
           ],
           "sequentialminus": [
            [
             0,
             "#0d0887"
            ],
            [
             0.1111111111111111,
             "#46039f"
            ],
            [
             0.2222222222222222,
             "#7201a8"
            ],
            [
             0.3333333333333333,
             "#9c179e"
            ],
            [
             0.4444444444444444,
             "#bd3786"
            ],
            [
             0.5555555555555556,
             "#d8576b"
            ],
            [
             0.6666666666666666,
             "#ed7953"
            ],
            [
             0.7777777777777778,
             "#fb9f3a"
            ],
            [
             0.8888888888888888,
             "#fdca26"
            ],
            [
             1,
             "#f0f921"
            ]
           ]
          },
          "colorway": [
           "#636efa",
           "#EF553B",
           "#00cc96",
           "#ab63fa",
           "#FFA15A",
           "#19d3f3",
           "#FF6692",
           "#B6E880",
           "#FF97FF",
           "#FECB52"
          ],
          "font": {
           "color": "#2a3f5f"
          },
          "geo": {
           "bgcolor": "white",
           "lakecolor": "white",
           "landcolor": "#E5ECF6",
           "showlakes": true,
           "showland": true,
           "subunitcolor": "white"
          },
          "hoverlabel": {
           "align": "left"
          },
          "hovermode": "closest",
          "mapbox": {
           "style": "light"
          },
          "paper_bgcolor": "white",
          "plot_bgcolor": "#E5ECF6",
          "polar": {
           "angularaxis": {
            "gridcolor": "white",
            "linecolor": "white",
            "ticks": ""
           },
           "bgcolor": "#E5ECF6",
           "radialaxis": {
            "gridcolor": "white",
            "linecolor": "white",
            "ticks": ""
           }
          },
          "scene": {
           "xaxis": {
            "backgroundcolor": "#E5ECF6",
            "gridcolor": "white",
            "gridwidth": 2,
            "linecolor": "white",
            "showbackground": true,
            "ticks": "",
            "zerolinecolor": "white"
           },
           "yaxis": {
            "backgroundcolor": "#E5ECF6",
            "gridcolor": "white",
            "gridwidth": 2,
            "linecolor": "white",
            "showbackground": true,
            "ticks": "",
            "zerolinecolor": "white"
           },
           "zaxis": {
            "backgroundcolor": "#E5ECF6",
            "gridcolor": "white",
            "gridwidth": 2,
            "linecolor": "white",
            "showbackground": true,
            "ticks": "",
            "zerolinecolor": "white"
           }
          },
          "shapedefaults": {
           "line": {
            "color": "#2a3f5f"
           }
          },
          "ternary": {
           "aaxis": {
            "gridcolor": "white",
            "linecolor": "white",
            "ticks": ""
           },
           "baxis": {
            "gridcolor": "white",
            "linecolor": "white",
            "ticks": ""
           },
           "bgcolor": "#E5ECF6",
           "caxis": {
            "gridcolor": "white",
            "linecolor": "white",
            "ticks": ""
           }
          },
          "title": {
           "x": 0.05
          },
          "xaxis": {
           "automargin": true,
           "gridcolor": "white",
           "linecolor": "white",
           "ticks": "",
           "title": {
            "standoff": 15
           },
           "zerolinecolor": "white",
           "zerolinewidth": 2
          },
          "yaxis": {
           "automargin": true,
           "gridcolor": "white",
           "linecolor": "white",
           "ticks": "",
           "title": {
            "standoff": 15
           },
           "zerolinecolor": "white",
           "zerolinewidth": 2
          }
         }
        }
       }
      }
     },
     "metadata": {},
     "output_type": "display_data"
    }
   ],
   "source": [
    "fig.add_trace(go.Scatter(x=transformed_points[0], y=transformed_points[1], mode='markers', name='Transformed Points'))"
   ]
  },
  {
   "cell_type": "code",
   "execution_count": 27,
   "metadata": {},
   "outputs": [],
   "source": [
    "# apply M to E and F\n",
    "E_image = np.float32([290, 720-230]) \n",
    "F_image= np.float32([990, 720-230])\n",
    "E_transformed = np.dot(M, np.array([E_image[0], E_image[1], 1]))\n",
    "E_transformed /= E_transformed[2]\n",
    "\n",
    "F_transformed = np.dot(M, np.array([F_image[0], F_image[1], 1]))\n",
    "F_transformed /= F_transformed[2]"
   ]
  },
  {
   "cell_type": "code",
   "execution_count": 28,
   "metadata": {},
   "outputs": [
    {
     "data": {
      "application/vnd.plotly.v1+json": {
       "config": {
        "plotlyServerURL": "https://plot.ly"
       },
       "data": [
        {
         "mode": "markers",
         "name": "Image Points",
         "type": "scatter",
         "x": [
          420,
          860,
          1090,
          200
         ],
         "y": [
          530,
          530,
          165,
          165
         ]
        },
        {
         "mode": "markers",
         "name": "Transformed Points",
         "type": "scatter",
         "x": [
          90.99999999999991,
          1187.9999999999998,
          1188,
          90.99999999999999
         ],
         "y": [
          2376.9999999999995,
          2377.0000000000005,
          0,
          0
         ]
        },
        {
         "mode": "markers",
         "name": "E, F",
         "type": "scatter",
         "x": [
          290,
          990
         ],
         "y": [
          490,
          490
         ]
        },
        {
         "mode": "markers",
         "name": "Transformed E, F",
         "type": "scatter",
         "x": [
          -146.39669652855548,
          1422.939809630459
         ],
         "y": [
          1903.1970884658458,
          1903.1970884658463
         ]
        }
       ],
       "layout": {
        "template": {
         "data": {
          "bar": [
           {
            "error_x": {
             "color": "#2a3f5f"
            },
            "error_y": {
             "color": "#2a3f5f"
            },
            "marker": {
             "line": {
              "color": "#E5ECF6",
              "width": 0.5
             },
             "pattern": {
              "fillmode": "overlay",
              "size": 10,
              "solidity": 0.2
             }
            },
            "type": "bar"
           }
          ],
          "barpolar": [
           {
            "marker": {
             "line": {
              "color": "#E5ECF6",
              "width": 0.5
             },
             "pattern": {
              "fillmode": "overlay",
              "size": 10,
              "solidity": 0.2
             }
            },
            "type": "barpolar"
           }
          ],
          "carpet": [
           {
            "aaxis": {
             "endlinecolor": "#2a3f5f",
             "gridcolor": "white",
             "linecolor": "white",
             "minorgridcolor": "white",
             "startlinecolor": "#2a3f5f"
            },
            "baxis": {
             "endlinecolor": "#2a3f5f",
             "gridcolor": "white",
             "linecolor": "white",
             "minorgridcolor": "white",
             "startlinecolor": "#2a3f5f"
            },
            "type": "carpet"
           }
          ],
          "choropleth": [
           {
            "colorbar": {
             "outlinewidth": 0,
             "ticks": ""
            },
            "type": "choropleth"
           }
          ],
          "contour": [
           {
            "colorbar": {
             "outlinewidth": 0,
             "ticks": ""
            },
            "colorscale": [
             [
              0,
              "#0d0887"
             ],
             [
              0.1111111111111111,
              "#46039f"
             ],
             [
              0.2222222222222222,
              "#7201a8"
             ],
             [
              0.3333333333333333,
              "#9c179e"
             ],
             [
              0.4444444444444444,
              "#bd3786"
             ],
             [
              0.5555555555555556,
              "#d8576b"
             ],
             [
              0.6666666666666666,
              "#ed7953"
             ],
             [
              0.7777777777777778,
              "#fb9f3a"
             ],
             [
              0.8888888888888888,
              "#fdca26"
             ],
             [
              1,
              "#f0f921"
             ]
            ],
            "type": "contour"
           }
          ],
          "contourcarpet": [
           {
            "colorbar": {
             "outlinewidth": 0,
             "ticks": ""
            },
            "type": "contourcarpet"
           }
          ],
          "heatmap": [
           {
            "colorbar": {
             "outlinewidth": 0,
             "ticks": ""
            },
            "colorscale": [
             [
              0,
              "#0d0887"
             ],
             [
              0.1111111111111111,
              "#46039f"
             ],
             [
              0.2222222222222222,
              "#7201a8"
             ],
             [
              0.3333333333333333,
              "#9c179e"
             ],
             [
              0.4444444444444444,
              "#bd3786"
             ],
             [
              0.5555555555555556,
              "#d8576b"
             ],
             [
              0.6666666666666666,
              "#ed7953"
             ],
             [
              0.7777777777777778,
              "#fb9f3a"
             ],
             [
              0.8888888888888888,
              "#fdca26"
             ],
             [
              1,
              "#f0f921"
             ]
            ],
            "type": "heatmap"
           }
          ],
          "heatmapgl": [
           {
            "colorbar": {
             "outlinewidth": 0,
             "ticks": ""
            },
            "colorscale": [
             [
              0,
              "#0d0887"
             ],
             [
              0.1111111111111111,
              "#46039f"
             ],
             [
              0.2222222222222222,
              "#7201a8"
             ],
             [
              0.3333333333333333,
              "#9c179e"
             ],
             [
              0.4444444444444444,
              "#bd3786"
             ],
             [
              0.5555555555555556,
              "#d8576b"
             ],
             [
              0.6666666666666666,
              "#ed7953"
             ],
             [
              0.7777777777777778,
              "#fb9f3a"
             ],
             [
              0.8888888888888888,
              "#fdca26"
             ],
             [
              1,
              "#f0f921"
             ]
            ],
            "type": "heatmapgl"
           }
          ],
          "histogram": [
           {
            "marker": {
             "pattern": {
              "fillmode": "overlay",
              "size": 10,
              "solidity": 0.2
             }
            },
            "type": "histogram"
           }
          ],
          "histogram2d": [
           {
            "colorbar": {
             "outlinewidth": 0,
             "ticks": ""
            },
            "colorscale": [
             [
              0,
              "#0d0887"
             ],
             [
              0.1111111111111111,
              "#46039f"
             ],
             [
              0.2222222222222222,
              "#7201a8"
             ],
             [
              0.3333333333333333,
              "#9c179e"
             ],
             [
              0.4444444444444444,
              "#bd3786"
             ],
             [
              0.5555555555555556,
              "#d8576b"
             ],
             [
              0.6666666666666666,
              "#ed7953"
             ],
             [
              0.7777777777777778,
              "#fb9f3a"
             ],
             [
              0.8888888888888888,
              "#fdca26"
             ],
             [
              1,
              "#f0f921"
             ]
            ],
            "type": "histogram2d"
           }
          ],
          "histogram2dcontour": [
           {
            "colorbar": {
             "outlinewidth": 0,
             "ticks": ""
            },
            "colorscale": [
             [
              0,
              "#0d0887"
             ],
             [
              0.1111111111111111,
              "#46039f"
             ],
             [
              0.2222222222222222,
              "#7201a8"
             ],
             [
              0.3333333333333333,
              "#9c179e"
             ],
             [
              0.4444444444444444,
              "#bd3786"
             ],
             [
              0.5555555555555556,
              "#d8576b"
             ],
             [
              0.6666666666666666,
              "#ed7953"
             ],
             [
              0.7777777777777778,
              "#fb9f3a"
             ],
             [
              0.8888888888888888,
              "#fdca26"
             ],
             [
              1,
              "#f0f921"
             ]
            ],
            "type": "histogram2dcontour"
           }
          ],
          "mesh3d": [
           {
            "colorbar": {
             "outlinewidth": 0,
             "ticks": ""
            },
            "type": "mesh3d"
           }
          ],
          "parcoords": [
           {
            "line": {
             "colorbar": {
              "outlinewidth": 0,
              "ticks": ""
             }
            },
            "type": "parcoords"
           }
          ],
          "pie": [
           {
            "automargin": true,
            "type": "pie"
           }
          ],
          "scatter": [
           {
            "fillpattern": {
             "fillmode": "overlay",
             "size": 10,
             "solidity": 0.2
            },
            "type": "scatter"
           }
          ],
          "scatter3d": [
           {
            "line": {
             "colorbar": {
              "outlinewidth": 0,
              "ticks": ""
             }
            },
            "marker": {
             "colorbar": {
              "outlinewidth": 0,
              "ticks": ""
             }
            },
            "type": "scatter3d"
           }
          ],
          "scattercarpet": [
           {
            "marker": {
             "colorbar": {
              "outlinewidth": 0,
              "ticks": ""
             }
            },
            "type": "scattercarpet"
           }
          ],
          "scattergeo": [
           {
            "marker": {
             "colorbar": {
              "outlinewidth": 0,
              "ticks": ""
             }
            },
            "type": "scattergeo"
           }
          ],
          "scattergl": [
           {
            "marker": {
             "colorbar": {
              "outlinewidth": 0,
              "ticks": ""
             }
            },
            "type": "scattergl"
           }
          ],
          "scattermapbox": [
           {
            "marker": {
             "colorbar": {
              "outlinewidth": 0,
              "ticks": ""
             }
            },
            "type": "scattermapbox"
           }
          ],
          "scatterpolar": [
           {
            "marker": {
             "colorbar": {
              "outlinewidth": 0,
              "ticks": ""
             }
            },
            "type": "scatterpolar"
           }
          ],
          "scatterpolargl": [
           {
            "marker": {
             "colorbar": {
              "outlinewidth": 0,
              "ticks": ""
             }
            },
            "type": "scatterpolargl"
           }
          ],
          "scatterternary": [
           {
            "marker": {
             "colorbar": {
              "outlinewidth": 0,
              "ticks": ""
             }
            },
            "type": "scatterternary"
           }
          ],
          "surface": [
           {
            "colorbar": {
             "outlinewidth": 0,
             "ticks": ""
            },
            "colorscale": [
             [
              0,
              "#0d0887"
             ],
             [
              0.1111111111111111,
              "#46039f"
             ],
             [
              0.2222222222222222,
              "#7201a8"
             ],
             [
              0.3333333333333333,
              "#9c179e"
             ],
             [
              0.4444444444444444,
              "#bd3786"
             ],
             [
              0.5555555555555556,
              "#d8576b"
             ],
             [
              0.6666666666666666,
              "#ed7953"
             ],
             [
              0.7777777777777778,
              "#fb9f3a"
             ],
             [
              0.8888888888888888,
              "#fdca26"
             ],
             [
              1,
              "#f0f921"
             ]
            ],
            "type": "surface"
           }
          ],
          "table": [
           {
            "cells": {
             "fill": {
              "color": "#EBF0F8"
             },
             "line": {
              "color": "white"
             }
            },
            "header": {
             "fill": {
              "color": "#C8D4E3"
             },
             "line": {
              "color": "white"
             }
            },
            "type": "table"
           }
          ]
         },
         "layout": {
          "annotationdefaults": {
           "arrowcolor": "#2a3f5f",
           "arrowhead": 0,
           "arrowwidth": 1
          },
          "autotypenumbers": "strict",
          "coloraxis": {
           "colorbar": {
            "outlinewidth": 0,
            "ticks": ""
           }
          },
          "colorscale": {
           "diverging": [
            [
             0,
             "#8e0152"
            ],
            [
             0.1,
             "#c51b7d"
            ],
            [
             0.2,
             "#de77ae"
            ],
            [
             0.3,
             "#f1b6da"
            ],
            [
             0.4,
             "#fde0ef"
            ],
            [
             0.5,
             "#f7f7f7"
            ],
            [
             0.6,
             "#e6f5d0"
            ],
            [
             0.7,
             "#b8e186"
            ],
            [
             0.8,
             "#7fbc41"
            ],
            [
             0.9,
             "#4d9221"
            ],
            [
             1,
             "#276419"
            ]
           ],
           "sequential": [
            [
             0,
             "#0d0887"
            ],
            [
             0.1111111111111111,
             "#46039f"
            ],
            [
             0.2222222222222222,
             "#7201a8"
            ],
            [
             0.3333333333333333,
             "#9c179e"
            ],
            [
             0.4444444444444444,
             "#bd3786"
            ],
            [
             0.5555555555555556,
             "#d8576b"
            ],
            [
             0.6666666666666666,
             "#ed7953"
            ],
            [
             0.7777777777777778,
             "#fb9f3a"
            ],
            [
             0.8888888888888888,
             "#fdca26"
            ],
            [
             1,
             "#f0f921"
            ]
           ],
           "sequentialminus": [
            [
             0,
             "#0d0887"
            ],
            [
             0.1111111111111111,
             "#46039f"
            ],
            [
             0.2222222222222222,
             "#7201a8"
            ],
            [
             0.3333333333333333,
             "#9c179e"
            ],
            [
             0.4444444444444444,
             "#bd3786"
            ],
            [
             0.5555555555555556,
             "#d8576b"
            ],
            [
             0.6666666666666666,
             "#ed7953"
            ],
            [
             0.7777777777777778,
             "#fb9f3a"
            ],
            [
             0.8888888888888888,
             "#fdca26"
            ],
            [
             1,
             "#f0f921"
            ]
           ]
          },
          "colorway": [
           "#636efa",
           "#EF553B",
           "#00cc96",
           "#ab63fa",
           "#FFA15A",
           "#19d3f3",
           "#FF6692",
           "#B6E880",
           "#FF97FF",
           "#FECB52"
          ],
          "font": {
           "color": "#2a3f5f"
          },
          "geo": {
           "bgcolor": "white",
           "lakecolor": "white",
           "landcolor": "#E5ECF6",
           "showlakes": true,
           "showland": true,
           "subunitcolor": "white"
          },
          "hoverlabel": {
           "align": "left"
          },
          "hovermode": "closest",
          "mapbox": {
           "style": "light"
          },
          "paper_bgcolor": "white",
          "plot_bgcolor": "#E5ECF6",
          "polar": {
           "angularaxis": {
            "gridcolor": "white",
            "linecolor": "white",
            "ticks": ""
           },
           "bgcolor": "#E5ECF6",
           "radialaxis": {
            "gridcolor": "white",
            "linecolor": "white",
            "ticks": ""
           }
          },
          "scene": {
           "xaxis": {
            "backgroundcolor": "#E5ECF6",
            "gridcolor": "white",
            "gridwidth": 2,
            "linecolor": "white",
            "showbackground": true,
            "ticks": "",
            "zerolinecolor": "white"
           },
           "yaxis": {
            "backgroundcolor": "#E5ECF6",
            "gridcolor": "white",
            "gridwidth": 2,
            "linecolor": "white",
            "showbackground": true,
            "ticks": "",
            "zerolinecolor": "white"
           },
           "zaxis": {
            "backgroundcolor": "#E5ECF6",
            "gridcolor": "white",
            "gridwidth": 2,
            "linecolor": "white",
            "showbackground": true,
            "ticks": "",
            "zerolinecolor": "white"
           }
          },
          "shapedefaults": {
           "line": {
            "color": "#2a3f5f"
           }
          },
          "ternary": {
           "aaxis": {
            "gridcolor": "white",
            "linecolor": "white",
            "ticks": ""
           },
           "baxis": {
            "gridcolor": "white",
            "linecolor": "white",
            "ticks": ""
           },
           "bgcolor": "#E5ECF6",
           "caxis": {
            "gridcolor": "white",
            "linecolor": "white",
            "ticks": ""
           }
          },
          "title": {
           "x": 0.05
          },
          "xaxis": {
           "automargin": true,
           "gridcolor": "white",
           "linecolor": "white",
           "ticks": "",
           "title": {
            "standoff": 15
           },
           "zerolinecolor": "white",
           "zerolinewidth": 2
          },
          "yaxis": {
           "automargin": true,
           "gridcolor": "white",
           "linecolor": "white",
           "ticks": "",
           "title": {
            "standoff": 15
           },
           "zerolinecolor": "white",
           "zerolinewidth": 2
          }
         }
        }
       }
      }
     },
     "metadata": {},
     "output_type": "display_data"
    }
   ],
   "source": [
    "fig.add_trace(go.Scatter(x=[E_image[0], F_image[0]], y=[E_image[1], F_image[1],], mode='markers', name='E, F'))\n",
    "fig.add_trace(go.Scatter(x=[E_transformed[0], F_transformed[0]], y=[E_transformed[1], F_transformed[1]], mode='markers', name='Transformed E, F'))\n",
    "#fig.add_trace(go.Scatter(x=[E_ground[0], F_ground[0]], y=[E_ground[1], F_ground[1]], mode='markers', name='Ground E, F'))"
   ]
  },
  {
   "cell_type": "code",
   "execution_count": 29,
   "metadata": {},
   "outputs": [],
   "source": [
    "E_top = np.array([0,  1188, 107])\n",
    "F_top = np.array([1279,1188, 107])"
   ]
  },
  {
   "cell_type": "code",
   "execution_count": 30,
   "metadata": {},
   "outputs": [
    {
     "data": {
      "application/vnd.plotly.v1+json": {
       "config": {
        "plotlyServerURL": "https://plot.ly"
       },
       "data": [
        {
         "mode": "markers",
         "name": "Image Points",
         "type": "scatter",
         "x": [
          420,
          860,
          1090,
          200
         ],
         "y": [
          530,
          530,
          165,
          165
         ]
        },
        {
         "mode": "markers",
         "name": "Transformed Points",
         "type": "scatter",
         "x": [
          90.99999999999991,
          1187.9999999999998,
          1188,
          90.99999999999999
         ],
         "y": [
          2376.9999999999995,
          2377.0000000000005,
          0,
          0
         ]
        },
        {
         "mode": "markers",
         "name": "E, F",
         "type": "scatter",
         "x": [
          290,
          990
         ],
         "y": [
          490,
          490
         ]
        },
        {
         "mode": "markers",
         "name": "Transformed E, F",
         "type": "scatter",
         "x": [
          -146.39669652855548,
          1422.939809630459
         ],
         "y": [
          1903.1970884658458,
          1903.1970884658463
         ]
        },
        {
         "mode": "markers",
         "name": "Ground E, F",
         "type": "scatter",
         "x": [
          0,
          1279
         ],
         "y": [
          1188,
          1188
         ]
        }
       ],
       "layout": {
        "template": {
         "data": {
          "bar": [
           {
            "error_x": {
             "color": "#2a3f5f"
            },
            "error_y": {
             "color": "#2a3f5f"
            },
            "marker": {
             "line": {
              "color": "#E5ECF6",
              "width": 0.5
             },
             "pattern": {
              "fillmode": "overlay",
              "size": 10,
              "solidity": 0.2
             }
            },
            "type": "bar"
           }
          ],
          "barpolar": [
           {
            "marker": {
             "line": {
              "color": "#E5ECF6",
              "width": 0.5
             },
             "pattern": {
              "fillmode": "overlay",
              "size": 10,
              "solidity": 0.2
             }
            },
            "type": "barpolar"
           }
          ],
          "carpet": [
           {
            "aaxis": {
             "endlinecolor": "#2a3f5f",
             "gridcolor": "white",
             "linecolor": "white",
             "minorgridcolor": "white",
             "startlinecolor": "#2a3f5f"
            },
            "baxis": {
             "endlinecolor": "#2a3f5f",
             "gridcolor": "white",
             "linecolor": "white",
             "minorgridcolor": "white",
             "startlinecolor": "#2a3f5f"
            },
            "type": "carpet"
           }
          ],
          "choropleth": [
           {
            "colorbar": {
             "outlinewidth": 0,
             "ticks": ""
            },
            "type": "choropleth"
           }
          ],
          "contour": [
           {
            "colorbar": {
             "outlinewidth": 0,
             "ticks": ""
            },
            "colorscale": [
             [
              0,
              "#0d0887"
             ],
             [
              0.1111111111111111,
              "#46039f"
             ],
             [
              0.2222222222222222,
              "#7201a8"
             ],
             [
              0.3333333333333333,
              "#9c179e"
             ],
             [
              0.4444444444444444,
              "#bd3786"
             ],
             [
              0.5555555555555556,
              "#d8576b"
             ],
             [
              0.6666666666666666,
              "#ed7953"
             ],
             [
              0.7777777777777778,
              "#fb9f3a"
             ],
             [
              0.8888888888888888,
              "#fdca26"
             ],
             [
              1,
              "#f0f921"
             ]
            ],
            "type": "contour"
           }
          ],
          "contourcarpet": [
           {
            "colorbar": {
             "outlinewidth": 0,
             "ticks": ""
            },
            "type": "contourcarpet"
           }
          ],
          "heatmap": [
           {
            "colorbar": {
             "outlinewidth": 0,
             "ticks": ""
            },
            "colorscale": [
             [
              0,
              "#0d0887"
             ],
             [
              0.1111111111111111,
              "#46039f"
             ],
             [
              0.2222222222222222,
              "#7201a8"
             ],
             [
              0.3333333333333333,
              "#9c179e"
             ],
             [
              0.4444444444444444,
              "#bd3786"
             ],
             [
              0.5555555555555556,
              "#d8576b"
             ],
             [
              0.6666666666666666,
              "#ed7953"
             ],
             [
              0.7777777777777778,
              "#fb9f3a"
             ],
             [
              0.8888888888888888,
              "#fdca26"
             ],
             [
              1,
              "#f0f921"
             ]
            ],
            "type": "heatmap"
           }
          ],
          "heatmapgl": [
           {
            "colorbar": {
             "outlinewidth": 0,
             "ticks": ""
            },
            "colorscale": [
             [
              0,
              "#0d0887"
             ],
             [
              0.1111111111111111,
              "#46039f"
             ],
             [
              0.2222222222222222,
              "#7201a8"
             ],
             [
              0.3333333333333333,
              "#9c179e"
             ],
             [
              0.4444444444444444,
              "#bd3786"
             ],
             [
              0.5555555555555556,
              "#d8576b"
             ],
             [
              0.6666666666666666,
              "#ed7953"
             ],
             [
              0.7777777777777778,
              "#fb9f3a"
             ],
             [
              0.8888888888888888,
              "#fdca26"
             ],
             [
              1,
              "#f0f921"
             ]
            ],
            "type": "heatmapgl"
           }
          ],
          "histogram": [
           {
            "marker": {
             "pattern": {
              "fillmode": "overlay",
              "size": 10,
              "solidity": 0.2
             }
            },
            "type": "histogram"
           }
          ],
          "histogram2d": [
           {
            "colorbar": {
             "outlinewidth": 0,
             "ticks": ""
            },
            "colorscale": [
             [
              0,
              "#0d0887"
             ],
             [
              0.1111111111111111,
              "#46039f"
             ],
             [
              0.2222222222222222,
              "#7201a8"
             ],
             [
              0.3333333333333333,
              "#9c179e"
             ],
             [
              0.4444444444444444,
              "#bd3786"
             ],
             [
              0.5555555555555556,
              "#d8576b"
             ],
             [
              0.6666666666666666,
              "#ed7953"
             ],
             [
              0.7777777777777778,
              "#fb9f3a"
             ],
             [
              0.8888888888888888,
              "#fdca26"
             ],
             [
              1,
              "#f0f921"
             ]
            ],
            "type": "histogram2d"
           }
          ],
          "histogram2dcontour": [
           {
            "colorbar": {
             "outlinewidth": 0,
             "ticks": ""
            },
            "colorscale": [
             [
              0,
              "#0d0887"
             ],
             [
              0.1111111111111111,
              "#46039f"
             ],
             [
              0.2222222222222222,
              "#7201a8"
             ],
             [
              0.3333333333333333,
              "#9c179e"
             ],
             [
              0.4444444444444444,
              "#bd3786"
             ],
             [
              0.5555555555555556,
              "#d8576b"
             ],
             [
              0.6666666666666666,
              "#ed7953"
             ],
             [
              0.7777777777777778,
              "#fb9f3a"
             ],
             [
              0.8888888888888888,
              "#fdca26"
             ],
             [
              1,
              "#f0f921"
             ]
            ],
            "type": "histogram2dcontour"
           }
          ],
          "mesh3d": [
           {
            "colorbar": {
             "outlinewidth": 0,
             "ticks": ""
            },
            "type": "mesh3d"
           }
          ],
          "parcoords": [
           {
            "line": {
             "colorbar": {
              "outlinewidth": 0,
              "ticks": ""
             }
            },
            "type": "parcoords"
           }
          ],
          "pie": [
           {
            "automargin": true,
            "type": "pie"
           }
          ],
          "scatter": [
           {
            "fillpattern": {
             "fillmode": "overlay",
             "size": 10,
             "solidity": 0.2
            },
            "type": "scatter"
           }
          ],
          "scatter3d": [
           {
            "line": {
             "colorbar": {
              "outlinewidth": 0,
              "ticks": ""
             }
            },
            "marker": {
             "colorbar": {
              "outlinewidth": 0,
              "ticks": ""
             }
            },
            "type": "scatter3d"
           }
          ],
          "scattercarpet": [
           {
            "marker": {
             "colorbar": {
              "outlinewidth": 0,
              "ticks": ""
             }
            },
            "type": "scattercarpet"
           }
          ],
          "scattergeo": [
           {
            "marker": {
             "colorbar": {
              "outlinewidth": 0,
              "ticks": ""
             }
            },
            "type": "scattergeo"
           }
          ],
          "scattergl": [
           {
            "marker": {
             "colorbar": {
              "outlinewidth": 0,
              "ticks": ""
             }
            },
            "type": "scattergl"
           }
          ],
          "scattermapbox": [
           {
            "marker": {
             "colorbar": {
              "outlinewidth": 0,
              "ticks": ""
             }
            },
            "type": "scattermapbox"
           }
          ],
          "scatterpolar": [
           {
            "marker": {
             "colorbar": {
              "outlinewidth": 0,
              "ticks": ""
             }
            },
            "type": "scatterpolar"
           }
          ],
          "scatterpolargl": [
           {
            "marker": {
             "colorbar": {
              "outlinewidth": 0,
              "ticks": ""
             }
            },
            "type": "scatterpolargl"
           }
          ],
          "scatterternary": [
           {
            "marker": {
             "colorbar": {
              "outlinewidth": 0,
              "ticks": ""
             }
            },
            "type": "scatterternary"
           }
          ],
          "surface": [
           {
            "colorbar": {
             "outlinewidth": 0,
             "ticks": ""
            },
            "colorscale": [
             [
              0,
              "#0d0887"
             ],
             [
              0.1111111111111111,
              "#46039f"
             ],
             [
              0.2222222222222222,
              "#7201a8"
             ],
             [
              0.3333333333333333,
              "#9c179e"
             ],
             [
              0.4444444444444444,
              "#bd3786"
             ],
             [
              0.5555555555555556,
              "#d8576b"
             ],
             [
              0.6666666666666666,
              "#ed7953"
             ],
             [
              0.7777777777777778,
              "#fb9f3a"
             ],
             [
              0.8888888888888888,
              "#fdca26"
             ],
             [
              1,
              "#f0f921"
             ]
            ],
            "type": "surface"
           }
          ],
          "table": [
           {
            "cells": {
             "fill": {
              "color": "#EBF0F8"
             },
             "line": {
              "color": "white"
             }
            },
            "header": {
             "fill": {
              "color": "#C8D4E3"
             },
             "line": {
              "color": "white"
             }
            },
            "type": "table"
           }
          ]
         },
         "layout": {
          "annotationdefaults": {
           "arrowcolor": "#2a3f5f",
           "arrowhead": 0,
           "arrowwidth": 1
          },
          "autotypenumbers": "strict",
          "coloraxis": {
           "colorbar": {
            "outlinewidth": 0,
            "ticks": ""
           }
          },
          "colorscale": {
           "diverging": [
            [
             0,
             "#8e0152"
            ],
            [
             0.1,
             "#c51b7d"
            ],
            [
             0.2,
             "#de77ae"
            ],
            [
             0.3,
             "#f1b6da"
            ],
            [
             0.4,
             "#fde0ef"
            ],
            [
             0.5,
             "#f7f7f7"
            ],
            [
             0.6,
             "#e6f5d0"
            ],
            [
             0.7,
             "#b8e186"
            ],
            [
             0.8,
             "#7fbc41"
            ],
            [
             0.9,
             "#4d9221"
            ],
            [
             1,
             "#276419"
            ]
           ],
           "sequential": [
            [
             0,
             "#0d0887"
            ],
            [
             0.1111111111111111,
             "#46039f"
            ],
            [
             0.2222222222222222,
             "#7201a8"
            ],
            [
             0.3333333333333333,
             "#9c179e"
            ],
            [
             0.4444444444444444,
             "#bd3786"
            ],
            [
             0.5555555555555556,
             "#d8576b"
            ],
            [
             0.6666666666666666,
             "#ed7953"
            ],
            [
             0.7777777777777778,
             "#fb9f3a"
            ],
            [
             0.8888888888888888,
             "#fdca26"
            ],
            [
             1,
             "#f0f921"
            ]
           ],
           "sequentialminus": [
            [
             0,
             "#0d0887"
            ],
            [
             0.1111111111111111,
             "#46039f"
            ],
            [
             0.2222222222222222,
             "#7201a8"
            ],
            [
             0.3333333333333333,
             "#9c179e"
            ],
            [
             0.4444444444444444,
             "#bd3786"
            ],
            [
             0.5555555555555556,
             "#d8576b"
            ],
            [
             0.6666666666666666,
             "#ed7953"
            ],
            [
             0.7777777777777778,
             "#fb9f3a"
            ],
            [
             0.8888888888888888,
             "#fdca26"
            ],
            [
             1,
             "#f0f921"
            ]
           ]
          },
          "colorway": [
           "#636efa",
           "#EF553B",
           "#00cc96",
           "#ab63fa",
           "#FFA15A",
           "#19d3f3",
           "#FF6692",
           "#B6E880",
           "#FF97FF",
           "#FECB52"
          ],
          "font": {
           "color": "#2a3f5f"
          },
          "geo": {
           "bgcolor": "white",
           "lakecolor": "white",
           "landcolor": "#E5ECF6",
           "showlakes": true,
           "showland": true,
           "subunitcolor": "white"
          },
          "hoverlabel": {
           "align": "left"
          },
          "hovermode": "closest",
          "mapbox": {
           "style": "light"
          },
          "paper_bgcolor": "white",
          "plot_bgcolor": "#E5ECF6",
          "polar": {
           "angularaxis": {
            "gridcolor": "white",
            "linecolor": "white",
            "ticks": ""
           },
           "bgcolor": "#E5ECF6",
           "radialaxis": {
            "gridcolor": "white",
            "linecolor": "white",
            "ticks": ""
           }
          },
          "scene": {
           "xaxis": {
            "backgroundcolor": "#E5ECF6",
            "gridcolor": "white",
            "gridwidth": 2,
            "linecolor": "white",
            "showbackground": true,
            "ticks": "",
            "zerolinecolor": "white"
           },
           "yaxis": {
            "backgroundcolor": "#E5ECF6",
            "gridcolor": "white",
            "gridwidth": 2,
            "linecolor": "white",
            "showbackground": true,
            "ticks": "",
            "zerolinecolor": "white"
           },
           "zaxis": {
            "backgroundcolor": "#E5ECF6",
            "gridcolor": "white",
            "gridwidth": 2,
            "linecolor": "white",
            "showbackground": true,
            "ticks": "",
            "zerolinecolor": "white"
           }
          },
          "shapedefaults": {
           "line": {
            "color": "#2a3f5f"
           }
          },
          "ternary": {
           "aaxis": {
            "gridcolor": "white",
            "linecolor": "white",
            "ticks": ""
           },
           "baxis": {
            "gridcolor": "white",
            "linecolor": "white",
            "ticks": ""
           },
           "bgcolor": "#E5ECF6",
           "caxis": {
            "gridcolor": "white",
            "linecolor": "white",
            "ticks": ""
           }
          },
          "title": {
           "x": 0.05
          },
          "xaxis": {
           "automargin": true,
           "gridcolor": "white",
           "linecolor": "white",
           "ticks": "",
           "title": {
            "standoff": 15
           },
           "zerolinecolor": "white",
           "zerolinewidth": 2
          },
          "yaxis": {
           "automargin": true,
           "gridcolor": "white",
           "linecolor": "white",
           "ticks": "",
           "title": {
            "standoff": 15
           },
           "zerolinecolor": "white",
           "zerolinewidth": 2
          }
         }
        }
       }
      }
     },
     "metadata": {},
     "output_type": "display_data"
    }
   ],
   "source": [
    "fig.add_trace(go.Scatter(x=[E_top[0], F_top[0]], y=[E_top[1], F_top[1]], mode='markers', name='Ground E, F'))"
   ]
  },
  {
   "cell_type": "code",
   "execution_count": 174,
   "metadata": {},
   "outputs": [
    {
     "data": {
      "application/vnd.plotly.v1+json": {
       "config": {
        "linkText": "Export to plot.ly",
        "plotlyServerURL": "https://plot.ly",
        "showLink": false
       },
       "data": [
        {
         "line": {
          "color": "blue",
          "width": 2
         },
         "mode": "lines",
         "name": "Line 1",
         "type": "scatter3d",
         "x": [
          -292.79339305711096,
          -288.3571295259426,
          -283.92086599477426,
          -279.48460246360594,
          -275.04833893243756,
          -270.61207540126924,
          -266.17581187010086,
          -261.73954833893254,
          -257.30328480776416,
          -252.86702127659584,
          -248.43075774542748,
          -243.99449421425913,
          -239.55823068309078,
          -235.12196715192243,
          -230.68570362075408,
          -226.24944008958573,
          -221.8131765584174,
          -217.37691302724903,
          -212.9406494960807,
          -208.50438596491233,
          -204.068122433744,
          -199.63185890257566,
          -195.1955953714073,
          -190.75933184023896,
          -186.3230683090706,
          -181.88680477790226,
          -177.4505412467339,
          -173.01427771556556,
          -168.5780141843972,
          -164.14175065322888,
          -159.7054871220605,
          -155.26922359089218,
          -150.83296005972383,
          -146.39669652855548,
          -141.96043299738713,
          -137.52416946621878,
          -133.08790593505046,
          -128.65164240388208,
          -124.21537887271373,
          -119.77911534154538,
          -115.34285181037704,
          -110.9065882792087,
          -106.47032474804035,
          -102.034061216872,
          -97.59779768570363,
          -93.16153415453529,
          -88.72527062336695,
          -84.2890070921986,
          -79.85274356103025,
          -75.41648002986192,
          -70.98021649869357,
          -66.54395296752523,
          -62.10768943635688,
          -57.6714259051885,
          -53.23516237402016,
          -48.79889884285181,
          -44.362635311683476,
          -39.926371780515126,
          -35.49010824934679,
          -31.05384471817844,
          -26.61758118701006,
          -22.181317655841724,
          -17.745054124673374,
          -13.308790593505023,
          -8.872527062336701,
          -4.4362635311683505,
          0,
          4.4362635311683505,
          8.872527062336701,
          13.308790593505023,
          17.745054124673374,
          22.181317655841724,
          26.617581187010074,
          31.053844718178482,
          35.490108249346804,
          39.926371780515154,
          44.362635311683505,
          48.798898842851855,
          53.235162374020206,
          57.67142590518853,
          62.10768943635688,
          66.54395296752523,
          70.98021649869358,
          75.4164800298619,
          79.85274356103025,
          84.2890070921986,
          88.72527062336695,
          93.16153415453527,
          97.59779768570371,
          102.03406121687203,
          106.47032474804038,
          110.90658827920873,
          115.34285181037706,
          119.77911534154543,
          124.21537887271376,
          128.65164240388208,
          133.08790593505046,
          137.52416946621878,
          141.96043299738716,
          146.39669652855548
         ],
         "y": [
          2618.3941769316916,
          2596.721537887272,
          2575.0488988428524,
          2553.376259798433,
          2531.703620754013,
          2510.030981709594,
          2488.358342665174,
          2466.685703620755,
          2445.013064576335,
          2423.3404255319156,
          2401.667786487496,
          2379.9951474430763,
          2358.3225083986567,
          2336.649869354237,
          2314.9772303098175,
          2293.304591265398,
          2271.6319522209783,
          2249.959313176559,
          2228.2866741321395,
          2206.61403508772,
          2184.9413960433003,
          2163.2687569988807,
          2141.596117954461,
          2119.9234789100415,
          2098.250839865622,
          2076.5782008212022,
          2054.9055617767826,
          2033.2329227323632,
          2011.5602836879436,
          1989.887644643524,
          1968.2150055991044,
          1946.5423665546848,
          1924.8697275102654,
          1903.1970884658458,
          1881.5244494214262,
          1859.8518103770068,
          1838.1791713325872,
          1816.5065322881674,
          1794.833893243748,
          1773.1612541993284,
          1751.4886151549088,
          1729.8159761104891,
          1708.1433370660698,
          1686.4706980216502,
          1664.7980589772305,
          1643.125419932811,
          1621.4527808883913,
          1599.7801418439717,
          1578.107502799552,
          1556.4348637551327,
          1534.762224710713,
          1513.0895856662937,
          1491.416946621874,
          1469.7443075774543,
          1448.0716685330349,
          1426.3990294886153,
          1404.7263904441957,
          1383.053751399776,
          1361.3811123553564,
          1339.708473310937,
          1318.0358342665172,
          1296.3631952220976,
          1274.6905561776782,
          1253.0179171332586,
          1231.3452780888392,
          1209.6726390444196,
          1188,
          1166.3273609555804,
          1144.6547219111608,
          1122.9820828667414,
          1101.3094438223218,
          1079.6368047779024,
          1057.9641657334828,
          1036.2915266890627,
          1014.6188876446432,
          992.9462486002237,
          971.2736095558042,
          949.6009705113846,
          927.9283314669651,
          906.2556924225455,
          884.583053378126,
          862.9104143337065,
          841.2377752892869,
          819.5651362448673,
          797.8924972004477,
          776.2198581560283,
          754.5472191116087,
          732.8745800671891,
          711.2019410227692,
          689.5293019783496,
          667.8566629339302,
          646.1840238895106,
          624.511384845091,
          602.8387458006714,
          581.166106756252,
          559.4934677118324,
          537.8208286674128,
          516.1481896229932,
          494.4755505785738,
          472.8029115341542
         ],
         "z": [
          -107,
          -103.75757575757576,
          -100.51515151515152,
          -97.27272727272727,
          -94.03030303030303,
          -90.7878787878788,
          -87.54545454545453,
          -84.3030303030303,
          -81.06060606060606,
          -77.81818181818183,
          -74.57575757575758,
          -71.33333333333333,
          -68.0909090909091,
          -64.84848484848484,
          -61.6060606060606,
          -58.36363636363636,
          -55.12121212121212,
          -51.87878787878788,
          -48.63636363636364,
          -45.39393939393939,
          -42.15151515151515,
          -38.909090909090914,
          -35.66666666666666,
          -32.42424242424242,
          -29.18181818181818,
          -25.93939393939394,
          -22.6969696969697,
          -19.45454545454545,
          -16.21212121212121,
          -12.96969696969697,
          -9.72727272727272,
          -6.484848484848479,
          -3.2424242424242395,
          0,
          3.2424242424242395,
          6.484848484848479,
          9.72727272727272,
          12.969696969696981,
          16.21212121212122,
          19.45454545454546,
          22.6969696969697,
          25.93939393939394,
          29.18181818181818,
          32.42424242424242,
          35.666666666666686,
          38.90909090909092,
          42.15151515151516,
          45.3939393939394,
          48.63636363636364,
          51.87878787878788,
          55.12121212121212,
          58.36363636363636,
          61.6060606060606,
          64.84848484848486,
          68.09090909090911,
          71.33333333333334,
          74.57575757575758,
          77.81818181818183,
          81.06060606060606,
          84.3030303030303,
          87.54545454545456,
          90.7878787878788,
          94.03030303030305,
          97.27272727272728,
          100.51515151515152,
          103.75757575757576,
          107,
          110.24242424242424,
          113.48484848484848,
          116.72727272727272,
          119.96969696969695,
          123.2121212121212,
          126.45454545454544,
          129.69696969696972,
          132.93939393939397,
          136.18181818181822,
          139.42424242424244,
          142.66666666666669,
          145.90909090909093,
          149.15151515151516,
          152.3939393939394,
          155.63636363636365,
          158.87878787878788,
          162.12121212121212,
          165.36363636363635,
          168.6060606060606,
          171.84848484848484,
          175.09090909090907,
          178.33333333333337,
          181.5757575757576,
          184.81818181818184,
          188.0606060606061,
          191.3030303030303,
          194.54545454545456,
          197.7878787878788,
          201.03030303030303,
          204.27272727272728,
          207.51515151515153,
          210.75757575757575,
          214
         ]
        },
        {
         "line": {
          "color": "red",
          "width": 2
         },
         "mode": "lines",
         "name": "Line 2",
         "type": "scatter3d",
         "x": [
          1566.879619260918,
          1562.5178068478738,
          1558.1559944348296,
          1553.7941820217852,
          1549.432369608741,
          1545.070557195697,
          1540.7087447826527,
          1536.3469323696086,
          1531.9851199565642,
          1527.62330754352,
          1523.2614951304759,
          1518.8996827174317,
          1514.5378703043873,
          1510.1760578913431,
          1505.814245478299,
          1501.4524330652548,
          1497.0906206522106,
          1492.7288082391663,
          1488.366995826122,
          1484.005183413078,
          1479.6433710000338,
          1475.2815585869896,
          1470.9197461739452,
          1466.557933760901,
          1462.196121347857,
          1457.8343089348127,
          1453.4724965217683,
          1449.1106841087242,
          1444.74887169568,
          1440.3870592826358,
          1436.0252468695917,
          1431.6634344565473,
          1427.3016220435031,
          1422.939809630459,
          1418.5779972174148,
          1414.2161848043706,
          1409.8543723913263,
          1405.492559978282,
          1401.130747565238,
          1396.7689351521938,
          1392.4071227391496,
          1388.0453103261052,
          1383.683497913061,
          1379.3216855000169,
          1374.9598730869727,
          1370.5980606739283,
          1366.2362482608842,
          1361.87443584784,
          1357.5126234347958,
          1353.1508110217517,
          1348.7889986087073,
          1344.4271861956631,
          1340.065373782619,
          1335.7035613695748,
          1331.3417489565304,
          1326.9799365434862,
          1322.618124130442,
          1318.256311717398,
          1313.8944993043538,
          1309.5326868913094,
          1305.1708744782652,
          1300.809062065221,
          1296.4472496521769,
          1292.0854372391327,
          1287.7236248260883,
          1283.3618124130442,
          1279,
          1274.6381875869558,
          1270.2763751739117,
          1265.9145627608673,
          1261.5527503478231,
          1257.190937934779,
          1252.8291255217348,
          1248.4673131086904,
          1244.1055006956462,
          1239.743688282602,
          1235.381875869558,
          1231.0200634565138,
          1226.6582510434694,
          1222.2964386304252,
          1217.934626217381,
          1213.5728138043369,
          1209.2110013912927,
          1204.8491889782483,
          1200.4873765652042,
          1196.12556415216,
          1191.7637517391158,
          1187.4019393260717,
          1183.0401269130273,
          1178.6783144999831,
          1174.316502086939,
          1169.9546896738948,
          1165.5928772608504,
          1161.2310648478062,
          1156.869252434762,
          1152.507440021718,
          1148.1456276086737,
          1143.7838151956294,
          1139.4220027825852,
          1135.060190369541
         ],
         "y": [
          2618.3941769316925,
          2596.721537887273,
          2575.0488988428533,
          2553.3762597984337,
          2531.703620754014,
          2510.0309817095945,
          2488.358342665175,
          2466.6857036207552,
          2445.0130645763356,
          2423.3404255319165,
          2401.667786487497,
          2379.9951474430773,
          2358.3225083986576,
          2336.649869354238,
          2314.9772303098184,
          2293.304591265399,
          2271.631952220979,
          2249.9593131765596,
          2228.28667413214,
          2206.6140350877204,
          2184.9413960433008,
          2163.268756998881,
          2141.5961179544615,
          2119.923478910042,
          2098.2508398656223,
          2076.5782008212027,
          2054.9055617767835,
          2033.2329227323637,
          2011.560283687944,
          1989.8876446435247,
          1968.2150055991049,
          1946.5423665546855,
          1924.8697275102659,
          1903.1970884658463,
          1881.5244494214267,
          1859.851810377007,
          1838.1791713325877,
          1816.5065322881678,
          1794.8338932437482,
          1773.1612541993286,
          1751.4886151549092,
          1729.8159761104896,
          1708.14333706607,
          1686.4706980216504,
          1664.7980589772308,
          1643.1254199328112,
          1621.4527808883915,
          1599.7801418439722,
          1578.1075027995525,
          1556.434863755133,
          1534.7622247107133,
          1513.0895856662937,
          1491.416946621874,
          1469.7443075774545,
          1448.0716685330349,
          1426.3990294886153,
          1404.7263904441959,
          1383.0537513997763,
          1361.3811123553567,
          1339.7084733109373,
          1318.0358342665174,
          1296.3631952220978,
          1274.6905561776782,
          1253.0179171332588,
          1231.3452780888392,
          1209.6726390444196,
          1188,
          1166.3273609555804,
          1144.6547219111608,
          1122.9820828667412,
          1101.3094438223218,
          1079.6368047779022,
          1057.9641657334826,
          1036.2915266890627,
          1014.6188876446432,
          992.9462486002236,
          971.273609555804,
          949.6009705113845,
          927.9283314669649,
          906.2556924225454,
          884.5830533781258,
          862.9104143337063,
          841.2377752892867,
          819.5651362448671,
          797.8924972004475,
          776.2198581560281,
          754.5472191116085,
          732.8745800671888,
          711.201941022769,
          689.5293019783494,
          667.8566629339298,
          646.1840238895102,
          624.5113848450908,
          602.8387458006712,
          581.1661067562516,
          559.493467711832,
          537.8208286674123,
          516.148189622993,
          494.47555057857335,
          472.80291153415374
         ],
         "z": [
          -107,
          -103.75757575757576,
          -100.51515151515152,
          -97.27272727272727,
          -94.03030303030303,
          -90.7878787878788,
          -87.54545454545453,
          -84.3030303030303,
          -81.06060606060606,
          -77.81818181818183,
          -74.57575757575758,
          -71.33333333333333,
          -68.0909090909091,
          -64.84848484848484,
          -61.6060606060606,
          -58.36363636363636,
          -55.12121212121212,
          -51.87878787878788,
          -48.63636363636364,
          -45.39393939393939,
          -42.15151515151515,
          -38.909090909090914,
          -35.66666666666666,
          -32.42424242424242,
          -29.18181818181818,
          -25.93939393939394,
          -22.6969696969697,
          -19.45454545454545,
          -16.21212121212121,
          -12.96969696969697,
          -9.72727272727272,
          -6.484848484848479,
          -3.2424242424242395,
          0,
          3.2424242424242395,
          6.484848484848479,
          9.72727272727272,
          12.969696969696981,
          16.21212121212122,
          19.45454545454546,
          22.6969696969697,
          25.93939393939394,
          29.18181818181818,
          32.42424242424242,
          35.666666666666686,
          38.90909090909092,
          42.15151515151516,
          45.3939393939394,
          48.63636363636364,
          51.87878787878788,
          55.12121212121212,
          58.36363636363636,
          61.6060606060606,
          64.84848484848486,
          68.09090909090911,
          71.33333333333334,
          74.57575757575758,
          77.81818181818183,
          81.06060606060606,
          84.3030303030303,
          87.54545454545456,
          90.7878787878788,
          94.03030303030305,
          97.27272727272728,
          100.51515151515152,
          103.75757575757576,
          107,
          110.24242424242424,
          113.48484848484848,
          116.72727272727272,
          119.96969696969695,
          123.2121212121212,
          126.45454545454544,
          129.69696969696972,
          132.93939393939397,
          136.18181818181822,
          139.42424242424244,
          142.66666666666669,
          145.90909090909093,
          149.15151515151516,
          152.3939393939394,
          155.63636363636365,
          158.87878787878788,
          162.12121212121212,
          165.36363636363635,
          168.6060606060606,
          171.84848484848484,
          175.09090909090907,
          178.33333333333337,
          181.5757575757576,
          184.81818181818184,
          188.0606060606061,
          191.3030303030303,
          194.54545454545456,
          197.7878787878788,
          201.03030303030303,
          204.27272727272728,
          207.51515151515153,
          210.75757575757575,
          214
         ]
        },
        {
         "marker": {
          "color": "black",
          "size": 5
         },
         "mode": "markers",
         "name": "Points",
         "type": "scatter3d",
         "x": [
          -146.39669652855548,
          0,
          1422.939809630459,
          1279
         ],
         "y": [
          1903.1970884658458,
          1188,
          1903.1970884658463,
          1188
         ],
         "z": [
          0,
          107,
          0,
          107
         ]
        }
       ],
       "layout": {
        "scene": {
         "xaxis": {
          "title": {
           "text": "X"
          }
         },
         "yaxis": {
          "title": {
           "text": "Y"
          }
         },
         "zaxis": {
          "title": {
           "text": "Z"
          }
         }
        },
        "template": {
         "data": {
          "bar": [
           {
            "error_x": {
             "color": "#2a3f5f"
            },
            "error_y": {
             "color": "#2a3f5f"
            },
            "marker": {
             "line": {
              "color": "#E5ECF6",
              "width": 0.5
             },
             "pattern": {
              "fillmode": "overlay",
              "size": 10,
              "solidity": 0.2
             }
            },
            "type": "bar"
           }
          ],
          "barpolar": [
           {
            "marker": {
             "line": {
              "color": "#E5ECF6",
              "width": 0.5
             },
             "pattern": {
              "fillmode": "overlay",
              "size": 10,
              "solidity": 0.2
             }
            },
            "type": "barpolar"
           }
          ],
          "carpet": [
           {
            "aaxis": {
             "endlinecolor": "#2a3f5f",
             "gridcolor": "white",
             "linecolor": "white",
             "minorgridcolor": "white",
             "startlinecolor": "#2a3f5f"
            },
            "baxis": {
             "endlinecolor": "#2a3f5f",
             "gridcolor": "white",
             "linecolor": "white",
             "minorgridcolor": "white",
             "startlinecolor": "#2a3f5f"
            },
            "type": "carpet"
           }
          ],
          "choropleth": [
           {
            "colorbar": {
             "outlinewidth": 0,
             "ticks": ""
            },
            "type": "choropleth"
           }
          ],
          "contour": [
           {
            "colorbar": {
             "outlinewidth": 0,
             "ticks": ""
            },
            "colorscale": [
             [
              0,
              "#0d0887"
             ],
             [
              0.1111111111111111,
              "#46039f"
             ],
             [
              0.2222222222222222,
              "#7201a8"
             ],
             [
              0.3333333333333333,
              "#9c179e"
             ],
             [
              0.4444444444444444,
              "#bd3786"
             ],
             [
              0.5555555555555556,
              "#d8576b"
             ],
             [
              0.6666666666666666,
              "#ed7953"
             ],
             [
              0.7777777777777778,
              "#fb9f3a"
             ],
             [
              0.8888888888888888,
              "#fdca26"
             ],
             [
              1,
              "#f0f921"
             ]
            ],
            "type": "contour"
           }
          ],
          "contourcarpet": [
           {
            "colorbar": {
             "outlinewidth": 0,
             "ticks": ""
            },
            "type": "contourcarpet"
           }
          ],
          "heatmap": [
           {
            "colorbar": {
             "outlinewidth": 0,
             "ticks": ""
            },
            "colorscale": [
             [
              0,
              "#0d0887"
             ],
             [
              0.1111111111111111,
              "#46039f"
             ],
             [
              0.2222222222222222,
              "#7201a8"
             ],
             [
              0.3333333333333333,
              "#9c179e"
             ],
             [
              0.4444444444444444,
              "#bd3786"
             ],
             [
              0.5555555555555556,
              "#d8576b"
             ],
             [
              0.6666666666666666,
              "#ed7953"
             ],
             [
              0.7777777777777778,
              "#fb9f3a"
             ],
             [
              0.8888888888888888,
              "#fdca26"
             ],
             [
              1,
              "#f0f921"
             ]
            ],
            "type": "heatmap"
           }
          ],
          "heatmapgl": [
           {
            "colorbar": {
             "outlinewidth": 0,
             "ticks": ""
            },
            "colorscale": [
             [
              0,
              "#0d0887"
             ],
             [
              0.1111111111111111,
              "#46039f"
             ],
             [
              0.2222222222222222,
              "#7201a8"
             ],
             [
              0.3333333333333333,
              "#9c179e"
             ],
             [
              0.4444444444444444,
              "#bd3786"
             ],
             [
              0.5555555555555556,
              "#d8576b"
             ],
             [
              0.6666666666666666,
              "#ed7953"
             ],
             [
              0.7777777777777778,
              "#fb9f3a"
             ],
             [
              0.8888888888888888,
              "#fdca26"
             ],
             [
              1,
              "#f0f921"
             ]
            ],
            "type": "heatmapgl"
           }
          ],
          "histogram": [
           {
            "marker": {
             "pattern": {
              "fillmode": "overlay",
              "size": 10,
              "solidity": 0.2
             }
            },
            "type": "histogram"
           }
          ],
          "histogram2d": [
           {
            "colorbar": {
             "outlinewidth": 0,
             "ticks": ""
            },
            "colorscale": [
             [
              0,
              "#0d0887"
             ],
             [
              0.1111111111111111,
              "#46039f"
             ],
             [
              0.2222222222222222,
              "#7201a8"
             ],
             [
              0.3333333333333333,
              "#9c179e"
             ],
             [
              0.4444444444444444,
              "#bd3786"
             ],
             [
              0.5555555555555556,
              "#d8576b"
             ],
             [
              0.6666666666666666,
              "#ed7953"
             ],
             [
              0.7777777777777778,
              "#fb9f3a"
             ],
             [
              0.8888888888888888,
              "#fdca26"
             ],
             [
              1,
              "#f0f921"
             ]
            ],
            "type": "histogram2d"
           }
          ],
          "histogram2dcontour": [
           {
            "colorbar": {
             "outlinewidth": 0,
             "ticks": ""
            },
            "colorscale": [
             [
              0,
              "#0d0887"
             ],
             [
              0.1111111111111111,
              "#46039f"
             ],
             [
              0.2222222222222222,
              "#7201a8"
             ],
             [
              0.3333333333333333,
              "#9c179e"
             ],
             [
              0.4444444444444444,
              "#bd3786"
             ],
             [
              0.5555555555555556,
              "#d8576b"
             ],
             [
              0.6666666666666666,
              "#ed7953"
             ],
             [
              0.7777777777777778,
              "#fb9f3a"
             ],
             [
              0.8888888888888888,
              "#fdca26"
             ],
             [
              1,
              "#f0f921"
             ]
            ],
            "type": "histogram2dcontour"
           }
          ],
          "mesh3d": [
           {
            "colorbar": {
             "outlinewidth": 0,
             "ticks": ""
            },
            "type": "mesh3d"
           }
          ],
          "parcoords": [
           {
            "line": {
             "colorbar": {
              "outlinewidth": 0,
              "ticks": ""
             }
            },
            "type": "parcoords"
           }
          ],
          "pie": [
           {
            "automargin": true,
            "type": "pie"
           }
          ],
          "scatter": [
           {
            "fillpattern": {
             "fillmode": "overlay",
             "size": 10,
             "solidity": 0.2
            },
            "type": "scatter"
           }
          ],
          "scatter3d": [
           {
            "line": {
             "colorbar": {
              "outlinewidth": 0,
              "ticks": ""
             }
            },
            "marker": {
             "colorbar": {
              "outlinewidth": 0,
              "ticks": ""
             }
            },
            "type": "scatter3d"
           }
          ],
          "scattercarpet": [
           {
            "marker": {
             "colorbar": {
              "outlinewidth": 0,
              "ticks": ""
             }
            },
            "type": "scattercarpet"
           }
          ],
          "scattergeo": [
           {
            "marker": {
             "colorbar": {
              "outlinewidth": 0,
              "ticks": ""
             }
            },
            "type": "scattergeo"
           }
          ],
          "scattergl": [
           {
            "marker": {
             "colorbar": {
              "outlinewidth": 0,
              "ticks": ""
             }
            },
            "type": "scattergl"
           }
          ],
          "scattermapbox": [
           {
            "marker": {
             "colorbar": {
              "outlinewidth": 0,
              "ticks": ""
             }
            },
            "type": "scattermapbox"
           }
          ],
          "scatterpolar": [
           {
            "marker": {
             "colorbar": {
              "outlinewidth": 0,
              "ticks": ""
             }
            },
            "type": "scatterpolar"
           }
          ],
          "scatterpolargl": [
           {
            "marker": {
             "colorbar": {
              "outlinewidth": 0,
              "ticks": ""
             }
            },
            "type": "scatterpolargl"
           }
          ],
          "scatterternary": [
           {
            "marker": {
             "colorbar": {
              "outlinewidth": 0,
              "ticks": ""
             }
            },
            "type": "scatterternary"
           }
          ],
          "surface": [
           {
            "colorbar": {
             "outlinewidth": 0,
             "ticks": ""
            },
            "colorscale": [
             [
              0,
              "#0d0887"
             ],
             [
              0.1111111111111111,
              "#46039f"
             ],
             [
              0.2222222222222222,
              "#7201a8"
             ],
             [
              0.3333333333333333,
              "#9c179e"
             ],
             [
              0.4444444444444444,
              "#bd3786"
             ],
             [
              0.5555555555555556,
              "#d8576b"
             ],
             [
              0.6666666666666666,
              "#ed7953"
             ],
             [
              0.7777777777777778,
              "#fb9f3a"
             ],
             [
              0.8888888888888888,
              "#fdca26"
             ],
             [
              1,
              "#f0f921"
             ]
            ],
            "type": "surface"
           }
          ],
          "table": [
           {
            "cells": {
             "fill": {
              "color": "#EBF0F8"
             },
             "line": {
              "color": "white"
             }
            },
            "header": {
             "fill": {
              "color": "#C8D4E3"
             },
             "line": {
              "color": "white"
             }
            },
            "type": "table"
           }
          ]
         },
         "layout": {
          "annotationdefaults": {
           "arrowcolor": "#2a3f5f",
           "arrowhead": 0,
           "arrowwidth": 1
          },
          "autotypenumbers": "strict",
          "coloraxis": {
           "colorbar": {
            "outlinewidth": 0,
            "ticks": ""
           }
          },
          "colorscale": {
           "diverging": [
            [
             0,
             "#8e0152"
            ],
            [
             0.1,
             "#c51b7d"
            ],
            [
             0.2,
             "#de77ae"
            ],
            [
             0.3,
             "#f1b6da"
            ],
            [
             0.4,
             "#fde0ef"
            ],
            [
             0.5,
             "#f7f7f7"
            ],
            [
             0.6,
             "#e6f5d0"
            ],
            [
             0.7,
             "#b8e186"
            ],
            [
             0.8,
             "#7fbc41"
            ],
            [
             0.9,
             "#4d9221"
            ],
            [
             1,
             "#276419"
            ]
           ],
           "sequential": [
            [
             0,
             "#0d0887"
            ],
            [
             0.1111111111111111,
             "#46039f"
            ],
            [
             0.2222222222222222,
             "#7201a8"
            ],
            [
             0.3333333333333333,
             "#9c179e"
            ],
            [
             0.4444444444444444,
             "#bd3786"
            ],
            [
             0.5555555555555556,
             "#d8576b"
            ],
            [
             0.6666666666666666,
             "#ed7953"
            ],
            [
             0.7777777777777778,
             "#fb9f3a"
            ],
            [
             0.8888888888888888,
             "#fdca26"
            ],
            [
             1,
             "#f0f921"
            ]
           ],
           "sequentialminus": [
            [
             0,
             "#0d0887"
            ],
            [
             0.1111111111111111,
             "#46039f"
            ],
            [
             0.2222222222222222,
             "#7201a8"
            ],
            [
             0.3333333333333333,
             "#9c179e"
            ],
            [
             0.4444444444444444,
             "#bd3786"
            ],
            [
             0.5555555555555556,
             "#d8576b"
            ],
            [
             0.6666666666666666,
             "#ed7953"
            ],
            [
             0.7777777777777778,
             "#fb9f3a"
            ],
            [
             0.8888888888888888,
             "#fdca26"
            ],
            [
             1,
             "#f0f921"
            ]
           ]
          },
          "colorway": [
           "#636efa",
           "#EF553B",
           "#00cc96",
           "#ab63fa",
           "#FFA15A",
           "#19d3f3",
           "#FF6692",
           "#B6E880",
           "#FF97FF",
           "#FECB52"
          ],
          "font": {
           "color": "#2a3f5f"
          },
          "geo": {
           "bgcolor": "white",
           "lakecolor": "white",
           "landcolor": "#E5ECF6",
           "showlakes": true,
           "showland": true,
           "subunitcolor": "white"
          },
          "hoverlabel": {
           "align": "left"
          },
          "hovermode": "closest",
          "mapbox": {
           "style": "light"
          },
          "paper_bgcolor": "white",
          "plot_bgcolor": "#E5ECF6",
          "polar": {
           "angularaxis": {
            "gridcolor": "white",
            "linecolor": "white",
            "ticks": ""
           },
           "bgcolor": "#E5ECF6",
           "radialaxis": {
            "gridcolor": "white",
            "linecolor": "white",
            "ticks": ""
           }
          },
          "scene": {
           "xaxis": {
            "backgroundcolor": "#E5ECF6",
            "gridcolor": "white",
            "gridwidth": 2,
            "linecolor": "white",
            "showbackground": true,
            "ticks": "",
            "zerolinecolor": "white"
           },
           "yaxis": {
            "backgroundcolor": "#E5ECF6",
            "gridcolor": "white",
            "gridwidth": 2,
            "linecolor": "white",
            "showbackground": true,
            "ticks": "",
            "zerolinecolor": "white"
           },
           "zaxis": {
            "backgroundcolor": "#E5ECF6",
            "gridcolor": "white",
            "gridwidth": 2,
            "linecolor": "white",
            "showbackground": true,
            "ticks": "",
            "zerolinecolor": "white"
           }
          },
          "shapedefaults": {
           "line": {
            "color": "#2a3f5f"
           }
          },
          "ternary": {
           "aaxis": {
            "gridcolor": "white",
            "linecolor": "white",
            "ticks": ""
           },
           "baxis": {
            "gridcolor": "white",
            "linecolor": "white",
            "ticks": ""
           },
           "bgcolor": "#E5ECF6",
           "caxis": {
            "gridcolor": "white",
            "linecolor": "white",
            "ticks": ""
           }
          },
          "title": {
           "x": 0.05
          },
          "xaxis": {
           "automargin": true,
           "gridcolor": "white",
           "linecolor": "white",
           "ticks": "",
           "title": {
            "standoff": 15
           },
           "zerolinecolor": "white",
           "zerolinewidth": 2
          },
          "yaxis": {
           "automargin": true,
           "gridcolor": "white",
           "linecolor": "white",
           "ticks": "",
           "title": {
            "standoff": 15
           },
           "zerolinecolor": "white",
           "zerolinewidth": 2
          }
         }
        },
        "title": {
         "text": "Two Lines through Four Points in 3D"
        }
       }
      }
     },
     "metadata": {},
     "output_type": "display_data"
    },
    {
     "data": {
      "application/vnd.plotly.v1+json": {
       "config": {
        "linkText": "Export to plot.ly",
        "plotlyServerURL": "https://plot.ly",
        "showLink": false
       },
       "data": [
        {
         "marker": {
          "color": "green",
          "size": 10
         },
         "mode": "markers",
         "name": "Intersection Point",
         "type": "scatter3d",
         "x": [
          644.9115797979339
         ],
         "y": [
          -1962.6099189842316
         ],
         "z": [
          578.3599464651787
         ]
        }
       ],
       "layout": {
        "template": {
         "data": {
          "bar": [
           {
            "error_x": {
             "color": "#2a3f5f"
            },
            "error_y": {
             "color": "#2a3f5f"
            },
            "marker": {
             "line": {
              "color": "#E5ECF6",
              "width": 0.5
             },
             "pattern": {
              "fillmode": "overlay",
              "size": 10,
              "solidity": 0.2
             }
            },
            "type": "bar"
           }
          ],
          "barpolar": [
           {
            "marker": {
             "line": {
              "color": "#E5ECF6",
              "width": 0.5
             },
             "pattern": {
              "fillmode": "overlay",
              "size": 10,
              "solidity": 0.2
             }
            },
            "type": "barpolar"
           }
          ],
          "carpet": [
           {
            "aaxis": {
             "endlinecolor": "#2a3f5f",
             "gridcolor": "white",
             "linecolor": "white",
             "minorgridcolor": "white",
             "startlinecolor": "#2a3f5f"
            },
            "baxis": {
             "endlinecolor": "#2a3f5f",
             "gridcolor": "white",
             "linecolor": "white",
             "minorgridcolor": "white",
             "startlinecolor": "#2a3f5f"
            },
            "type": "carpet"
           }
          ],
          "choropleth": [
           {
            "colorbar": {
             "outlinewidth": 0,
             "ticks": ""
            },
            "type": "choropleth"
           }
          ],
          "contour": [
           {
            "colorbar": {
             "outlinewidth": 0,
             "ticks": ""
            },
            "colorscale": [
             [
              0,
              "#0d0887"
             ],
             [
              0.1111111111111111,
              "#46039f"
             ],
             [
              0.2222222222222222,
              "#7201a8"
             ],
             [
              0.3333333333333333,
              "#9c179e"
             ],
             [
              0.4444444444444444,
              "#bd3786"
             ],
             [
              0.5555555555555556,
              "#d8576b"
             ],
             [
              0.6666666666666666,
              "#ed7953"
             ],
             [
              0.7777777777777778,
              "#fb9f3a"
             ],
             [
              0.8888888888888888,
              "#fdca26"
             ],
             [
              1,
              "#f0f921"
             ]
            ],
            "type": "contour"
           }
          ],
          "contourcarpet": [
           {
            "colorbar": {
             "outlinewidth": 0,
             "ticks": ""
            },
            "type": "contourcarpet"
           }
          ],
          "heatmap": [
           {
            "colorbar": {
             "outlinewidth": 0,
             "ticks": ""
            },
            "colorscale": [
             [
              0,
              "#0d0887"
             ],
             [
              0.1111111111111111,
              "#46039f"
             ],
             [
              0.2222222222222222,
              "#7201a8"
             ],
             [
              0.3333333333333333,
              "#9c179e"
             ],
             [
              0.4444444444444444,
              "#bd3786"
             ],
             [
              0.5555555555555556,
              "#d8576b"
             ],
             [
              0.6666666666666666,
              "#ed7953"
             ],
             [
              0.7777777777777778,
              "#fb9f3a"
             ],
             [
              0.8888888888888888,
              "#fdca26"
             ],
             [
              1,
              "#f0f921"
             ]
            ],
            "type": "heatmap"
           }
          ],
          "heatmapgl": [
           {
            "colorbar": {
             "outlinewidth": 0,
             "ticks": ""
            },
            "colorscale": [
             [
              0,
              "#0d0887"
             ],
             [
              0.1111111111111111,
              "#46039f"
             ],
             [
              0.2222222222222222,
              "#7201a8"
             ],
             [
              0.3333333333333333,
              "#9c179e"
             ],
             [
              0.4444444444444444,
              "#bd3786"
             ],
             [
              0.5555555555555556,
              "#d8576b"
             ],
             [
              0.6666666666666666,
              "#ed7953"
             ],
             [
              0.7777777777777778,
              "#fb9f3a"
             ],
             [
              0.8888888888888888,
              "#fdca26"
             ],
             [
              1,
              "#f0f921"
             ]
            ],
            "type": "heatmapgl"
           }
          ],
          "histogram": [
           {
            "marker": {
             "pattern": {
              "fillmode": "overlay",
              "size": 10,
              "solidity": 0.2
             }
            },
            "type": "histogram"
           }
          ],
          "histogram2d": [
           {
            "colorbar": {
             "outlinewidth": 0,
             "ticks": ""
            },
            "colorscale": [
             [
              0,
              "#0d0887"
             ],
             [
              0.1111111111111111,
              "#46039f"
             ],
             [
              0.2222222222222222,
              "#7201a8"
             ],
             [
              0.3333333333333333,
              "#9c179e"
             ],
             [
              0.4444444444444444,
              "#bd3786"
             ],
             [
              0.5555555555555556,
              "#d8576b"
             ],
             [
              0.6666666666666666,
              "#ed7953"
             ],
             [
              0.7777777777777778,
              "#fb9f3a"
             ],
             [
              0.8888888888888888,
              "#fdca26"
             ],
             [
              1,
              "#f0f921"
             ]
            ],
            "type": "histogram2d"
           }
          ],
          "histogram2dcontour": [
           {
            "colorbar": {
             "outlinewidth": 0,
             "ticks": ""
            },
            "colorscale": [
             [
              0,
              "#0d0887"
             ],
             [
              0.1111111111111111,
              "#46039f"
             ],
             [
              0.2222222222222222,
              "#7201a8"
             ],
             [
              0.3333333333333333,
              "#9c179e"
             ],
             [
              0.4444444444444444,
              "#bd3786"
             ],
             [
              0.5555555555555556,
              "#d8576b"
             ],
             [
              0.6666666666666666,
              "#ed7953"
             ],
             [
              0.7777777777777778,
              "#fb9f3a"
             ],
             [
              0.8888888888888888,
              "#fdca26"
             ],
             [
              1,
              "#f0f921"
             ]
            ],
            "type": "histogram2dcontour"
           }
          ],
          "mesh3d": [
           {
            "colorbar": {
             "outlinewidth": 0,
             "ticks": ""
            },
            "type": "mesh3d"
           }
          ],
          "parcoords": [
           {
            "line": {
             "colorbar": {
              "outlinewidth": 0,
              "ticks": ""
             }
            },
            "type": "parcoords"
           }
          ],
          "pie": [
           {
            "automargin": true,
            "type": "pie"
           }
          ],
          "scatter": [
           {
            "fillpattern": {
             "fillmode": "overlay",
             "size": 10,
             "solidity": 0.2
            },
            "type": "scatter"
           }
          ],
          "scatter3d": [
           {
            "line": {
             "colorbar": {
              "outlinewidth": 0,
              "ticks": ""
             }
            },
            "marker": {
             "colorbar": {
              "outlinewidth": 0,
              "ticks": ""
             }
            },
            "type": "scatter3d"
           }
          ],
          "scattercarpet": [
           {
            "marker": {
             "colorbar": {
              "outlinewidth": 0,
              "ticks": ""
             }
            },
            "type": "scattercarpet"
           }
          ],
          "scattergeo": [
           {
            "marker": {
             "colorbar": {
              "outlinewidth": 0,
              "ticks": ""
             }
            },
            "type": "scattergeo"
           }
          ],
          "scattergl": [
           {
            "marker": {
             "colorbar": {
              "outlinewidth": 0,
              "ticks": ""
             }
            },
            "type": "scattergl"
           }
          ],
          "scattermapbox": [
           {
            "marker": {
             "colorbar": {
              "outlinewidth": 0,
              "ticks": ""
             }
            },
            "type": "scattermapbox"
           }
          ],
          "scatterpolar": [
           {
            "marker": {
             "colorbar": {
              "outlinewidth": 0,
              "ticks": ""
             }
            },
            "type": "scatterpolar"
           }
          ],
          "scatterpolargl": [
           {
            "marker": {
             "colorbar": {
              "outlinewidth": 0,
              "ticks": ""
             }
            },
            "type": "scatterpolargl"
           }
          ],
          "scatterternary": [
           {
            "marker": {
             "colorbar": {
              "outlinewidth": 0,
              "ticks": ""
             }
            },
            "type": "scatterternary"
           }
          ],
          "surface": [
           {
            "colorbar": {
             "outlinewidth": 0,
             "ticks": ""
            },
            "colorscale": [
             [
              0,
              "#0d0887"
             ],
             [
              0.1111111111111111,
              "#46039f"
             ],
             [
              0.2222222222222222,
              "#7201a8"
             ],
             [
              0.3333333333333333,
              "#9c179e"
             ],
             [
              0.4444444444444444,
              "#bd3786"
             ],
             [
              0.5555555555555556,
              "#d8576b"
             ],
             [
              0.6666666666666666,
              "#ed7953"
             ],
             [
              0.7777777777777778,
              "#fb9f3a"
             ],
             [
              0.8888888888888888,
              "#fdca26"
             ],
             [
              1,
              "#f0f921"
             ]
            ],
            "type": "surface"
           }
          ],
          "table": [
           {
            "cells": {
             "fill": {
              "color": "#EBF0F8"
             },
             "line": {
              "color": "white"
             }
            },
            "header": {
             "fill": {
              "color": "#C8D4E3"
             },
             "line": {
              "color": "white"
             }
            },
            "type": "table"
           }
          ]
         },
         "layout": {
          "annotationdefaults": {
           "arrowcolor": "#2a3f5f",
           "arrowhead": 0,
           "arrowwidth": 1
          },
          "autotypenumbers": "strict",
          "coloraxis": {
           "colorbar": {
            "outlinewidth": 0,
            "ticks": ""
           }
          },
          "colorscale": {
           "diverging": [
            [
             0,
             "#8e0152"
            ],
            [
             0.1,
             "#c51b7d"
            ],
            [
             0.2,
             "#de77ae"
            ],
            [
             0.3,
             "#f1b6da"
            ],
            [
             0.4,
             "#fde0ef"
            ],
            [
             0.5,
             "#f7f7f7"
            ],
            [
             0.6,
             "#e6f5d0"
            ],
            [
             0.7,
             "#b8e186"
            ],
            [
             0.8,
             "#7fbc41"
            ],
            [
             0.9,
             "#4d9221"
            ],
            [
             1,
             "#276419"
            ]
           ],
           "sequential": [
            [
             0,
             "#0d0887"
            ],
            [
             0.1111111111111111,
             "#46039f"
            ],
            [
             0.2222222222222222,
             "#7201a8"
            ],
            [
             0.3333333333333333,
             "#9c179e"
            ],
            [
             0.4444444444444444,
             "#bd3786"
            ],
            [
             0.5555555555555556,
             "#d8576b"
            ],
            [
             0.6666666666666666,
             "#ed7953"
            ],
            [
             0.7777777777777778,
             "#fb9f3a"
            ],
            [
             0.8888888888888888,
             "#fdca26"
            ],
            [
             1,
             "#f0f921"
            ]
           ],
           "sequentialminus": [
            [
             0,
             "#0d0887"
            ],
            [
             0.1111111111111111,
             "#46039f"
            ],
            [
             0.2222222222222222,
             "#7201a8"
            ],
            [
             0.3333333333333333,
             "#9c179e"
            ],
            [
             0.4444444444444444,
             "#bd3786"
            ],
            [
             0.5555555555555556,
             "#d8576b"
            ],
            [
             0.6666666666666666,
             "#ed7953"
            ],
            [
             0.7777777777777778,
             "#fb9f3a"
            ],
            [
             0.8888888888888888,
             "#fdca26"
            ],
            [
             1,
             "#f0f921"
            ]
           ]
          },
          "colorway": [
           "#636efa",
           "#EF553B",
           "#00cc96",
           "#ab63fa",
           "#FFA15A",
           "#19d3f3",
           "#FF6692",
           "#B6E880",
           "#FF97FF",
           "#FECB52"
          ],
          "font": {
           "color": "#2a3f5f"
          },
          "geo": {
           "bgcolor": "white",
           "lakecolor": "white",
           "landcolor": "#E5ECF6",
           "showlakes": true,
           "showland": true,
           "subunitcolor": "white"
          },
          "hoverlabel": {
           "align": "left"
          },
          "hovermode": "closest",
          "mapbox": {
           "style": "light"
          },
          "paper_bgcolor": "white",
          "plot_bgcolor": "#E5ECF6",
          "polar": {
           "angularaxis": {
            "gridcolor": "white",
            "linecolor": "white",
            "ticks": ""
           },
           "bgcolor": "#E5ECF6",
           "radialaxis": {
            "gridcolor": "white",
            "linecolor": "white",
            "ticks": ""
           }
          },
          "scene": {
           "xaxis": {
            "backgroundcolor": "#E5ECF6",
            "gridcolor": "white",
            "gridwidth": 2,
            "linecolor": "white",
            "showbackground": true,
            "ticks": "",
            "zerolinecolor": "white"
           },
           "yaxis": {
            "backgroundcolor": "#E5ECF6",
            "gridcolor": "white",
            "gridwidth": 2,
            "linecolor": "white",
            "showbackground": true,
            "ticks": "",
            "zerolinecolor": "white"
           },
           "zaxis": {
            "backgroundcolor": "#E5ECF6",
            "gridcolor": "white",
            "gridwidth": 2,
            "linecolor": "white",
            "showbackground": true,
            "ticks": "",
            "zerolinecolor": "white"
           }
          },
          "shapedefaults": {
           "line": {
            "color": "#2a3f5f"
           }
          },
          "ternary": {
           "aaxis": {
            "gridcolor": "white",
            "linecolor": "white",
            "ticks": ""
           },
           "baxis": {
            "gridcolor": "white",
            "linecolor": "white",
            "ticks": ""
           },
           "bgcolor": "#E5ECF6",
           "caxis": {
            "gridcolor": "white",
            "linecolor": "white",
            "ticks": ""
           }
          },
          "title": {
           "x": 0.05
          },
          "xaxis": {
           "automargin": true,
           "gridcolor": "white",
           "linecolor": "white",
           "ticks": "",
           "title": {
            "standoff": 15
           },
           "zerolinecolor": "white",
           "zerolinewidth": 2
          },
          "yaxis": {
           "automargin": true,
           "gridcolor": "white",
           "linecolor": "white",
           "ticks": "",
           "title": {
            "standoff": 15
           },
           "zerolinecolor": "white",
           "zerolinewidth": 2
          }
         }
        }
       }
      }
     },
     "metadata": {},
     "output_type": "display_data"
    },
    {
     "name": "stdout",
     "output_type": "stream",
     "text": [
      "Intersection Point: (644.9115797979339, -1962.6099189842316, 578.3599464651787)\n"
     ]
    }
   ],
   "source": [
    "import plotly.offline as pyo\n",
    "\n",
    "E_g = E_transformed\n",
    "F_g = F_transformed\n",
    "E_g[2]= 0\n",
    "F_g[2]= 0\n",
    "# line_E = np.cross(E_top, E_transformed)\n",
    "# line_F = np.cross(F_top, F_transformed)\n",
    "\n",
    "# line_E /= line_E[2]\n",
    "# line_F /= line_F[2]\n",
    "# line_E, line_F\n",
    "def plot_two_lines_3d_plotly(p1, p2, p3, p4):\n",
    "    # Extracting coordinates for line 1\n",
    "    x1, y1, z1 = p1\n",
    "    x2, y2, z2 = p2\n",
    "    \n",
    "    # Direction vector for line 1\n",
    "    d1 = np.array([x2 - x1, y2 - y1, z2 - z1])\n",
    "    \n",
    "    # Parametric values for line 1\n",
    "    t1 = np.linspace(-1, 2, 100)\n",
    "    \n",
    "    # Line 1 points\n",
    "    x_line1 = x1 + t1 * d1[0]\n",
    "    y_line1 = y1 + t1 * d1[1]\n",
    "    z_line1 = z1 + t1 * d1[2]\n",
    "    \n",
    "    # Extracting coordinates for line 2\n",
    "    x3, y3, z3 = p3\n",
    "    x4, y4, z4 = p4\n",
    "    \n",
    "    # Direction vector for line 2\n",
    "    d2 = np.array([x4 - x3, y4 - y3, z4 - z3])\n",
    "    \n",
    "    # Parametric values for line 2\n",
    "    t2 = np.linspace(-1, 2, 100)\n",
    "    \n",
    "    # Line 2 points\n",
    "    x_line2 = x3 + t2 * d2[0]\n",
    "    y_line2 = y3 + t2 * d2[1]\n",
    "    z_line2 = z3 + t2 * d2[2]\n",
    "    \n",
    "    # Create trace for line 1\n",
    "    line_trace1 = go.Scatter3d(\n",
    "        x=x_line1,\n",
    "        y=y_line1,\n",
    "        z=z_line1,\n",
    "        mode='lines',\n",
    "        name='Line 1',\n",
    "        line=dict(color='blue', width=2)\n",
    "    )\n",
    "    \n",
    "    # Create trace for line 2\n",
    "    line_trace2 = go.Scatter3d(\n",
    "        x=x_line2,\n",
    "        y=y_line2,\n",
    "        z=z_line2,\n",
    "        mode='lines',\n",
    "        name='Line 2',\n",
    "        line=dict(color='red', width=2)\n",
    "    )\n",
    "    \n",
    "    # Create trace for points\n",
    "    points_trace = go.Scatter3d(\n",
    "        x=[x1, x2, x3, x4],\n",
    "        y=[y1, y2, y3, y4],\n",
    "        z=[z1, z2, z3, z4],\n",
    "        mode='markers',\n",
    "        name='Points',\n",
    "        marker=dict(color='black', size=5)\n",
    "    )\n",
    "    \n",
    "    # Layout\n",
    "    layout = go.Layout(\n",
    "        title='Two Lines through Four Points in 3D',\n",
    "        scene=dict(\n",
    "            xaxis_title='X',\n",
    "            yaxis_title='Y',\n",
    "            zaxis_title='Z'\n",
    "        )\n",
    "    )\n",
    "    \n",
    "    # Create the figure\n",
    "    fig = go.Figure(data=[line_trace1, line_trace2, points_trace], layout=layout)\n",
    "    \n",
    "    # Plot the figure\n",
    "    pyo.iplot(fig)\n",
    "    \n",
    "def find_intersection_point(p1, p2, p3, p4):\n",
    "    # Extracting coordinates for line 1\n",
    "    x1, y1, z1 = p1\n",
    "    x2, y2, z2 = p2\n",
    "    \n",
    "    # Direction vector for line 1\n",
    "    d1 = np.array([x2 - x1, y2 - y1, z2 - z1])\n",
    "    \n",
    "    # Parametric values for line 1\n",
    "    t1 = np.linspace(-1, 2, 100)\n",
    "    \n",
    "    # Line 1 points\n",
    "    x_line1 = x1 + t1 * d1[0]\n",
    "    y_line1 = y1 + t1 * d1[1]\n",
    "    z_line1 = z1 + t1 * d1[2]\n",
    "    \n",
    "    # Extracting coordinates for line 2\n",
    "    x3, y3, z3 = p3\n",
    "    x4, y4, z4 = p4\n",
    "    \n",
    "    # Direction vector for line 2\n",
    "    d2 = np.array([x4 - x3, y4 - y3, z4 - z3])\n",
    "    \n",
    "    # Parametric values for line 2\n",
    "    t2 = np.linspace(-1, 2, 100)\n",
    "    \n",
    "    # Line 2 points\n",
    "    x_line2 = x3 + t2 * d2[0]\n",
    "    y_line2 = y3 + t2 * d2[1]\n",
    "    z_line2 = z3 + t2 * d2[2]\n",
    "    \n",
    "    # Solve for the intersection point\n",
    "    A = np.array([\n",
    "        [d1[0], -d2[0]],\n",
    "        [d1[1], -d2[1]],\n",
    "        [d1[2], -d2[2]]\n",
    "    ])\n",
    "    B = np.array([x3 - x1, y3 - y1, z3 - z1])\n",
    "    t = np.linalg.lstsq(A, B, rcond=None)[0]\n",
    "    \n",
    "    # Calculate intersection point coordinates\n",
    "    intersection_x = x1 + t[0] * d1[0]\n",
    "    intersection_y = y1 + t[0] * d1[1]\n",
    "    intersection_z = z1 + t[0] * d1[2]\n",
    "    \n",
    "    return intersection_x, intersection_y, intersection_z\n",
    "\n",
    "# Function to plot the intersection point of two lines in 3D space using Plotly\n",
    "def plot_intersection_point_3d_plotly(p1, p2, p3, p4):\n",
    "    # Find intersection point\n",
    "    intersection_point = find_intersection_point(p1, p2, p3, p4)\n",
    "    \n",
    "    # Create trace for intersection point\n",
    "    intersection_trace = go.Scatter3d(\n",
    "        x=[intersection_point[0]],\n",
    "        y=[intersection_point[1]],\n",
    "        z=[intersection_point[2]],\n",
    "        mode='markers',\n",
    "        name='Intersection Point',\n",
    "        marker=dict(color='green', size=10)\n",
    "    )\n",
    "    \n",
    "    # Plot two lines and points\n",
    "    plot_two_lines_3d_plotly(p1, p2, p3, p4)\n",
    "    \n",
    "    # Add intersection point to the plot\n",
    "    fig = pyo.iplot([intersection_trace], filename='intersection_point')\n",
    "    \n",
    "    return intersection_point\n",
    "\n",
    "# Example usage\n",
    "p1 = E_g\n",
    "p2 = E_top\n",
    "p3= F_g\n",
    "p4= F_top\n",
    "intersection_point = plot_intersection_point_3d_plotly(p1, p2, p3, p4)\n",
    "print(\"Intersection Point:\", intersection_point)"
   ]
  },
  {
   "cell_type": "code",
   "execution_count": 32,
   "metadata": {},
   "outputs": [
    {
     "data": {
      "application/vnd.plotly.v1+json": {
       "config": {
        "linkText": "Export to plot.ly",
        "plotlyServerURL": "https://plot.ly",
        "showLink": false
       },
       "data": [
        {
         "line": {
          "color": "blue",
          "width": 2
         },
         "mode": "lines",
         "name": "Line 1",
         "type": "scatter3d",
         "x": [
          -292.79339305711096,
          -291.91325259701944,
          -291.0331121369279,
          -290.1529716768364,
          -289.27283121674486,
          -288.39269075665334,
          -287.51255029656187,
          -286.63240983647034,
          -285.7522693763788,
          -284.87212891628735,
          -283.9919884561958,
          -283.1118479961043,
          -282.2317075360128,
          -281.35156707592125,
          -280.4714266158297,
          -279.5912861557382,
          -278.7111456956467,
          -277.83100523555515,
          -276.9508647754637,
          -276.07072431537216,
          -275.19058385528064,
          -274.3104433951891,
          -273.43030293509764,
          -272.5501624750061,
          -271.6700220149146,
          -270.78988155482307,
          -269.90974109473154,
          -269.02960063464,
          -268.1494601745485,
          -267.26931971445697,
          -266.3891792543655,
          -265.509038794274,
          -264.62889833418245,
          -263.7487578740909,
          -262.8686174139994,
          -261.98847695390793,
          -261.1083364938164,
          -260.2281960337249,
          -259.34805557363336,
          -258.46791511354184,
          -257.5877746534503,
          -256.7076341933588,
          -255.8274937332673,
          -254.9473532731758,
          -254.06721281308427,
          -253.18707235299274,
          -252.30693189290122,
          -251.42679143280972,
          -250.54665097271817,
          -249.6665105126267,
          -248.78637005253515,
          -247.90622959244365,
          -247.02608913235213,
          -246.1459486722606,
          -245.2658082121691,
          -244.38566775207758,
          -243.50552729198608,
          -242.62538683189456,
          -241.74524637180303,
          -240.8651059117115,
          -239.98496545162,
          -239.1048249915285,
          -238.224684531437,
          -237.34454407134547,
          -236.46440361125394,
          -235.58426315116242,
          -234.70412269107092,
          -233.82398223097937,
          -232.9438417708879,
          -232.06370131079638,
          -231.18356085070485,
          -230.30342039061333,
          -229.4232799305218,
          -228.5431394704303,
          -227.66299901033878,
          -226.78285855024728,
          -225.90271809015576,
          -225.02257763006423,
          -224.1424371699727,
          -223.2622967098812,
          -222.3821562497897,
          -221.5020157896982,
          -220.62187532960667,
          -219.74173486951514,
          -218.86159440942362,
          -217.98145394933212,
          -217.1013134892406,
          -216.2211730291491,
          -215.34103256905757,
          -214.46089210896605,
          -213.58075164887453,
          -212.700611188783,
          -211.8204707286915,
          -210.94033026859998,
          -210.06018980850845,
          -209.18004934841696,
          -208.29990888832543,
          -207.4197684282339,
          -206.53962796814238,
          -205.6594875080509,
          -204.77934704795936,
          -203.89920658786787,
          -203.01906612777634,
          -202.13892566768482,
          -201.25878520759332,
          -200.3786447475018,
          -199.49850428741027,
          -198.61836382731877,
          -197.73822336722725,
          -196.85808290713572,
          -195.9779424470442,
          -195.0978019869527,
          -194.21766152686118,
          -193.33752106676965,
          -192.45738060667816,
          -191.57724014658663,
          -190.6970996864951,
          -189.81695922640358,
          -188.9368187663121,
          -188.0566783062206,
          -187.17653784612907,
          -186.29639738603754,
          -185.41625692594602,
          -184.53611646585452,
          -183.655976005763,
          -182.77583554567147,
          -181.89569508557997,
          -181.01555462548845,
          -180.13541416539692,
          -179.2552737053054,
          -178.3751332452139,
          -177.49499278512238,
          -176.61485232503085,
          -175.73471186493936,
          -174.85457140484783,
          -173.9744309447563,
          -173.09429048466478,
          -172.21415002457329,
          -171.3340095644818,
          -170.45386910439026,
          -169.57372864429874,
          -168.69358818420721,
          -167.81344772411572,
          -166.9333072640242,
          -166.05316680393267,
          -165.17302634384114,
          -164.29288588374965,
          -163.41274542365812,
          -162.5326049635666,
          -161.6524645034751,
          -160.77232404338358,
          -159.89218358329205,
          -159.01204312320053,
          -158.13190266310903,
          -157.2517622030175,
          -156.37162174292598,
          -155.49148128283449,
          -154.61134082274296,
          -153.73120036265146,
          -152.85105990255994,
          -151.97091944246841,
          -151.0907789823769,
          -150.2106385222854,
          -149.33049806219387,
          -148.45035760210234,
          -147.57021714201085,
          -146.69007668191932,
          -145.8099362218278,
          -144.9297957617363,
          -144.04965530164478,
          -143.16951484155328,
          -142.28937438146173,
          -141.40923392137023,
          -140.5290934612787,
          -139.6489530011872,
          -138.76881254109566,
          -137.88867208100416,
          -137.00853162091263,
          -136.12839116082114,
          -135.2482507007296,
          -134.3681102406381,
          -133.48796978054656,
          -132.60782932045507,
          -131.72768886036357,
          -130.84754840027205,
          -129.96740794018052,
          -129.087267480089,
          -128.2071270199975,
          -127.32698655990596,
          -126.44684609981446,
          -125.56670563972293,
          -124.68656517963143,
          -123.8064247195399,
          -122.9262842594484,
          -122.04614379935687,
          -121.16600333926536,
          -120.28586287917383,
          -119.40572241908234,
          -118.5255819589908,
          -117.6454414988993,
          -116.76530103880776,
          -115.88516057871627,
          -115.00502011862477,
          -114.12487965853323,
          -113.24473919844172,
          -112.3645987383502,
          -111.4844582782587,
          -110.60431781816716,
          -109.72417735807566,
          -108.84403689798413,
          -107.96389643789263,
          -107.0837559778011,
          -106.2036155177096,
          -105.32347505761805,
          -104.44333459752656,
          -103.56319413743503,
          -102.68305367734354,
          -101.802913217252,
          -100.92277275716049,
          -100.04263229706896,
          -99.16249183697747,
          -98.28235137688597,
          -97.40221091679443,
          -96.52207045670292,
          -95.6419299966114,
          -94.7617895365199,
          -93.88164907642836,
          -93.00150861633686,
          -92.12136815624532,
          -91.24122769615383,
          -90.3610872360623,
          -89.48094677597079,
          -88.60080631587925,
          -87.72066585578776,
          -86.84052539569623,
          -85.96038493560474,
          -85.08024447551318,
          -84.20010401542169,
          -83.31996355533019,
          -82.43982309523867,
          -81.55968263514715,
          -80.67954217505563,
          -79.79940171496412,
          -78.9192612548726,
          -78.03912079478108,
          -77.15898033468956,
          -76.27883987459806,
          -75.39869941450652,
          -74.51855895441503,
          -73.63841849432349,
          -72.75827803423199,
          -71.87813757414045,
          -70.99799711404896,
          -70.11785665395742,
          -69.23771619386592,
          -68.3575757337744,
          -67.47743527368289,
          -66.59729481359139,
          -65.71715435349985,
          -64.83701389340835,
          -63.956873433316815,
          -63.07673297322532,
          -62.196592513133794,
          -61.31645205304228,
          -60.43631159295076,
          -59.55617113285925,
          -58.67603067276772,
          -57.79589021267623,
          -56.91574975258469,
          -56.03560929249319,
          -55.15546883240165,
          -54.275328372310156,
          -53.39518791221862,
          -52.51504745212712,
          -51.63490699203558,
          -50.754766531944085,
          -49.87462607185259,
          -48.99448561176105,
          -48.11434515166955,
          -47.234204691578014,
          -46.35406423148652,
          -45.47392377139498,
          -44.59378331130348,
          -43.71364285121196,
          -42.83350239112045,
          -41.95336193102892,
          -41.07322147093741,
          -40.19308101084589,
          -39.31294055075439,
          -38.43280009066285,
          -37.552659630571355,
          -36.672519170479816,
          -35.79237871038832,
          -34.912238250296824,
          -34.032097790205285,
          -33.15195733011379,
          -32.27181687002225,
          -31.391676409930753,
          -30.511535949839214,
          -29.631395489747717,
          -28.75125502965618,
          -27.871114569564682,
          -26.990974109473143,
          -26.110833649381647,
          -25.230693189290122,
          -24.35055272919861,
          -23.470412269107086,
          -22.590271809015576,
          -21.71013134892405,
          -20.829990888832555,
          -19.949850428741016,
          -19.06970996864952,
          -18.18956950855801,
          -17.309429048466484,
          -16.429288588374988,
          -15.549148128283434,
          -14.669007668191938,
          -13.788867208100413,
          -12.908726748008917,
          -12.028586287917392,
          -11.148445827825867,
          -10.268305367734342,
          -9.388164907642846,
          -8.508024447551321,
          -7.627883987459825,
          -6.7477435273682715,
          -5.867603067276775,
          -4.98746260718525,
          -4.107322147093754,
          -3.2271816870022008,
          -2.3470412269107044,
          -1.466900766819208,
          -0.5867603067276832,
          0.2933801533638416,
          1.1735206134553664,
          2.053661073546863,
          2.933801533638359,
          3.8139419937299124,
          4.694082453821409,
          5.574222913912934,
          6.45436337400443,
          7.334503834095983,
          8.21464429418748,
          9.094784754279004,
          9.9749252143705,
          10.855065674462054,
          11.73520613455355,
          12.615346594645047,
          13.495487054736572,
          14.375627514828068,
          15.255767974919621,
          16.135908435011117,
          17.016048895102614,
          17.89618935519414,
          18.776329815285692,
          19.65647027537719,
          20.536610735468685,
          21.41675119556018,
          22.296891655651763,
          23.17703211574326,
          24.057172575834755,
          24.937313035926252,
          25.817453496017833,
          26.69759395610933,
          27.577734416200826,
          28.457874876292323,
          29.33801533638382,
          30.2181557964754,
          31.098296256566897,
          31.978436716658393,
          32.85857717674989,
          33.73871763684147,
          34.61885809693297,
          35.498998557024464,
          36.37913901711596,
          37.25927947720754,
          38.13941993729904,
          39.019560397390535,
          39.89970085748203,
          40.779841317573585,
          41.65998177766511,
          42.540122237756606,
          43.4202626978481,
          44.300403157939655,
          45.18054361803115,
          46.06068407812268,
          46.94082453821417,
          47.82096499830567,
          48.70110545839722,
          49.58124591848872,
          50.461386378580244,
          51.34152683867174,
          52.22166729876329,
          53.10180775885479,
          53.981948218946286,
          54.86208867903781,
          55.742229139129364,
          56.62236959922086,
          57.50251005931236,
          58.38265051940385,
          59.262790979495435,
          60.14293143958693,
          61.02307189967843,
          61.903212359769924,
          62.78335281986142,
          63.663493279953,
          64.5436337400445,
          65.423774200136,
          66.30391466022749,
          67.18405512031907,
          68.06419558041057,
          68.94433604050207,
          69.82447650059356,
          70.70461696068514,
          71.58475742077664,
          72.46489788086814,
          73.34503834095963,
          74.22517880105121,
          75.10531926114271,
          75.98545972123421,
          76.8656001813257,
          77.7457406414172,
          78.62588110150878,
          79.50602156160028,
          80.38616202169177,
          81.26630248178327,
          82.14644294187482,
          83.02658340196635,
          83.90672386205785,
          84.78686432214934,
          85.6670047822409,
          86.54714524233239,
          87.42728570242392,
          88.30742616251541,
          89.18756662260697,
          90.06770708269846,
          90.94784754278996,
          91.82798800288148,
          92.70812846297304,
          93.58826892306453,
          94.46840938315603,
          95.34854984324753,
          96.22869030333905,
          97.1088307634306,
          97.9889712235221,
          98.8691116836136,
          99.74925214370512,
          100.62939260379667,
          101.50953306388817,
          102.38967352397967,
          103.26981398407116,
          104.14995444416274,
          105.03009490425424,
          105.91023536434574,
          106.79037582443723,
          107.67051628452882,
          108.55065674462031,
          109.43079720471181,
          110.3109376648033,
          111.19107812489483,
          112.07121858498635,
          112.95135904507788,
          113.83149950516935,
          114.71163996526087,
          115.59178042535245,
          116.47192088544392,
          117.35206134553545,
          118.23220180562697,
          119.1123422657185,
          119.99248272581002,
          120.87262318590149,
          121.75276364599301,
          122.6329041060846,
          123.51304456617606,
          124.39318502626759,
          125.27332548635906,
          126.15346594645058,
          127.03360640654216,
          127.91374686663363,
          128.79388732672516,
          129.67402778681662,
          130.5541682469082,
          131.43430870699973,
          132.3144491670912,
          133.19458962718272,
          134.0747300872743,
          134.95487054736577,
          135.8350110074573,
          136.71515146754876,
          137.59529192764035,
          138.47543238773187,
          139.35557284782334,
          140.23571330791486,
          141.1158537680064,
          141.9959942280979,
          142.87613468818944,
          143.7562751482809,
          144.63641560837243,
          145.51655606846396,
          146.39669652855548
         ],
         "y": [
          2618.3941769316916,
          2614.0943948367067,
          2609.7946127417217,
          2605.4948306467363,
          2601.1950485517514,
          2596.8952664567664,
          2592.5954843617815,
          2588.295702266796,
          2583.995920171811,
          2579.696138076826,
          2575.396355981841,
          2571.0965738868563,
          2566.7967917918713,
          2562.497009696886,
          2558.197227601901,
          2553.897445506916,
          2549.5976634119306,
          2545.2978813169457,
          2540.9980992219607,
          2536.698317126976,
          2532.398535031991,
          2528.098752937006,
          2523.7989708420205,
          2519.4991887470355,
          2515.1994066520506,
          2510.8996245570656,
          2506.5998424620802,
          2502.3000603670953,
          2498.0002782721103,
          2493.7004961771254,
          2489.4007140821404,
          2485.1009319871555,
          2480.80114989217,
          2476.501367797185,
          2472.2015857022,
          2467.901803607215,
          2463.60202151223,
          2459.302239417245,
          2455.00245732226,
          2450.702675227275,
          2446.40289313229,
          2442.1031110373046,
          2437.8033289423197,
          2433.5035468473347,
          2429.2037647523493,
          2424.9039826573644,
          2420.6042005623794,
          2416.3044184673945,
          2412.0046363724095,
          2407.7048542774246,
          2403.405072182439,
          2399.1052900874543,
          2394.8055079924693,
          2390.5057258974844,
          2386.205943802499,
          2381.906161707514,
          2377.606379612529,
          2373.306597517544,
          2369.006815422559,
          2364.7070333275738,
          2360.407251232589,
          2356.107469137604,
          2351.807687042619,
          2347.5079049476335,
          2343.2081228526486,
          2338.9083407576636,
          2334.6085586626787,
          2330.3087765676937,
          2326.0089944727088,
          2321.7092123777234,
          2317.4094302827384,
          2313.1096481877535,
          2308.8098660927685,
          2304.510083997783,
          2300.210301902798,
          2295.910519807813,
          2291.6107377128283,
          2287.3109556178433,
          2283.011173522858,
          2278.711391427873,
          2274.411609332888,
          2270.111827237903,
          2265.8120451429177,
          2261.5122630479327,
          2257.2124809529478,
          2252.912698857963,
          2248.612916762978,
          2244.313134667993,
          2240.0133525730075,
          2235.7135704780226,
          2231.4137883830376,
          2227.1140062880527,
          2222.8142241930673,
          2218.5144420980823,
          2214.2146600030974,
          2209.9148779081124,
          2205.6150958131275,
          2201.315313718142,
          2197.015531623157,
          2192.715749528172,
          2188.4159674331872,
          2184.1161853382023,
          2179.816403243217,
          2175.516621148232,
          2171.216839053247,
          2166.917056958262,
          2162.617274863277,
          2158.3174927682917,
          2154.0177106733067,
          2149.717928578322,
          2145.418146483337,
          2141.1183643883514,
          2136.8185822933665,
          2132.5188001983815,
          2128.2190181033966,
          2123.9192360084116,
          2119.6194539134262,
          2115.3196718184413,
          2111.0198897234563,
          2106.7201076284714,
          2102.4203255334864,
          2098.120543438501,
          2093.820761343516,
          2089.520979248531,
          2085.221197153546,
          2080.9214150585613,
          2076.621632963576,
          2072.321850868591,
          2068.022068773606,
          2063.722286678621,
          2059.4225045836356,
          2055.1227224886507,
          2050.8229403936657,
          2046.5231582986805,
          2042.2233762036956,
          2037.9235941087104,
          2033.6238120137255,
          2029.3240299187405,
          2025.0242478237556,
          2020.7244657287704,
          2016.4246836337854,
          2012.1249015388003,
          2007.8251194438153,
          2003.5253373488301,
          1999.2255552538452,
          1994.92577315886,
          1990.625991063875,
          1986.3262089688901,
          1982.026426873905,
          1977.72664477892,
          1973.4268626839348,
          1969.1270805889499,
          1964.8272984939647,
          1960.5275163989797,
          1956.2277343039946,
          1951.9279522090096,
          1947.6281701140247,
          1943.3283880190395,
          1939.0286059240545,
          1934.7288238290696,
          1930.4290417340844,
          1926.1292596390995,
          1921.8294775441143,
          1917.5296954491293,
          1913.2299133541442,
          1908.9301312591592,
          1904.630349164174,
          1900.330567069189,
          1896.0307849742042,
          1891.731002879219,
          1887.431220784234,
          1883.1314386892489,
          1878.831656594264,
          1874.5318744992787,
          1870.2320924042938,
          1865.9323103093088,
          1861.6325282143237,
          1857.3327461193387,
          1853.0329640243535,
          1848.7331819293686,
          1844.4333998343836,
          1840.1336177393985,
          1835.8338356444135,
          1831.5340535494286,
          1827.2342714544434,
          1822.9344893594584,
          1818.6347072644733,
          1814.3349251694883,
          1810.0351430745031,
          1805.7353609795182,
          1801.435578884533,
          1797.135796789548,
          1792.836014694563,
          1788.536232599578,
          1784.2364505045928,
          1779.9366684096078,
          1775.6368863146226,
          1771.3371042196377,
          1767.0373221246527,
          1762.7375400296678,
          1758.4377579346826,
          1754.1379758396977,
          1749.8381937447125,
          1745.5384116497275,
          1741.2386295547426,
          1736.9388474597574,
          1732.6390653647725,
          1728.3392832697873,
          1724.0395011748024,
          1719.7397190798172,
          1715.4399369848322,
          1711.140154889847,
          1706.840372794862,
          1702.540590699877,
          1698.240808604892,
          1693.9410265099068,
          1689.6412444149219,
          1685.341462319937,
          1681.041680224952,
          1676.7418981299668,
          1672.4421160349818,
          1668.1423339399967,
          1663.8425518450117,
          1659.5427697500268,
          1655.2429876550416,
          1650.9432055600566,
          1646.6434234650715,
          1642.3436413700865,
          1638.0438592751013,
          1633.7440771801164,
          1629.4442950851312,
          1625.1445129901463,
          1620.844730895161,
          1616.5449488001761,
          1612.245166705191,
          1607.945384610206,
          1603.645602515221,
          1599.345820420236,
          1595.046038325251,
          1590.7462562302658,
          1586.4464741352808,
          1582.1466920402959,
          1577.846909945311,
          1573.5471278503258,
          1569.2473457553406,
          1564.9475636603556,
          1560.6477815653707,
          1556.3479994703855,
          1552.0482173754006,
          1547.7484352804154,
          1543.4486531854304,
          1539.1488710904453,
          1534.8490889954603,
          1530.5493069004751,
          1526.2495248054902,
          1521.9497427105052,
          1517.64996061552,
          1513.350178520535,
          1509.05039642555,
          1504.750614330565,
          1500.45083223558,
          1496.151050140595,
          1491.85126804561,
          1487.5514859506247,
          1483.2517038556398,
          1478.9519217606548,
          1474.6521396656697,
          1470.3523575706847,
          1466.0525754756995,
          1461.7527933807146,
          1457.4530112857294,
          1453.1532291907445,
          1448.8534470957593,
          1444.5536650007743,
          1440.2538829057892,
          1435.9541008108042,
          1431.6543187158193,
          1427.354536620834,
          1423.0547545258491,
          1418.7549724308642,
          1414.455190335879,
          1410.1554082408938,
          1405.855626145909,
          1401.555844050924,
          1397.256061955939,
          1392.9562798609538,
          1388.6564977659687,
          1384.3567156709837,
          1380.0569335759988,
          1375.7571514810136,
          1371.4573693860286,
          1367.1575872910435,
          1362.8578051960585,
          1358.5580231010736,
          1354.2582410060884,
          1349.9584589111034,
          1345.6586768161183,
          1341.3588947211333,
          1337.0591126261484,
          1332.7593305311634,
          1328.459548436178,
          1324.159766341193,
          1319.8599842462081,
          1315.5602021512232,
          1311.2604200562378,
          1306.9606379612528,
          1302.6608558662679,
          1298.361073771283,
          1294.0612916762977,
          1289.7615095813128,
          1285.4617274863276,
          1281.1619453913427,
          1276.8621632963577,
          1272.5623812013725,
          1268.2625991063876,
          1263.9628170114024,
          1259.6630349164175,
          1255.3632528214325,
          1251.0634707264473,
          1246.7636886314622,
          1242.4639065364772,
          1238.1641244414923,
          1233.8643423465073,
          1229.564560251522,
          1225.264778156537,
          1220.964996061552,
          1216.665213966567,
          1212.365431871582,
          1208.0656497765967,
          1203.7658676816118,
          1199.4660855866268,
          1195.1663034916419,
          1190.8665213966567,
          1186.5667393016715,
          1182.2669572066866,
          1177.9671751117016,
          1173.6673930167167,
          1169.3676109217313,
          1165.0678288267463,
          1160.7680467317614,
          1156.4682646367764,
          1152.168482541791,
          1147.868700446806,
          1143.5689183518211,
          1139.2691362568362,
          1134.969354161851,
          1130.669572066866,
          1126.369789971881,
          1122.070007876896,
          1117.770225781911,
          1113.4704436869258,
          1109.1706615919409,
          1104.870879496956,
          1100.5710974019707,
          1096.2713153069856,
          1091.9715332120006,
          1087.6717511170157,
          1083.3719690220307,
          1079.0721869270455,
          1074.7724048320606,
          1070.4726227370754,
          1066.1728406420905,
          1061.8730585471053,
          1057.5732764521204,
          1053.2734943571354,
          1048.9737122621505,
          1044.6739301671655,
          1040.37414807218,
          1036.0743659771952,
          1031.7745838822102,
          1027.4748017872253,
          1023.1750196922399,
          1018.8752375972549,
          1014.57545550227,
          1010.2756734072849,
          1005.9758913122996,
          1001.6761092173147,
          997.3763271223297,
          993.0765450273448,
          988.7767629323595,
          984.4769808373745,
          980.1771987423896,
          975.8774166474045,
          971.5776345524192,
          967.2778524574343,
          962.9780703624493,
          958.6782882674644,
          954.3785061724794,
          950.0787240774941,
          945.7789419825091,
          941.4791598875241,
          937.1793777925392,
          932.8795956975539,
          928.579813602569,
          924.280031507584,
          919.980249412599,
          915.6804673176138,
          911.3806852226287,
          907.0809031276438,
          902.7811210326588,
          898.4813389376735,
          894.1815568426886,
          889.8817747477036,
          885.5819926527186,
          881.2822105577336,
          876.9824284627484,
          872.6826463677635,
          868.3828642727783,
          864.0830821777934,
          859.7833000828082,
          855.4835179878232,
          851.1837358928383,
          846.8839537978533,
          842.5841717028679,
          838.284389607883,
          833.984607512898,
          829.6848254179131,
          825.3850433229277,
          821.0852612279427,
          816.7854791329578,
          812.4856970379728,
          808.1859149429879,
          803.8861328480025,
          799.5863507530175,
          795.2865686580326,
          790.9867865630476,
          786.6870044680625,
          782.3872223730775,
          778.0874402780923,
          773.7876581831074,
          769.4878760881222,
          765.1880939931373,
          760.8883118981523,
          756.5885298031674,
          752.288747708182,
          747.988965613197,
          743.6891835182121,
          739.3894014232271,
          735.0896193282417,
          730.7898372332568,
          726.4900551382718,
          722.1902730432869,
          717.8904909483019,
          713.5907088533165,
          709.2909267583316,
          704.9911446633466,
          700.6913625683617,
          696.3915804733765,
          692.0917983783916,
          687.7920162834064,
          683.4922341884214,
          679.1924520934363,
          674.8926699984513,
          670.5928879034664,
          666.2931058084814,
          661.993323713496,
          657.6935416185111,
          653.3937595235261,
          649.0939774285412,
          644.7941953335562,
          640.4944132385708,
          636.1946311435859,
          631.8948490486009,
          627.595066953616,
          623.2952848586306,
          618.9955027636456,
          614.6957206686607,
          610.3959385736757,
          606.0961564786905,
          601.7963743837056,
          597.4965922887206,
          593.1968101937355,
          588.8970280987503,
          584.5972460037653,
          580.2974639087804,
          575.9976818137955,
          571.6978997188105,
          567.3981176238251,
          563.0983355288402,
          558.7985534338552,
          554.4987713388703,
          550.1989892438849,
          545.8992071488999,
          541.599425053915,
          537.29964295893,
          532.9998608639448,
          528.7000787689597,
          524.4002966739747,
          520.1005145789898,
          515.8007324840046,
          511.50095038901964,
          507.2011682940347,
          502.9013861990495,
          498.60160410406434,
          494.3018220090794,
          490.00203991409444,
          485.7022578191095,
          481.40247572412454,
          477.10269362913914,
          472.8029115341542
         ],
         "z": [
          -107,
          -106.3567134268537,
          -105.71342685370742,
          -105.07014028056112,
          -104.42685370741482,
          -103.78356713426854,
          -103.14028056112224,
          -102.49699398797594,
          -101.85370741482966,
          -101.21042084168337,
          -100.56713426853707,
          -99.92384769539079,
          -99.28056112224449,
          -98.6372745490982,
          -97.99398797595191,
          -97.35070140280561,
          -96.70741482965931,
          -96.06412825651303,
          -95.42084168336673,
          -94.77755511022045,
          -94.13426853707415,
          -93.49098196392785,
          -92.84769539078157,
          -92.20440881763527,
          -91.56112224448897,
          -90.91783567134269,
          -90.2745490981964,
          -89.63126252505009,
          -88.98797595190382,
          -88.34468937875751,
          -87.70140280561122,
          -87.05811623246494,
          -86.41482965931864,
          -85.77154308617234,
          -85.12825651302606,
          -84.48496993987976,
          -83.84168336673346,
          -83.19839679358718,
          -82.55511022044088,
          -81.91182364729458,
          -81.2685370741483,
          -80.625250501002,
          -79.9819639278557,
          -79.33867735470943,
          -78.69539078156312,
          -78.05210420841684,
          -77.40881763527054,
          -76.76553106212425,
          -76.12224448897796,
          -75.47895791583167,
          -74.83567134268536,
          -74.19238476953907,
          -73.54909819639279,
          -72.90581162324649,
          -72.2625250501002,
          -71.61923847695391,
          -70.97595190380761,
          -70.33266533066133,
          -69.68937875751503,
          -69.04609218436873,
          -68.40280561122245,
          -67.75951903807615,
          -67.11623246492987,
          -66.47294589178357,
          -65.82965931863728,
          -65.18637274549097,
          -64.5430861723447,
          -63.89979959919839,
          -63.256513026052104,
          -62.61322645290581,
          -61.96993987975952,
          -61.32665330661323,
          -60.68336673346693,
          -60.04008016032064,
          -59.39679358717435,
          -58.75350701402805,
          -58.11022044088176,
          -57.46693386773547,
          -56.82364729458918,
          -56.180360721442895,
          -55.53707414829659,
          -54.893787575150306,
          -54.250501002004,
          -53.60721442885772,
          -52.963927855711425,
          -52.320641282565134,
          -51.67735470941884,
          -51.03406813627255,
          -50.390781563126254,
          -49.74749498997996,
          -49.10420841683367,
          -48.46092184368737,
          -47.81763527054108,
          -47.17434869739479,
          -46.53106212424849,
          -45.8877755511022,
          -45.24448897795591,
          -44.60120240480962,
          -43.95791583166332,
          -43.31462925851703,
          -42.67134268537074,
          -42.028056112224455,
          -41.384769539078164,
          -40.741482965931866,
          -40.098196392785574,
          -39.45490981963928,
          -38.81162324649299,
          -38.168336673346694,
          -37.5250501002004,
          -36.88176352705411,
          -36.23847695390781,
          -35.59519038076152,
          -34.95190380761523,
          -34.30861723446893,
          -33.66533066132264,
          -33.02204408817635,
          -32.37875751503006,
          -31.735470941883765,
          -31.09218436873747,
          -30.44889779559119,
          -29.805611222444895,
          -29.162324649298604,
          -28.51903807615231,
          -27.875751503006015,
          -27.232464929859724,
          -26.58917835671343,
          -25.945891783567138,
          -25.302605210420843,
          -24.65931863727455,
          -24.016032064128257,
          -23.372745490981963,
          -22.72945891783567,
          -22.086172344689377,
          -21.442885771543082,
          -20.79959919839679,
          -20.156312625250496,
          -19.513026052104205,
          -18.86973947895791,
          -18.22645290581163,
          -17.583166332665336,
          -16.939879759519044,
          -16.29659318637275,
          -15.653306613226457,
          -15.010020040080164,
          -14.36673346693387,
          -13.723446893787576,
          -13.080160320641284,
          -12.43687374749499,
          -11.793587174348698,
          -11.150300601202405,
          -10.50701402805611,
          -9.863727454909817,
          -9.220440881763524,
          -8.577154308617231,
          -7.933867735470938,
          -7.290581162324645,
          -6.6472945891783635,
          -6.004008016032071,
          -5.360721442885777,
          -4.717434869739484,
          -4.07414829659319,
          -3.430861723446897,
          -2.787575150300604,
          -2.1442885771543105,
          -1.5010020040080176,
          -0.8577154308617243,
          -0.21442885771543108,
          0.42885771543086215,
          1.0721442885771435,
          1.7154308617234486,
          2.35871743486973,
          3.0020040080160353,
          3.6452905811623166,
          4.288577154308621,
          4.931863727454903,
          5.575150300601208,
          6.218436873747489,
          6.861723446893794,
          7.505010020040076,
          8.14829659318638,
          8.791583166332662,
          9.434869739478968,
          10.078156312625248,
          10.72144288577153,
          11.364729458917836,
          12.008016032064116,
          12.651302605210422,
          13.294589178356702,
          13.937875751503007,
          14.58116232464929,
          15.224448897795595,
          15.867735470941875,
          16.511022044088183,
          17.154308617234463,
          17.79759519038077,
          18.44088176352705,
          19.084168336673354,
          19.727454909819635,
          20.37074148296594,
          21.01402805611222,
          21.657314629258526,
          22.30060120240481,
          22.94388777555109,
          23.587174348697395,
          24.230460921843676,
          24.87374749498998,
          25.51703406813626,
          26.160320641282567,
          26.803607214428848,
          27.446893787575153,
          28.090180360721437,
          28.73346693386774,
          29.376753507014023,
          30.020040080160328,
          30.66332665330661,
          31.306613226452914,
          31.949899799599194,
          32.5931863727455,
          33.236472945891784,
          33.87975951903809,
          34.523046092184366,
          35.16633266533065,
          35.809619238476955,
          36.45290581162323,
          37.09619238476954,
          37.73947895791582,
          38.38276553106213,
          39.02605210420841,
          39.669338677354716,
          40.31262525050099,
          40.9559118236473,
          41.59919839679358,
          42.24248496993989,
          42.885771543086165,
          43.52905811623247,
          44.172344689378754,
          44.81563126252506,
          45.45891783567134,
          46.10220440881762,
          46.745490981963925,
          47.38877755511021,
          48.032064128256515,
          48.67535070140279,
          49.3186372745491,
          49.96192384769538,
          50.605210420841686,
          51.24849699398797,
          51.891783567134276,
          52.53507014028055,
          53.17835671342686,
          53.82164328657314,
          54.46492985971945,
          55.108216432865724,
          55.75150300601203,
          56.394789579158314,
          57.03807615230462,
          57.6813627254509,
          58.32464929859718,
          58.967935871743485,
          59.61122244488977,
          60.254509018036075,
          60.89779559118235,
          61.54108216432866,
          62.18436873747494,
          62.827655310621246,
          63.47094188376753,
          64.11422845691384,
          64.75751503006012,
          65.40080160320642,
          66.0440881763527,
          66.687374749499,
          67.33066132264528,
          67.9739478957916,
          68.61723446893787,
          69.26052104208418,
          69.90380761523046,
          70.54709418837675,
          71.19038076152304,
          71.83366733466933,
          72.47695390781563,
          73.12024048096191,
          73.76352705410822,
          74.4068136272545,
          75.0501002004008,
          75.69338677354709,
          76.33667334669339,
          76.97995991983967,
          77.62324649298598,
          78.26653306613225,
          78.90981963927857,
          79.55310621242485,
          80.19639278557115,
          80.83967935871743,
          81.48296593186372,
          82.12625250501002,
          82.7695390781563,
          83.41282565130261,
          84.05611222444888,
          84.6993987975952,
          85.34268537074148,
          85.98597194388778,
          86.62925851703406,
          87.27254509018036,
          87.91583166332664,
          88.55911823647295,
          89.20240480961924,
          89.84569138276554,
          90.48897795591182,
          91.13226452905812,
          91.7755511022044,
          92.41883767535072,
          93.06212424849699,
          93.70541082164327,
          94.34869739478958,
          94.99198396793587,
          95.63527054108216,
          96.27855711422845,
          96.92184368737475,
          97.56513026052103,
          98.20841683366734,
          98.85170340681361,
          99.49498997995993,
          100.13827655310621,
          100.78156312625251,
          101.42484969939879,
          102.0681362725451,
          102.71142284569137,
          103.35470941883769,
          103.99799599198397,
          104.64128256513027,
          105.28456913827655,
          105.92785571142284,
          106.57114228456913,
          107.21442885771545,
          107.85771543086173,
          108.501002004008,
          109.14428857715428,
          109.78757515030061,
          110.4308617234469,
          111.07414829659318,
          111.71743486973946,
          112.36072144288579,
          113.00400801603207,
          113.64729458917836,
          114.29058116232463,
          114.93386773547095,
          115.57715430861724,
          116.22044088176352,
          116.8637274549098,
          117.50701402805609,
          118.15030060120242,
          118.7935871743487,
          119.43687374749499,
          120.08016032064126,
          120.72344689378758,
          121.36673346693387,
          122.01002004008015,
          122.65330661322643,
          123.29659318637276,
          123.93987975951904,
          124.58316633266533,
          125.22645290581161,
          125.86973947895794,
          126.51302605210421,
          127.1563126252505,
          127.79959919839678,
          128.44288577154305,
          129.0861723446894,
          129.72945891783567,
          130.37274549098194,
          131.01603206412824,
          131.65931863727457,
          132.30260521042084,
          132.94589178356713,
          133.5891783567134,
          134.23246492985973,
          134.87575150300603,
          135.5190380761523,
          136.16232464929857,
          136.8056112224449,
          137.4488977955912,
          138.09218436873746,
          138.73547094188376,
          139.3787575150301,
          140.02204408817636,
          140.66533066132266,
          141.30861723446893,
          141.9519038076152,
          142.59519038076152,
          143.23847695390782,
          143.8817635270541,
          144.5250501002004,
          145.16833667334672,
          145.81162324649299,
          146.45490981963928,
          147.09819639278555,
          147.74148296593188,
          148.38476953907815,
          149.02805611222445,
          149.67134268537072,
          150.31462925851704,
          150.95791583166334,
          151.6012024048096,
          152.2444889779559,
          152.88777555110218,
          153.5310621242485,
          154.17434869739478,
          154.81763527054107,
          155.46092184368734,
          156.10420841683367,
          156.74749498997997,
          157.39078156312624,
          158.03406813627254,
          158.67735470941886,
          159.32064128256513,
          159.9639278557114,
          160.6072144288577,
          161.25050100200403,
          161.8937875751503,
          162.5370741482966,
          163.18036072144287,
          163.82364729458916,
          164.4669338677355,
          165.11022044088176,
          165.75350701402803,
          166.39679358717433,
          167.04008016032066,
          167.68336673346693,
          168.32665330661322,
          168.9699398797595,
          169.61322645290582,
          170.25651302605212,
          170.8997995991984,
          171.54308617234466,
          172.186372745491,
          172.82965931863728,
          173.47294589178355,
          174.11623246492985,
          174.75951903807618,
          175.40280561122245,
          176.04609218436875,
          176.68937875751502,
          177.33266533066129,
          177.97595190380764,
          178.6192384769539,
          179.26252505010018,
          179.90581162324648,
          180.5490981963928,
          181.19238476953907,
          181.83567134268537,
          182.47895791583164,
          183.12224448897797,
          183.76553106212427,
          184.40881763527054,
          185.0521042084168,
          185.69539078156313,
          186.33867735470943,
          186.9819639278557,
          187.625250501002,
          188.26853707414827,
          188.9118236472946,
          189.5551102204409,
          190.19839679358716,
          190.84168336673343,
          191.48496993987976,
          192.12825651302606,
          192.77154308617233,
          193.41482965931863,
          194.05811623246495,
          194.70140280561122,
          195.34468937875752,
          195.9879759519038,
          196.63126252505012,
          197.2745490981964,
          197.9178356713427,
          198.56112224448896,
          199.20440881763525,
          199.84769539078158,
          200.49098196392785,
          201.13426853707415,
          201.77755511022042,
          202.42084168336675,
          203.06412825651302,
          203.7074148296593,
          204.35070140280558,
          204.9939879759519,
          205.6372745490982,
          206.28056112224448,
          206.92384769539078,
          207.5671342685371,
          208.21042084168337,
          208.85370741482964,
          209.49699398797594,
          210.14028056112227,
          210.78356713426854,
          211.42685370741484,
          212.0701402805611,
          212.7134268537074,
          213.35671342685373,
          214
         ]
        },
        {
         "line": {
          "color": "red",
          "width": 2
         },
         "mode": "lines",
         "name": "Line 2",
         "type": "scatter3d",
         "x": [
          1566.879619260918,
          1566.0142496639412,
          1565.1488800669645,
          1564.2835104699877,
          1563.418140873011,
          1562.5527712760345,
          1561.6874016790578,
          1560.822032082081,
          1559.9566624851043,
          1559.0912928881276,
          1558.2259232911508,
          1557.360553694174,
          1556.4951840971976,
          1555.6298145002206,
          1554.764444903244,
          1553.8990753062674,
          1553.0337057092906,
          1552.168336112314,
          1551.3029665153372,
          1550.4375969183604,
          1549.5722273213837,
          1548.7068577244072,
          1547.8414881274305,
          1546.9761185304537,
          1546.110748933477,
          1545.2453793365003,
          1544.3800097395235,
          1543.5146401425468,
          1542.64927054557,
          1541.7839009485933,
          1540.9185313516168,
          1540.05316175464,
          1539.1877921576634,
          1538.3224225606866,
          1537.4570529637099,
          1536.5916833667332,
          1535.7263137697564,
          1534.8609441727797,
          1533.995574575803,
          1533.1302049788264,
          1532.2648353818497,
          1531.399465784873,
          1530.5340961878962,
          1529.6687265909195,
          1528.8033569939428,
          1527.937987396966,
          1527.0726177999893,
          1526.2072482030128,
          1525.341878606036,
          1524.4765090090593,
          1523.6111394120826,
          1522.7457698151059,
          1521.8804002181291,
          1521.0150306211524,
          1520.1496610241757,
          1519.2842914271992,
          1518.4189218302224,
          1517.5535522332457,
          1516.688182636269,
          1515.8228130392922,
          1514.9574434423155,
          1514.0920738453387,
          1513.226704248362,
          1512.3613346513853,
          1511.4959650544088,
          1510.630595457432,
          1509.7652258604553,
          1508.8998562634786,
          1508.0344866665018,
          1507.169117069525,
          1506.3037474725484,
          1505.4383778755716,
          1504.573008278595,
          1503.7076386816184,
          1502.8422690846417,
          1501.976899487665,
          1501.1115298906882,
          1500.2461602937115,
          1499.3807906967347,
          1498.515421099758,
          1497.6500515027813,
          1496.7846819058047,
          1495.919312308828,
          1495.0539427118513,
          1494.1885731148745,
          1493.3232035178978,
          1492.457833920921,
          1491.5924643239443,
          1490.7270947269676,
          1489.861725129991,
          1488.9963555330144,
          1488.1309859360376,
          1487.265616339061,
          1486.4002467420842,
          1485.5348771451074,
          1484.6695075481307,
          1483.804137951154,
          1482.9387683541772,
          1482.0733987572007,
          1481.208029160224,
          1480.3426595632473,
          1479.4772899662705,
          1478.6119203692938,
          1477.746550772317,
          1476.8811811753403,
          1476.0158115783636,
          1475.150441981387,
          1474.2850723844103,
          1473.4197027874336,
          1472.5543331904569,
          1471.6889635934801,
          1470.8235939965034,
          1469.9582243995267,
          1469.09285480255,
          1468.2274852055732,
          1467.3621156085967,
          1466.49674601162,
          1465.6313764146432,
          1464.7660068176665,
          1463.9006372206898,
          1463.035267623713,
          1462.1698980267363,
          1461.3045284297596,
          1460.439158832783,
          1459.5737892358063,
          1458.7084196388296,
          1457.8430500418528,
          1456.9776804448761,
          1456.1123108478994,
          1455.2469412509226,
          1454.381571653946,
          1453.5162020569692,
          1452.6508324599927,
          1451.785462863016,
          1450.9200932660392,
          1450.0547236690625,
          1449.1893540720857,
          1448.323984475109,
          1447.4586148781323,
          1446.5932452811555,
          1445.727875684179,
          1444.8625060872023,
          1443.9971364902256,
          1443.1317668932488,
          1442.266397296272,
          1441.4010276992954,
          1440.5356581023186,
          1439.670288505342,
          1438.8049189083654,
          1437.9395493113886,
          1437.074179714412,
          1436.2088101174352,
          1435.3434405204584,
          1434.4780709234817,
          1433.612701326505,
          1432.7473317295282,
          1431.8819621325515,
          1431.016592535575,
          1430.1512229385983,
          1429.2858533416215,
          1428.4204837446448,
          1427.555114147668,
          1426.6897445506913,
          1425.8243749537146,
          1424.9590053567379,
          1424.0936357597614,
          1423.2282661627846,
          1422.362896565808,
          1421.4975269688312,
          1420.6321573718544,
          1419.7667877748777,
          1418.901418177901,
          1418.0360485809242,
          1417.1706789839475,
          1416.305309386971,
          1415.4399397899942,
          1414.5745701930175,
          1413.7092005960408,
          1412.843830999064,
          1411.9784614020873,
          1411.1130918051106,
          1410.2477222081338,
          1409.3823526111573,
          1408.5169830141806,
          1407.6516134172039,
          1406.7862438202271,
          1405.9208742232504,
          1405.0555046262737,
          1404.190135029297,
          1403.3247654323202,
          1402.4593958353435,
          1401.594026238367,
          1400.7286566413902,
          1399.8632870444135,
          1398.9979174474367,
          1398.13254785046,
          1397.2671782534833,
          1396.4018086565065,
          1395.5364390595298,
          1394.6710694625533,
          1393.8056998655766,
          1392.9403302685998,
          1392.074960671623,
          1391.2095910746464,
          1390.3442214776696,
          1389.478851880693,
          1388.6134822837162,
          1387.7481126867394,
          1386.882743089763,
          1386.0173734927862,
          1385.1520038958095,
          1384.2866342988327,
          1383.421264701856,
          1382.5558951048793,
          1381.6905255079025,
          1380.8251559109258,
          1379.9597863139493,
          1379.0944167169725,
          1378.2290471199958,
          1377.363677523019,
          1376.4983079260423,
          1375.6329383290656,
          1374.7675687320889,
          1373.9021991351121,
          1373.0368295381354,
          1372.171459941159,
          1371.3060903441822,
          1370.4407207472054,
          1369.5753511502287,
          1368.709981553252,
          1367.8446119562752,
          1366.9792423592985,
          1366.1138727623218,
          1365.2485031653453,
          1364.3831335683685,
          1363.5177639713918,
          1362.652394374415,
          1361.7870247774383,
          1360.9216551804616,
          1360.0562855834849,
          1359.1909159865081,
          1358.3255463895316,
          1357.4601767925549,
          1356.5948071955781,
          1355.7294375986014,
          1354.8640680016247,
          1353.998698404648,
          1353.1333288076712,
          1352.2679592106945,
          1351.4025896137177,
          1350.5372200167412,
          1349.6718504197645,
          1348.8064808227878,
          1347.941111225811,
          1347.0757416288343,
          1346.2103720318576,
          1345.3450024348808,
          1344.479632837904,
          1343.6142632409274,
          1342.7488936439509,
          1341.8835240469741,
          1341.0181544499974,
          1340.1527848530206,
          1339.287415256044,
          1338.4220456590672,
          1337.5566760620904,
          1336.6913064651137,
          1335.8259368681372,
          1334.9605672711605,
          1334.0951976741837,
          1333.229828077207,
          1332.3644584802303,
          1331.4990888832535,
          1330.6337192862768,
          1329.7683496893,
          1328.9029800923236,
          1328.0376104953468,
          1327.17224089837,
          1326.3068713013934,
          1325.4415017044166,
          1324.57613210744,
          1323.7107625104632,
          1322.8453929134864,
          1321.9800233165097,
          1321.1146537195332,
          1320.2492841225564,
          1319.3839145255797,
          1318.518544928603,
          1317.6531753316262,
          1316.7878057346495,
          1315.9224361376728,
          1315.057066540696,
          1314.1916969437195,
          1313.3263273467428,
          1312.460957749766,
          1311.5955881527893,
          1310.7302185558126,
          1309.8648489588359,
          1308.9994793618591,
          1308.1341097648824,
          1307.2687401679057,
          1306.4033705709292,
          1305.5380009739524,
          1304.6726313769757,
          1303.807261779999,
          1302.9418921830222,
          1302.0765225860455,
          1301.2111529890688,
          1300.345783392092,
          1299.4804137951155,
          1298.6150441981388,
          1297.749674601162,
          1296.8843050041853,
          1296.0189354072086,
          1295.1535658102318,
          1294.288196213255,
          1293.4228266162784,
          1292.5574570193016,
          1291.6920874223251,
          1290.8267178253484,
          1289.9613482283717,
          1289.095978631395,
          1288.2306090344182,
          1287.3652394374415,
          1286.4998698404647,
          1285.634500243488,
          1284.7691306465115,
          1283.9037610495348,
          1283.038391452558,
          1282.1730218555813,
          1281.3076522586045,
          1280.4422826616278,
          1279.576913064651,
          1278.7115434676743,
          1277.8461738706978,
          1276.980804273721,
          1276.1154346767444,
          1275.2500650797676,
          1274.384695482791,
          1273.5193258858142,
          1272.6539562888374,
          1271.7885866918607,
          1270.923217094884,
          1270.0578474979075,
          1269.1924779009307,
          1268.327108303954,
          1267.4617387069773,
          1266.5963691100005,
          1265.7309995130238,
          1264.865629916047,
          1264.0002603190703,
          1263.1348907220936,
          1262.269521125117,
          1261.4041515281403,
          1260.5387819311636,
          1259.6734123341869,
          1258.8080427372101,
          1257.9426731402334,
          1257.0773035432567,
          1256.21193394628,
          1255.3465643493034,
          1254.4811947523267,
          1253.61582515535,
          1252.7504555583732,
          1251.8850859613965,
          1251.0197163644198,
          1250.154346767443,
          1249.2889771704663,
          1248.4236075734898,
          1247.558237976513,
          1246.6928683795363,
          1245.8274987825596,
          1244.9621291855829,
          1244.0967595886061,
          1243.2313899916294,
          1242.3660203946527,
          1241.500650797676,
          1240.6352812006994,
          1239.7699116037227,
          1238.904542006746,
          1238.0391724097692,
          1237.1738028127925,
          1236.3084332158157,
          1235.443063618839,
          1234.5776940218623,
          1233.7123244248855,
          1232.846954827909,
          1231.9815852309323,
          1231.1162156339556,
          1230.2508460369788,
          1229.385476440002,
          1228.5201068430254,
          1227.6547372460486,
          1226.7893676490721,
          1225.9239980520954,
          1225.0586284551187,
          1224.193258858142,
          1223.3278892611652,
          1222.4625196641884,
          1221.5971500672117,
          1220.731780470235,
          1219.8664108732582,
          1219.0010412762817,
          1218.135671679305,
          1217.2703020823283,
          1216.4049324853515,
          1215.5395628883748,
          1214.674193291398,
          1213.8088236944213,
          1212.9434540974446,
          1212.0780845004679,
          1211.2127149034914,
          1210.3473453065146,
          1209.481975709538,
          1208.6166061125612,
          1207.7512365155844,
          1206.8858669186077,
          1206.020497321631,
          1205.1551277246542,
          1204.2897581276777,
          1203.424388530701,
          1202.5590189337242,
          1201.6936493367475,
          1200.8282797397708,
          1199.962910142794,
          1199.0975405458173,
          1198.2321709488406,
          1197.366801351864,
          1196.5014317548873,
          1195.6360621579106,
          1194.7706925609339,
          1193.9053229639571,
          1193.0399533669804,
          1192.1745837700037,
          1191.309214173027,
          1190.4438445760502,
          1189.5784749790737,
          1188.713105382097,
          1187.8477357851202,
          1186.9823661881435,
          1186.1169965911668,
          1185.25162699419,
          1184.3862573972133,
          1183.5208878002366,
          1182.6555182032598,
          1181.7901486062833,
          1180.9247790093066,
          1180.0594094123298,
          1179.194039815353,
          1178.3286702183764,
          1177.4633006213996,
          1176.597931024423,
          1175.7325614274462,
          1174.8671918304697,
          1174.001822233493,
          1173.1364526365162,
          1172.2710830395395,
          1171.4057134425627,
          1170.540343845586,
          1169.6749742486093,
          1168.8096046516325,
          1167.944235054656,
          1167.0788654576793,
          1166.2134958607026,
          1165.3481262637258,
          1164.482756666749,
          1163.6173870697723,
          1162.7520174727956,
          1161.8866478758189,
          1161.0212782788421,
          1160.1559086818656,
          1159.290539084889,
          1158.4251694879122,
          1157.5597998909354,
          1156.6944302939587,
          1155.829060696982,
          1154.9636911000052,
          1154.0983215030285,
          1153.2329519060518,
          1152.3675823090753,
          1151.5022127120985,
          1150.6368431151218,
          1149.771473518145,
          1148.9061039211683,
          1148.0407343241916,
          1147.1753647272149,
          1146.3099951302383,
          1145.4446255332616,
          1144.5792559362849,
          1143.7138863393081,
          1142.8485167423314,
          1141.9831471453547,
          1141.117777548378,
          1140.2524079514012,
          1139.3870383544245,
          1138.521668757448,
          1137.6562991604712,
          1136.7909295634945,
          1135.9255599665178,
          1135.060190369541
         ],
         "y": [
          2618.3941769316925,
          2614.0943948367076,
          2609.7946127417226,
          2605.4948306467372,
          2601.1950485517523,
          2596.8952664567673,
          2592.5954843617824,
          2588.295702266797,
          2583.995920171812,
          2579.696138076827,
          2575.396355981842,
          2571.096573886857,
          2566.7967917918722,
          2562.497009696887,
          2558.197227601902,
          2553.897445506917,
          2549.5976634119315,
          2545.2978813169466,
          2540.9980992219616,
          2536.6983171269767,
          2532.3985350319917,
          2528.098752937007,
          2523.7989708420214,
          2519.4991887470364,
          2515.1994066520515,
          2510.899624557066,
          2506.599842462081,
          2502.300060367096,
          2498.0002782721112,
          2493.7004961771263,
          2489.4007140821413,
          2485.100931987156,
          2480.801149892171,
          2476.501367797186,
          2472.2015857022006,
          2467.9018036072157,
          2463.6020215122307,
          2459.302239417246,
          2455.002457322261,
          2450.702675227276,
          2446.4028931322905,
          2442.1031110373056,
          2437.8033289423206,
          2433.5035468473357,
          2429.2037647523503,
          2424.9039826573653,
          2420.6042005623804,
          2416.3044184673954,
          2412.00463637241,
          2407.704854277425,
          2403.40507218244,
          2399.105290087455,
          2394.80550799247,
          2390.505725897485,
          2386.2059438025,
          2381.906161707515,
          2377.60637961253,
          2373.306597517545,
          2369.0068154225596,
          2364.7070333275747,
          2360.4072512325897,
          2356.1074691376048,
          2351.80768704262,
          2347.5079049476344,
          2343.2081228526495,
          2338.9083407576645,
          2334.6085586626796,
          2330.308776567694,
          2326.008994472709,
          2321.7092123777243,
          2317.4094302827393,
          2313.109648187754,
          2308.809866092769,
          2304.510083997784,
          2300.210301902799,
          2295.910519807814,
          2291.6107377128287,
          2287.310955617844,
          2283.011173522859,
          2278.711391427874,
          2274.4116093328885,
          2270.1118272379035,
          2265.8120451429186,
          2261.5122630479336,
          2257.2124809529487,
          2252.9126988579637,
          2248.6129167629783,
          2244.3131346679934,
          2240.0133525730084,
          2235.7135704780235,
          2231.413788383038,
          2227.114006288053,
          2222.814224193068,
          2218.5144420980832,
          2214.2146600030983,
          2209.914877908113,
          2205.615095813128,
          2201.315313718143,
          2197.0155316231576,
          2192.7157495281726,
          2188.4159674331877,
          2184.1161853382027,
          2179.816403243218,
          2175.516621148233,
          2171.2168390532474,
          2166.9170569582625,
          2162.6172748632775,
          2158.3174927682926,
          2154.017710673307,
          2149.7179285783222,
          2145.4181464833373,
          2141.1183643883523,
          2136.8185822933674,
          2132.518800198382,
          2128.219018103397,
          2123.919236008412,
          2119.619453913427,
          2115.3196718184417,
          2111.019889723457,
          2106.720107628472,
          2102.420325533487,
          2098.120543438502,
          2093.8207613435166,
          2089.5209792485316,
          2085.2211971535467,
          2080.9214150585617,
          2076.6216329635763,
          2072.3218508685914,
          2068.0220687736064,
          2063.7222866786215,
          2059.4225045836365,
          2055.122722488651,
          2050.822940393666,
          2046.5231582986812,
          2042.223376203696,
          2037.923594108711,
          2033.623812013726,
          2029.324029918741,
          2025.024247823756,
          2020.7244657287708,
          2016.424683633786,
          2012.1249015388007,
          2007.8251194438158,
          2003.5253373488308,
          1999.2255552538456,
          1994.9257731588607,
          1990.6259910638755,
          1986.3262089688906,
          1982.0264268739054,
          1977.7266447789204,
          1973.4268626839353,
          1969.1270805889503,
          1964.8272984939654,
          1960.5275163989802,
          1956.2277343039952,
          1951.92795220901,
          1947.6281701140251,
          1943.3283880190402,
          1939.028605924055,
          1934.72882382907,
          1930.4290417340849,
          1926.1292596391,
          1921.8294775441148,
          1917.5296954491298,
          1913.2299133541446,
          1908.9301312591597,
          1904.6303491641745,
          1900.3305670691896,
          1896.0307849742046,
          1891.7310028792194,
          1887.4312207842345,
          1883.1314386892493,
          1878.8316565942644,
          1874.5318744992792,
          1870.2320924042942,
          1865.932310309309,
          1861.632528214324,
          1857.332746119339,
          1853.032964024354,
          1848.733181929369,
          1844.4333998343839,
          1840.133617739399,
          1835.833835644414,
          1831.5340535494288,
          1827.2342714544438,
          1822.934489359459,
          1818.6347072644737,
          1814.3349251694888,
          1810.0351430745036,
          1805.7353609795186,
          1801.4355788845335,
          1797.1357967895485,
          1792.8360146945633,
          1788.5362325995784,
          1784.2364505045932,
          1779.9366684096083,
          1775.636886314623,
          1771.3371042196381,
          1767.037322124653,
          1762.737540029668,
          1758.4377579346828,
          1754.137975839698,
          1749.838193744713,
          1745.5384116497278,
          1741.2386295547428,
          1736.9388474597577,
          1732.6390653647727,
          1728.3392832697878,
          1724.0395011748026,
          1719.7397190798176,
          1715.4399369848325,
          1711.1401548898475,
          1706.8403727948626,
          1702.5405906998774,
          1698.2408086048924,
          1693.9410265099073,
          1689.6412444149223,
          1685.3414623199371,
          1681.0416802249522,
          1676.741898129967,
          1672.442116034982,
          1668.1423339399971,
          1663.842551845012,
          1659.542769750027,
          1655.2429876550418,
          1650.9432055600569,
          1646.6434234650717,
          1642.3436413700867,
          1638.0438592751016,
          1633.7440771801166,
          1629.4442950851314,
          1625.1445129901465,
          1620.8447308951613,
          1616.5449488001764,
          1612.2451667051914,
          1607.9453846102065,
          1603.6456025152213,
          1599.3458204202361,
          1595.0460383252512,
          1590.7462562302662,
          1586.4464741352813,
          1582.146692040296,
          1577.846909945311,
          1573.547127850326,
          1569.247345755341,
          1564.9475636603559,
          1560.647781565371,
          1556.3479994703857,
          1552.0482173754008,
          1547.7484352804156,
          1543.4486531854307,
          1539.1488710904455,
          1534.8490889954605,
          1530.5493069004754,
          1526.2495248054904,
          1521.9497427105052,
          1517.6499606155203,
          1513.3501785205353,
          1509.0503964255502,
          1504.7506143305652,
          1500.45083223558,
          1496.151050140595,
          1491.8512680456101,
          1487.551485950625,
          1483.2517038556398,
          1478.9519217606548,
          1474.65213966567,
          1470.352357570685,
          1466.0525754756998,
          1461.7527933807148,
          1457.4530112857296,
          1453.1532291907447,
          1448.8534470957595,
          1444.5536650007746,
          1440.2538829057894,
          1435.9541008108044,
          1431.6543187158195,
          1427.3545366208343,
          1423.0547545258494,
          1418.7549724308642,
          1414.4551903358793,
          1410.155408240894,
          1405.8556261459091,
          1401.555844050924,
          1397.256061955939,
          1392.9562798609538,
          1388.6564977659689,
          1384.3567156709837,
          1380.0569335759988,
          1375.7571514810138,
          1371.4573693860289,
          1367.1575872910435,
          1362.8578051960585,
          1358.5580231010736,
          1354.2582410060886,
          1349.9584589111037,
          1345.6586768161183,
          1341.3588947211333,
          1337.0591126261484,
          1332.7593305311634,
          1328.4595484361782,
          1324.1597663411933,
          1319.8599842462081,
          1315.5602021512232,
          1311.260420056238,
          1306.960637961253,
          1302.6608558662679,
          1298.361073771283,
          1294.0612916762977,
          1289.7615095813128,
          1285.4617274863276,
          1281.1619453913427,
          1276.8621632963577,
          1272.5623812013728,
          1268.2625991063876,
          1263.9628170114024,
          1259.6630349164175,
          1255.3632528214325,
          1251.0634707264476,
          1246.7636886314622,
          1242.4639065364772,
          1238.1641244414923,
          1233.8643423465073,
          1229.564560251522,
          1225.264778156537,
          1220.964996061552,
          1216.665213966567,
          1212.365431871582,
          1208.065649776597,
          1203.7658676816118,
          1199.4660855866268,
          1195.1663034916419,
          1190.8665213966567,
          1186.5667393016715,
          1182.2669572066866,
          1177.9671751117016,
          1173.6673930167167,
          1169.3676109217313,
          1165.0678288267463,
          1160.7680467317614,
          1156.4682646367764,
          1152.168482541791,
          1147.868700446806,
          1143.5689183518211,
          1139.2691362568362,
          1134.9693541618508,
          1130.6695720668658,
          1126.369789971881,
          1122.070007876896,
          1117.770225781911,
          1113.4704436869258,
          1109.1706615919406,
          1104.8708794969557,
          1100.5710974019707,
          1096.2713153069856,
          1091.9715332120006,
          1087.6717511170154,
          1083.3719690220305,
          1079.0721869270453,
          1074.7724048320604,
          1070.4726227370754,
          1066.1728406420905,
          1061.8730585471053,
          1057.5732764521201,
          1053.2734943571352,
          1048.9737122621502,
          1044.6739301671653,
          1040.37414807218,
          1036.0743659771952,
          1031.77458388221,
          1027.474801787225,
          1023.1750196922397,
          1018.8752375972548,
          1014.5754555022698,
          1010.2756734072848,
          1005.9758913122995,
          1001.6761092173145,
          997.3763271223296,
          993.0765450273447,
          988.7767629323594,
          984.4769808373744,
          980.1771987423894,
          975.8774166474044,
          971.5776345524191,
          967.2778524574342,
          962.9780703624492,
          958.6782882674643,
          954.3785061724792,
          950.0787240774939,
          945.778941982509,
          941.479159887524,
          937.1793777925391,
          932.8795956975538,
          928.5798136025687,
          924.2800315075838,
          919.9802494125988,
          915.6804673176135,
          911.3806852226286,
          907.0809031276436,
          902.7811210326586,
          898.4813389376733,
          894.1815568426883,
          889.8817747477034,
          885.5819926527184,
          881.2822105577335,
          876.9824284627482,
          872.6826463677633,
          868.3828642727783,
          864.0830821777931,
          859.783300082808,
          855.483517987823,
          851.1837358928381,
          846.8839537978531,
          842.5841717028677,
          838.2843896078828,
          833.9846075128978,
          829.6848254179129,
          825.3850433229275,
          821.0852612279425,
          816.7854791329576,
          812.4856970379726,
          808.1859149429877,
          803.8861328480023,
          799.5863507530173,
          795.2865686580324,
          790.9867865630474,
          786.6870044680622,
          782.3872223730771,
          778.0874402780921,
          773.7876581831072,
          769.487876088122,
          765.188093993137,
          760.8883118981519,
          756.5885298031669,
          752.2887477081817,
          747.9889656131968,
          743.6891835182118,
          739.3894014232269,
          735.0896193282415,
          730.7898372332565,
          726.4900551382716,
          722.1902730432867,
          717.8904909483017,
          713.5907088533163,
          709.2909267583314,
          704.9911446633464,
          700.6913625683615,
          696.391580473376,
          692.0917983783911,
          687.7920162834062,
          683.4922341884212,
          679.1924520934358,
          674.8926699984509,
          670.5928879034659,
          666.293105808481,
          661.9933237134958,
          657.6935416185108,
          653.3937595235257,
          649.0939774285407,
          644.7941953335558,
          640.4944132385706,
          636.1946311435856,
          631.8948490486007,
          627.5950669536155,
          623.2952848586303,
          618.9955027636454,
          614.6957206686604,
          610.3959385736755,
          606.0961564786901,
          601.7963743837051,
          597.4965922887202,
          593.1968101937352,
          588.8970280987498,
          584.5972460037649,
          580.29746390878,
          575.997681813795,
          571.69789971881,
          567.3981176238246,
          563.0983355288397,
          558.7985534338547,
          554.4987713388698,
          550.1989892438846,
          545.8992071488994,
          541.5994250539145,
          537.2996429589296,
          532.9998608639444,
          528.7000787689594,
          524.4002966739743,
          520.1005145789893,
          515.8007324840041,
          511.5009503890192,
          507.20116829403423,
          502.9013861990493,
          498.6016041040639,
          494.30182200907893,
          490.002039914094,
          485.70225781910904,
          481.4024757241241,
          477.1026936291387,
          472.80291153415374
         ],
         "z": [
          -107,
          -106.3567134268537,
          -105.71342685370742,
          -105.07014028056112,
          -104.42685370741482,
          -103.78356713426854,
          -103.14028056112224,
          -102.49699398797594,
          -101.85370741482966,
          -101.21042084168337,
          -100.56713426853707,
          -99.92384769539079,
          -99.28056112224449,
          -98.6372745490982,
          -97.99398797595191,
          -97.35070140280561,
          -96.70741482965931,
          -96.06412825651303,
          -95.42084168336673,
          -94.77755511022045,
          -94.13426853707415,
          -93.49098196392785,
          -92.84769539078157,
          -92.20440881763527,
          -91.56112224448897,
          -90.91783567134269,
          -90.2745490981964,
          -89.63126252505009,
          -88.98797595190382,
          -88.34468937875751,
          -87.70140280561122,
          -87.05811623246494,
          -86.41482965931864,
          -85.77154308617234,
          -85.12825651302606,
          -84.48496993987976,
          -83.84168336673346,
          -83.19839679358718,
          -82.55511022044088,
          -81.91182364729458,
          -81.2685370741483,
          -80.625250501002,
          -79.9819639278557,
          -79.33867735470943,
          -78.69539078156312,
          -78.05210420841684,
          -77.40881763527054,
          -76.76553106212425,
          -76.12224448897796,
          -75.47895791583167,
          -74.83567134268536,
          -74.19238476953907,
          -73.54909819639279,
          -72.90581162324649,
          -72.2625250501002,
          -71.61923847695391,
          -70.97595190380761,
          -70.33266533066133,
          -69.68937875751503,
          -69.04609218436873,
          -68.40280561122245,
          -67.75951903807615,
          -67.11623246492987,
          -66.47294589178357,
          -65.82965931863728,
          -65.18637274549097,
          -64.5430861723447,
          -63.89979959919839,
          -63.256513026052104,
          -62.61322645290581,
          -61.96993987975952,
          -61.32665330661323,
          -60.68336673346693,
          -60.04008016032064,
          -59.39679358717435,
          -58.75350701402805,
          -58.11022044088176,
          -57.46693386773547,
          -56.82364729458918,
          -56.180360721442895,
          -55.53707414829659,
          -54.893787575150306,
          -54.250501002004,
          -53.60721442885772,
          -52.963927855711425,
          -52.320641282565134,
          -51.67735470941884,
          -51.03406813627255,
          -50.390781563126254,
          -49.74749498997996,
          -49.10420841683367,
          -48.46092184368737,
          -47.81763527054108,
          -47.17434869739479,
          -46.53106212424849,
          -45.8877755511022,
          -45.24448897795591,
          -44.60120240480962,
          -43.95791583166332,
          -43.31462925851703,
          -42.67134268537074,
          -42.028056112224455,
          -41.384769539078164,
          -40.741482965931866,
          -40.098196392785574,
          -39.45490981963928,
          -38.81162324649299,
          -38.168336673346694,
          -37.5250501002004,
          -36.88176352705411,
          -36.23847695390781,
          -35.59519038076152,
          -34.95190380761523,
          -34.30861723446893,
          -33.66533066132264,
          -33.02204408817635,
          -32.37875751503006,
          -31.735470941883765,
          -31.09218436873747,
          -30.44889779559119,
          -29.805611222444895,
          -29.162324649298604,
          -28.51903807615231,
          -27.875751503006015,
          -27.232464929859724,
          -26.58917835671343,
          -25.945891783567138,
          -25.302605210420843,
          -24.65931863727455,
          -24.016032064128257,
          -23.372745490981963,
          -22.72945891783567,
          -22.086172344689377,
          -21.442885771543082,
          -20.79959919839679,
          -20.156312625250496,
          -19.513026052104205,
          -18.86973947895791,
          -18.22645290581163,
          -17.583166332665336,
          -16.939879759519044,
          -16.29659318637275,
          -15.653306613226457,
          -15.010020040080164,
          -14.36673346693387,
          -13.723446893787576,
          -13.080160320641284,
          -12.43687374749499,
          -11.793587174348698,
          -11.150300601202405,
          -10.50701402805611,
          -9.863727454909817,
          -9.220440881763524,
          -8.577154308617231,
          -7.933867735470938,
          -7.290581162324645,
          -6.6472945891783635,
          -6.004008016032071,
          -5.360721442885777,
          -4.717434869739484,
          -4.07414829659319,
          -3.430861723446897,
          -2.787575150300604,
          -2.1442885771543105,
          -1.5010020040080176,
          -0.8577154308617243,
          -0.21442885771543108,
          0.42885771543086215,
          1.0721442885771435,
          1.7154308617234486,
          2.35871743486973,
          3.0020040080160353,
          3.6452905811623166,
          4.288577154308621,
          4.931863727454903,
          5.575150300601208,
          6.218436873747489,
          6.861723446893794,
          7.505010020040076,
          8.14829659318638,
          8.791583166332662,
          9.434869739478968,
          10.078156312625248,
          10.72144288577153,
          11.364729458917836,
          12.008016032064116,
          12.651302605210422,
          13.294589178356702,
          13.937875751503007,
          14.58116232464929,
          15.224448897795595,
          15.867735470941875,
          16.511022044088183,
          17.154308617234463,
          17.79759519038077,
          18.44088176352705,
          19.084168336673354,
          19.727454909819635,
          20.37074148296594,
          21.01402805611222,
          21.657314629258526,
          22.30060120240481,
          22.94388777555109,
          23.587174348697395,
          24.230460921843676,
          24.87374749498998,
          25.51703406813626,
          26.160320641282567,
          26.803607214428848,
          27.446893787575153,
          28.090180360721437,
          28.73346693386774,
          29.376753507014023,
          30.020040080160328,
          30.66332665330661,
          31.306613226452914,
          31.949899799599194,
          32.5931863727455,
          33.236472945891784,
          33.87975951903809,
          34.523046092184366,
          35.16633266533065,
          35.809619238476955,
          36.45290581162323,
          37.09619238476954,
          37.73947895791582,
          38.38276553106213,
          39.02605210420841,
          39.669338677354716,
          40.31262525050099,
          40.9559118236473,
          41.59919839679358,
          42.24248496993989,
          42.885771543086165,
          43.52905811623247,
          44.172344689378754,
          44.81563126252506,
          45.45891783567134,
          46.10220440881762,
          46.745490981963925,
          47.38877755511021,
          48.032064128256515,
          48.67535070140279,
          49.3186372745491,
          49.96192384769538,
          50.605210420841686,
          51.24849699398797,
          51.891783567134276,
          52.53507014028055,
          53.17835671342686,
          53.82164328657314,
          54.46492985971945,
          55.108216432865724,
          55.75150300601203,
          56.394789579158314,
          57.03807615230462,
          57.6813627254509,
          58.32464929859718,
          58.967935871743485,
          59.61122244488977,
          60.254509018036075,
          60.89779559118235,
          61.54108216432866,
          62.18436873747494,
          62.827655310621246,
          63.47094188376753,
          64.11422845691384,
          64.75751503006012,
          65.40080160320642,
          66.0440881763527,
          66.687374749499,
          67.33066132264528,
          67.9739478957916,
          68.61723446893787,
          69.26052104208418,
          69.90380761523046,
          70.54709418837675,
          71.19038076152304,
          71.83366733466933,
          72.47695390781563,
          73.12024048096191,
          73.76352705410822,
          74.4068136272545,
          75.0501002004008,
          75.69338677354709,
          76.33667334669339,
          76.97995991983967,
          77.62324649298598,
          78.26653306613225,
          78.90981963927857,
          79.55310621242485,
          80.19639278557115,
          80.83967935871743,
          81.48296593186372,
          82.12625250501002,
          82.7695390781563,
          83.41282565130261,
          84.05611222444888,
          84.6993987975952,
          85.34268537074148,
          85.98597194388778,
          86.62925851703406,
          87.27254509018036,
          87.91583166332664,
          88.55911823647295,
          89.20240480961924,
          89.84569138276554,
          90.48897795591182,
          91.13226452905812,
          91.7755511022044,
          92.41883767535072,
          93.06212424849699,
          93.70541082164327,
          94.34869739478958,
          94.99198396793587,
          95.63527054108216,
          96.27855711422845,
          96.92184368737475,
          97.56513026052103,
          98.20841683366734,
          98.85170340681361,
          99.49498997995993,
          100.13827655310621,
          100.78156312625251,
          101.42484969939879,
          102.0681362725451,
          102.71142284569137,
          103.35470941883769,
          103.99799599198397,
          104.64128256513027,
          105.28456913827655,
          105.92785571142284,
          106.57114228456913,
          107.21442885771545,
          107.85771543086173,
          108.501002004008,
          109.14428857715428,
          109.78757515030061,
          110.4308617234469,
          111.07414829659318,
          111.71743486973946,
          112.36072144288579,
          113.00400801603207,
          113.64729458917836,
          114.29058116232463,
          114.93386773547095,
          115.57715430861724,
          116.22044088176352,
          116.8637274549098,
          117.50701402805609,
          118.15030060120242,
          118.7935871743487,
          119.43687374749499,
          120.08016032064126,
          120.72344689378758,
          121.36673346693387,
          122.01002004008015,
          122.65330661322643,
          123.29659318637276,
          123.93987975951904,
          124.58316633266533,
          125.22645290581161,
          125.86973947895794,
          126.51302605210421,
          127.1563126252505,
          127.79959919839678,
          128.44288577154305,
          129.0861723446894,
          129.72945891783567,
          130.37274549098194,
          131.01603206412824,
          131.65931863727457,
          132.30260521042084,
          132.94589178356713,
          133.5891783567134,
          134.23246492985973,
          134.87575150300603,
          135.5190380761523,
          136.16232464929857,
          136.8056112224449,
          137.4488977955912,
          138.09218436873746,
          138.73547094188376,
          139.3787575150301,
          140.02204408817636,
          140.66533066132266,
          141.30861723446893,
          141.9519038076152,
          142.59519038076152,
          143.23847695390782,
          143.8817635270541,
          144.5250501002004,
          145.16833667334672,
          145.81162324649299,
          146.45490981963928,
          147.09819639278555,
          147.74148296593188,
          148.38476953907815,
          149.02805611222445,
          149.67134268537072,
          150.31462925851704,
          150.95791583166334,
          151.6012024048096,
          152.2444889779559,
          152.88777555110218,
          153.5310621242485,
          154.17434869739478,
          154.81763527054107,
          155.46092184368734,
          156.10420841683367,
          156.74749498997997,
          157.39078156312624,
          158.03406813627254,
          158.67735470941886,
          159.32064128256513,
          159.9639278557114,
          160.6072144288577,
          161.25050100200403,
          161.8937875751503,
          162.5370741482966,
          163.18036072144287,
          163.82364729458916,
          164.4669338677355,
          165.11022044088176,
          165.75350701402803,
          166.39679358717433,
          167.04008016032066,
          167.68336673346693,
          168.32665330661322,
          168.9699398797595,
          169.61322645290582,
          170.25651302605212,
          170.8997995991984,
          171.54308617234466,
          172.186372745491,
          172.82965931863728,
          173.47294589178355,
          174.11623246492985,
          174.75951903807618,
          175.40280561122245,
          176.04609218436875,
          176.68937875751502,
          177.33266533066129,
          177.97595190380764,
          178.6192384769539,
          179.26252505010018,
          179.90581162324648,
          180.5490981963928,
          181.19238476953907,
          181.83567134268537,
          182.47895791583164,
          183.12224448897797,
          183.76553106212427,
          184.40881763527054,
          185.0521042084168,
          185.69539078156313,
          186.33867735470943,
          186.9819639278557,
          187.625250501002,
          188.26853707414827,
          188.9118236472946,
          189.5551102204409,
          190.19839679358716,
          190.84168336673343,
          191.48496993987976,
          192.12825651302606,
          192.77154308617233,
          193.41482965931863,
          194.05811623246495,
          194.70140280561122,
          195.34468937875752,
          195.9879759519038,
          196.63126252505012,
          197.2745490981964,
          197.9178356713427,
          198.56112224448896,
          199.20440881763525,
          199.84769539078158,
          200.49098196392785,
          201.13426853707415,
          201.77755511022042,
          202.42084168336675,
          203.06412825651302,
          203.7074148296593,
          204.35070140280558,
          204.9939879759519,
          205.6372745490982,
          206.28056112224448,
          206.92384769539078,
          207.5671342685371,
          208.21042084168337,
          208.85370741482964,
          209.49699398797594,
          210.14028056112227,
          210.78356713426854,
          211.42685370741484,
          212.0701402805611,
          212.7134268537074,
          213.35671342685373,
          214
         ]
        },
        {
         "marker": {
          "color": "black",
          "size": 5
         },
         "mode": "markers",
         "name": "Points",
         "type": "scatter3d",
         "x": [
          -146.39669652855548,
          0,
          1422.939809630459,
          1279
         ],
         "y": [
          1903.1970884658458,
          1188,
          1903.1970884658463,
          1188
         ],
         "z": [
          0,
          107,
          0,
          107
         ]
        },
        {
         "marker": {
          "color": "green",
          "size": 5
         },
         "mode": "markers",
         "name": "Intersection Point",
         "type": "scatter3d",
         "x": [
          644.9115797979339
         ],
         "y": [
          -1962.6099189842316
         ],
         "z": [
          578.3599464651787
         ]
        }
       ],
       "layout": {
        "scene": {
         "xaxis": {
          "title": {
           "text": "X"
          }
         },
         "yaxis": {
          "title": {
           "text": "Y"
          }
         },
         "zaxis": {
          "title": {
           "text": "Z"
          }
         }
        },
        "template": {
         "data": {
          "bar": [
           {
            "error_x": {
             "color": "#2a3f5f"
            },
            "error_y": {
             "color": "#2a3f5f"
            },
            "marker": {
             "line": {
              "color": "#E5ECF6",
              "width": 0.5
             },
             "pattern": {
              "fillmode": "overlay",
              "size": 10,
              "solidity": 0.2
             }
            },
            "type": "bar"
           }
          ],
          "barpolar": [
           {
            "marker": {
             "line": {
              "color": "#E5ECF6",
              "width": 0.5
             },
             "pattern": {
              "fillmode": "overlay",
              "size": 10,
              "solidity": 0.2
             }
            },
            "type": "barpolar"
           }
          ],
          "carpet": [
           {
            "aaxis": {
             "endlinecolor": "#2a3f5f",
             "gridcolor": "white",
             "linecolor": "white",
             "minorgridcolor": "white",
             "startlinecolor": "#2a3f5f"
            },
            "baxis": {
             "endlinecolor": "#2a3f5f",
             "gridcolor": "white",
             "linecolor": "white",
             "minorgridcolor": "white",
             "startlinecolor": "#2a3f5f"
            },
            "type": "carpet"
           }
          ],
          "choropleth": [
           {
            "colorbar": {
             "outlinewidth": 0,
             "ticks": ""
            },
            "type": "choropleth"
           }
          ],
          "contour": [
           {
            "colorbar": {
             "outlinewidth": 0,
             "ticks": ""
            },
            "colorscale": [
             [
              0,
              "#0d0887"
             ],
             [
              0.1111111111111111,
              "#46039f"
             ],
             [
              0.2222222222222222,
              "#7201a8"
             ],
             [
              0.3333333333333333,
              "#9c179e"
             ],
             [
              0.4444444444444444,
              "#bd3786"
             ],
             [
              0.5555555555555556,
              "#d8576b"
             ],
             [
              0.6666666666666666,
              "#ed7953"
             ],
             [
              0.7777777777777778,
              "#fb9f3a"
             ],
             [
              0.8888888888888888,
              "#fdca26"
             ],
             [
              1,
              "#f0f921"
             ]
            ],
            "type": "contour"
           }
          ],
          "contourcarpet": [
           {
            "colorbar": {
             "outlinewidth": 0,
             "ticks": ""
            },
            "type": "contourcarpet"
           }
          ],
          "heatmap": [
           {
            "colorbar": {
             "outlinewidth": 0,
             "ticks": ""
            },
            "colorscale": [
             [
              0,
              "#0d0887"
             ],
             [
              0.1111111111111111,
              "#46039f"
             ],
             [
              0.2222222222222222,
              "#7201a8"
             ],
             [
              0.3333333333333333,
              "#9c179e"
             ],
             [
              0.4444444444444444,
              "#bd3786"
             ],
             [
              0.5555555555555556,
              "#d8576b"
             ],
             [
              0.6666666666666666,
              "#ed7953"
             ],
             [
              0.7777777777777778,
              "#fb9f3a"
             ],
             [
              0.8888888888888888,
              "#fdca26"
             ],
             [
              1,
              "#f0f921"
             ]
            ],
            "type": "heatmap"
           }
          ],
          "heatmapgl": [
           {
            "colorbar": {
             "outlinewidth": 0,
             "ticks": ""
            },
            "colorscale": [
             [
              0,
              "#0d0887"
             ],
             [
              0.1111111111111111,
              "#46039f"
             ],
             [
              0.2222222222222222,
              "#7201a8"
             ],
             [
              0.3333333333333333,
              "#9c179e"
             ],
             [
              0.4444444444444444,
              "#bd3786"
             ],
             [
              0.5555555555555556,
              "#d8576b"
             ],
             [
              0.6666666666666666,
              "#ed7953"
             ],
             [
              0.7777777777777778,
              "#fb9f3a"
             ],
             [
              0.8888888888888888,
              "#fdca26"
             ],
             [
              1,
              "#f0f921"
             ]
            ],
            "type": "heatmapgl"
           }
          ],
          "histogram": [
           {
            "marker": {
             "pattern": {
              "fillmode": "overlay",
              "size": 10,
              "solidity": 0.2
             }
            },
            "type": "histogram"
           }
          ],
          "histogram2d": [
           {
            "colorbar": {
             "outlinewidth": 0,
             "ticks": ""
            },
            "colorscale": [
             [
              0,
              "#0d0887"
             ],
             [
              0.1111111111111111,
              "#46039f"
             ],
             [
              0.2222222222222222,
              "#7201a8"
             ],
             [
              0.3333333333333333,
              "#9c179e"
             ],
             [
              0.4444444444444444,
              "#bd3786"
             ],
             [
              0.5555555555555556,
              "#d8576b"
             ],
             [
              0.6666666666666666,
              "#ed7953"
             ],
             [
              0.7777777777777778,
              "#fb9f3a"
             ],
             [
              0.8888888888888888,
              "#fdca26"
             ],
             [
              1,
              "#f0f921"
             ]
            ],
            "type": "histogram2d"
           }
          ],
          "histogram2dcontour": [
           {
            "colorbar": {
             "outlinewidth": 0,
             "ticks": ""
            },
            "colorscale": [
             [
              0,
              "#0d0887"
             ],
             [
              0.1111111111111111,
              "#46039f"
             ],
             [
              0.2222222222222222,
              "#7201a8"
             ],
             [
              0.3333333333333333,
              "#9c179e"
             ],
             [
              0.4444444444444444,
              "#bd3786"
             ],
             [
              0.5555555555555556,
              "#d8576b"
             ],
             [
              0.6666666666666666,
              "#ed7953"
             ],
             [
              0.7777777777777778,
              "#fb9f3a"
             ],
             [
              0.8888888888888888,
              "#fdca26"
             ],
             [
              1,
              "#f0f921"
             ]
            ],
            "type": "histogram2dcontour"
           }
          ],
          "mesh3d": [
           {
            "colorbar": {
             "outlinewidth": 0,
             "ticks": ""
            },
            "type": "mesh3d"
           }
          ],
          "parcoords": [
           {
            "line": {
             "colorbar": {
              "outlinewidth": 0,
              "ticks": ""
             }
            },
            "type": "parcoords"
           }
          ],
          "pie": [
           {
            "automargin": true,
            "type": "pie"
           }
          ],
          "scatter": [
           {
            "fillpattern": {
             "fillmode": "overlay",
             "size": 10,
             "solidity": 0.2
            },
            "type": "scatter"
           }
          ],
          "scatter3d": [
           {
            "line": {
             "colorbar": {
              "outlinewidth": 0,
              "ticks": ""
             }
            },
            "marker": {
             "colorbar": {
              "outlinewidth": 0,
              "ticks": ""
             }
            },
            "type": "scatter3d"
           }
          ],
          "scattercarpet": [
           {
            "marker": {
             "colorbar": {
              "outlinewidth": 0,
              "ticks": ""
             }
            },
            "type": "scattercarpet"
           }
          ],
          "scattergeo": [
           {
            "marker": {
             "colorbar": {
              "outlinewidth": 0,
              "ticks": ""
             }
            },
            "type": "scattergeo"
           }
          ],
          "scattergl": [
           {
            "marker": {
             "colorbar": {
              "outlinewidth": 0,
              "ticks": ""
             }
            },
            "type": "scattergl"
           }
          ],
          "scattermapbox": [
           {
            "marker": {
             "colorbar": {
              "outlinewidth": 0,
              "ticks": ""
             }
            },
            "type": "scattermapbox"
           }
          ],
          "scatterpolar": [
           {
            "marker": {
             "colorbar": {
              "outlinewidth": 0,
              "ticks": ""
             }
            },
            "type": "scatterpolar"
           }
          ],
          "scatterpolargl": [
           {
            "marker": {
             "colorbar": {
              "outlinewidth": 0,
              "ticks": ""
             }
            },
            "type": "scatterpolargl"
           }
          ],
          "scatterternary": [
           {
            "marker": {
             "colorbar": {
              "outlinewidth": 0,
              "ticks": ""
             }
            },
            "type": "scatterternary"
           }
          ],
          "surface": [
           {
            "colorbar": {
             "outlinewidth": 0,
             "ticks": ""
            },
            "colorscale": [
             [
              0,
              "#0d0887"
             ],
             [
              0.1111111111111111,
              "#46039f"
             ],
             [
              0.2222222222222222,
              "#7201a8"
             ],
             [
              0.3333333333333333,
              "#9c179e"
             ],
             [
              0.4444444444444444,
              "#bd3786"
             ],
             [
              0.5555555555555556,
              "#d8576b"
             ],
             [
              0.6666666666666666,
              "#ed7953"
             ],
             [
              0.7777777777777778,
              "#fb9f3a"
             ],
             [
              0.8888888888888888,
              "#fdca26"
             ],
             [
              1,
              "#f0f921"
             ]
            ],
            "type": "surface"
           }
          ],
          "table": [
           {
            "cells": {
             "fill": {
              "color": "#EBF0F8"
             },
             "line": {
              "color": "white"
             }
            },
            "header": {
             "fill": {
              "color": "#C8D4E3"
             },
             "line": {
              "color": "white"
             }
            },
            "type": "table"
           }
          ]
         },
         "layout": {
          "annotationdefaults": {
           "arrowcolor": "#2a3f5f",
           "arrowhead": 0,
           "arrowwidth": 1
          },
          "autotypenumbers": "strict",
          "coloraxis": {
           "colorbar": {
            "outlinewidth": 0,
            "ticks": ""
           }
          },
          "colorscale": {
           "diverging": [
            [
             0,
             "#8e0152"
            ],
            [
             0.1,
             "#c51b7d"
            ],
            [
             0.2,
             "#de77ae"
            ],
            [
             0.3,
             "#f1b6da"
            ],
            [
             0.4,
             "#fde0ef"
            ],
            [
             0.5,
             "#f7f7f7"
            ],
            [
             0.6,
             "#e6f5d0"
            ],
            [
             0.7,
             "#b8e186"
            ],
            [
             0.8,
             "#7fbc41"
            ],
            [
             0.9,
             "#4d9221"
            ],
            [
             1,
             "#276419"
            ]
           ],
           "sequential": [
            [
             0,
             "#0d0887"
            ],
            [
             0.1111111111111111,
             "#46039f"
            ],
            [
             0.2222222222222222,
             "#7201a8"
            ],
            [
             0.3333333333333333,
             "#9c179e"
            ],
            [
             0.4444444444444444,
             "#bd3786"
            ],
            [
             0.5555555555555556,
             "#d8576b"
            ],
            [
             0.6666666666666666,
             "#ed7953"
            ],
            [
             0.7777777777777778,
             "#fb9f3a"
            ],
            [
             0.8888888888888888,
             "#fdca26"
            ],
            [
             1,
             "#f0f921"
            ]
           ],
           "sequentialminus": [
            [
             0,
             "#0d0887"
            ],
            [
             0.1111111111111111,
             "#46039f"
            ],
            [
             0.2222222222222222,
             "#7201a8"
            ],
            [
             0.3333333333333333,
             "#9c179e"
            ],
            [
             0.4444444444444444,
             "#bd3786"
            ],
            [
             0.5555555555555556,
             "#d8576b"
            ],
            [
             0.6666666666666666,
             "#ed7953"
            ],
            [
             0.7777777777777778,
             "#fb9f3a"
            ],
            [
             0.8888888888888888,
             "#fdca26"
            ],
            [
             1,
             "#f0f921"
            ]
           ]
          },
          "colorway": [
           "#636efa",
           "#EF553B",
           "#00cc96",
           "#ab63fa",
           "#FFA15A",
           "#19d3f3",
           "#FF6692",
           "#B6E880",
           "#FF97FF",
           "#FECB52"
          ],
          "font": {
           "color": "#2a3f5f"
          },
          "geo": {
           "bgcolor": "white",
           "lakecolor": "white",
           "landcolor": "#E5ECF6",
           "showlakes": true,
           "showland": true,
           "subunitcolor": "white"
          },
          "hoverlabel": {
           "align": "left"
          },
          "hovermode": "closest",
          "mapbox": {
           "style": "light"
          },
          "paper_bgcolor": "white",
          "plot_bgcolor": "#E5ECF6",
          "polar": {
           "angularaxis": {
            "gridcolor": "white",
            "linecolor": "white",
            "ticks": ""
           },
           "bgcolor": "#E5ECF6",
           "radialaxis": {
            "gridcolor": "white",
            "linecolor": "white",
            "ticks": ""
           }
          },
          "scene": {
           "xaxis": {
            "backgroundcolor": "#E5ECF6",
            "gridcolor": "white",
            "gridwidth": 2,
            "linecolor": "white",
            "showbackground": true,
            "ticks": "",
            "zerolinecolor": "white"
           },
           "yaxis": {
            "backgroundcolor": "#E5ECF6",
            "gridcolor": "white",
            "gridwidth": 2,
            "linecolor": "white",
            "showbackground": true,
            "ticks": "",
            "zerolinecolor": "white"
           },
           "zaxis": {
            "backgroundcolor": "#E5ECF6",
            "gridcolor": "white",
            "gridwidth": 2,
            "linecolor": "white",
            "showbackground": true,
            "ticks": "",
            "zerolinecolor": "white"
           }
          },
          "shapedefaults": {
           "line": {
            "color": "#2a3f5f"
           }
          },
          "ternary": {
           "aaxis": {
            "gridcolor": "white",
            "linecolor": "white",
            "ticks": ""
           },
           "baxis": {
            "gridcolor": "white",
            "linecolor": "white",
            "ticks": ""
           },
           "bgcolor": "#E5ECF6",
           "caxis": {
            "gridcolor": "white",
            "linecolor": "white",
            "ticks": ""
           }
          },
          "title": {
           "x": 0.05
          },
          "xaxis": {
           "automargin": true,
           "gridcolor": "white",
           "linecolor": "white",
           "ticks": "",
           "title": {
            "standoff": 15
           },
           "zerolinecolor": "white",
           "zerolinewidth": 2
          },
          "yaxis": {
           "automargin": true,
           "gridcolor": "white",
           "linecolor": "white",
           "ticks": "",
           "title": {
            "standoff": 15
           },
           "zerolinecolor": "white",
           "zerolinewidth": 2
          }
         }
        },
        "title": {
         "text": "Lines, Points, and Intersection Point in 3D"
        }
       }
      }
     },
     "metadata": {},
     "output_type": "display_data"
    }
   ],
   "source": [
    "# Function to plot the lines, points, and intersection point in 3D using Plotly\n",
    "def plot_lines_points_intersection_3d_plotly(p1, p2, p3, p4):\n",
    "    # Extracting coordinates for line 1\n",
    "    x1, y1, z1 = p1\n",
    "    x2, y2, z2 = p2\n",
    "    \n",
    "    # Direction vector for line 1\n",
    "    d1 = np.array([x2 - x1, y2 - y1, z2 - z1])\n",
    "    \n",
    "    # Parametric values for line 1\n",
    "    t1 = np.linspace(-1, 2, 500)\n",
    "    \n",
    "    # Line 1 points\n",
    "    x_line1 = x1 + t1 * d1[0]\n",
    "    y_line1 = y1 + t1 * d1[1]\n",
    "    z_line1 = z1 + t1 * d1[2]\n",
    "    \n",
    "    # Extracting coordinates for line 2\n",
    "    x3, y3, z3 = p3\n",
    "    x4, y4, z4 = p4\n",
    "    \n",
    "    # Direction vector for line 2\n",
    "    d2 = np.array([x4 - x3, y4 - y3, z4 - z3])\n",
    "    \n",
    "    # Parametric values for line 2\n",
    "    t2 = np.linspace(-1, 2, 500)\n",
    "    \n",
    "    # Line 2 points\n",
    "    x_line2 = x3 + t2 * d2[0]\n",
    "    y_line2 = y3 + t2 * d2[1]\n",
    "    z_line2 = z3 + t2 * d2[2]\n",
    "    \n",
    "    # Solve for the intersection point\n",
    "    A = np.array([\n",
    "        [d1[0], -d2[0]],\n",
    "        [d1[1], -d2[1]],\n",
    "        [d1[2], -d2[2]]\n",
    "    ])\n",
    "    B = np.array([x3 - x1, y3 - y1, z3 - z1])\n",
    "    t = np.linalg.lstsq(A, B, rcond=None)[0]\n",
    "    \n",
    "    # Calculate intersection point coordinates\n",
    "    intersection_x = x1 + t[0] * d1[0]\n",
    "    intersection_y = y1 + t[0] * d1[1]\n",
    "    intersection_z = z1 + t[0] * d1[2]\n",
    "    \n",
    "    # Create trace for line 1\n",
    "    line_trace1 = go.Scatter3d(\n",
    "        x=x_line1,\n",
    "        y=y_line1,\n",
    "        z=z_line1,\n",
    "        mode='lines',\n",
    "        name='Line 1',\n",
    "        line=dict(color='blue', width=2)\n",
    "    )\n",
    "    \n",
    "    # Create trace for line 2\n",
    "    line_trace2 = go.Scatter3d(\n",
    "        x=x_line2,\n",
    "        y=y_line2,\n",
    "        z=z_line2,\n",
    "        mode='lines',\n",
    "        name='Line 2',\n",
    "        line=dict(color='red', width=2)\n",
    "    )\n",
    "    \n",
    "    # Create trace for points\n",
    "    points_trace = go.Scatter3d(\n",
    "        x=[x1, x2, x3, x4],\n",
    "        y=[y1, y2, y3, y4],\n",
    "        z=[z1, z2, z3, z4],\n",
    "        mode='markers',\n",
    "        name='Points',\n",
    "        marker=dict(color='black', size=5)\n",
    "    )\n",
    "    \n",
    "    # Create trace for intersection point\n",
    "    intersection_trace = go.Scatter3d(\n",
    "        x=[intersection_x],\n",
    "        y=[intersection_y],\n",
    "        z=[intersection_z],\n",
    "        mode='markers',\n",
    "        name='Intersection Point',\n",
    "        marker=dict(color='green', size=5)\n",
    "    )\n",
    "    \n",
    "    # Layout\n",
    "    layout = go.Layout(\n",
    "        title='Lines, Points, and Intersection Point in 3D',\n",
    "        scene=dict(\n",
    "            xaxis_title='X',\n",
    "            yaxis_title='Y',\n",
    "            zaxis_title='Z'\n",
    "        )\n",
    "    )\n",
    "    \n",
    "    # Create the figure\n",
    "    fig = go.Figure(data=[line_trace1, line_trace2, points_trace, intersection_trace], layout=layout)\n",
    "    \n",
    "    # Plot the figure\n",
    "    pyo.iplot(fig)\n",
    "\n",
    "# Example usage\n",
    "p1 = E_g\n",
    "p2 = E_top\n",
    "p3= F_g\n",
    "p4= F_top\n",
    "plot_lines_points_intersection_3d_plotly(p1, p2, p3, p4)"
   ]
  },
  {
   "cell_type": "code",
   "execution_count": 150,
   "metadata": {},
   "outputs": [
    {
     "data": {
      "text/plain": [
       "25"
      ]
     },
     "execution_count": 150,
     "metadata": {},
     "output_type": "execute_result"
    }
   ],
   "source": [
    "# read bounce dataset\n",
    "df = pd.read_csv('bounce.csv')\n",
    "# find first bounce\n",
    "bounce = df[df['bounce'] == 1].iloc[0]\n",
    "# extract index of first bounce\n",
    "bounce_index = bounce.name\n",
    "bounce_index"
   ]
  },
  {
   "cell_type": "code",
   "execution_count": 151,
   "metadata": {},
   "outputs": [
    {
     "data": {
      "text/plain": [
       "<matplotlib.image.AxesImage at 0x2a1efe550>"
      ]
     },
     "execution_count": 151,
     "metadata": {},
     "output_type": "execute_result"
    },
    {
     "data": {
      "image/png": "[encoded data removed]",
      "text/plain": [
       "<Figure size 640x480 with 1 Axes>"
      ]
     },
     "metadata": {},
     "output_type": "display_data"
    }
   ],
   "source": [
    "#read bounce_index frame\n",
    "cap = cv2.VideoCapture(video_path)\n",
    "cap.set(cv2.CAP_PROP_POS_FRAMES, bounce_index)\n",
    "ret, frame = cap.read()\n",
    "plt.imshow(frame)"
   ]
  },
  {
   "cell_type": "code",
   "execution_count": 152,
   "metadata": {},
   "outputs": [
    {
     "data": {
      "text/plain": [
       "array([579., 425.])"
      ]
     },
     "execution_count": 152,
     "metadata": {},
     "output_type": "execute_result"
    }
   ],
   "source": [
    "# extract bounce coordinates\n",
    "bounce_coords = np.array([bounce['x'],  720-bounce['y']])\n",
    "bounce_coords"
   ]
  },
  {
   "cell_type": "code",
   "execution_count": 153,
   "metadata": {},
   "outputs": [],
   "source": [
    "bounce_transformed = np.dot(M, np.array([bounce_coords[0],bounce_coords[1], 1]))\n",
    "bounce_transformed /= bounce_transformed[2]"
   ]
  },
  {
   "cell_type": "code",
   "execution_count": 154,
   "metadata": {},
   "outputs": [
    {
     "data": {
      "application/vnd.plotly.v1+json": {
       "config": {
        "plotlyServerURL": "https://plot.ly"
       },
       "data": [
        {
         "mode": "markers",
         "name": "Image Points",
         "type": "scatter",
         "x": [
          420,
          860,
          1090,
          200
         ],
         "y": [
          530,
          530,
          165,
          165
         ]
        },
        {
         "mode": "markers",
         "name": "Player 1 Box",
         "type": "scatter",
         "x": [
          557,
          631
         ],
         "y": [
          200,
          200
         ]
        },
        {
         "mode": "markers",
         "name": "Transformed Player 1 Box",
         "type": "scatter",
         "x": [
          526.1267712714331,
          621.9856195406016
         ],
         "y": [
          118.42704626334515,
          118.42704626334515
         ]
        },
        {
         "mode": "markers",
         "name": "Bounce",
         "type": "scatter",
         "x": [
          579
         ],
         "y": [
          295
         ]
        },
        {
         "mode": "markers",
         "name": "Transformed Bounce",
         "type": "scatter",
         "x": [
          542.9590576309367
         ],
         "y": [
          510.4726863149992
         ]
        },
        {
         "mode": "markers",
         "name": "Bounce",
         "type": "scatter",
         "x": [
          579
         ],
         "y": [
          295
         ]
        },
        {
         "mode": "markers",
         "name": "Transformed Bounce",
         "type": "scatter",
         "x": [
          542.9590576309367
         ],
         "y": [
          510.4726863149992
         ]
        },
        {
         "mode": "markers",
         "name": "Bounce",
         "type": "scatter",
         "x": [
          579
         ],
         "y": [
          425
         ]
        },
        {
         "mode": "markers",
         "name": "Transformed Bounce",
         "type": "scatter",
         "x": [
          519.2179215780609
         ],
         "y": [
          1308.2934808756318
         ]
        }
       ],
       "layout": {
        "template": {
         "data": {
          "bar": [
           {
            "error_x": {
             "color": "#2a3f5f"
            },
            "error_y": {
             "color": "#2a3f5f"
            },
            "marker": {
             "line": {
              "color": "#E5ECF6",
              "width": 0.5
             },
             "pattern": {
              "fillmode": "overlay",
              "size": 10,
              "solidity": 0.2
             }
            },
            "type": "bar"
           }
          ],
          "barpolar": [
           {
            "marker": {
             "line": {
              "color": "#E5ECF6",
              "width": 0.5
             },
             "pattern": {
              "fillmode": "overlay",
              "size": 10,
              "solidity": 0.2
             }
            },
            "type": "barpolar"
           }
          ],
          "carpet": [
           {
            "aaxis": {
             "endlinecolor": "#2a3f5f",
             "gridcolor": "white",
             "linecolor": "white",
             "minorgridcolor": "white",
             "startlinecolor": "#2a3f5f"
            },
            "baxis": {
             "endlinecolor": "#2a3f5f",
             "gridcolor": "white",
             "linecolor": "white",
             "minorgridcolor": "white",
             "startlinecolor": "#2a3f5f"
            },
            "type": "carpet"
           }
          ],
          "choropleth": [
           {
            "colorbar": {
             "outlinewidth": 0,
             "ticks": ""
            },
            "type": "choropleth"
           }
          ],
          "contour": [
           {
            "colorbar": {
             "outlinewidth": 0,
             "ticks": ""
            },
            "colorscale": [
             [
              0,
              "#0d0887"
             ],
             [
              0.1111111111111111,
              "#46039f"
             ],
             [
              0.2222222222222222,
              "#7201a8"
             ],
             [
              0.3333333333333333,
              "#9c179e"
             ],
             [
              0.4444444444444444,
              "#bd3786"
             ],
             [
              0.5555555555555556,
              "#d8576b"
             ],
             [
              0.6666666666666666,
              "#ed7953"
             ],
             [
              0.7777777777777778,
              "#fb9f3a"
             ],
             [
              0.8888888888888888,
              "#fdca26"
             ],
             [
              1,
              "#f0f921"
             ]
            ],
            "type": "contour"
           }
          ],
          "contourcarpet": [
           {
            "colorbar": {
             "outlinewidth": 0,
             "ticks": ""
            },
            "type": "contourcarpet"
           }
          ],
          "heatmap": [
           {
            "colorbar": {
             "outlinewidth": 0,
             "ticks": ""
            },
            "colorscale": [
             [
              0,
              "#0d0887"
             ],
             [
              0.1111111111111111,
              "#46039f"
             ],
             [
              0.2222222222222222,
              "#7201a8"
             ],
             [
              0.3333333333333333,
              "#9c179e"
             ],
             [
              0.4444444444444444,
              "#bd3786"
             ],
             [
              0.5555555555555556,
              "#d8576b"
             ],
             [
              0.6666666666666666,
              "#ed7953"
             ],
             [
              0.7777777777777778,
              "#fb9f3a"
             ],
             [
              0.8888888888888888,
              "#fdca26"
             ],
             [
              1,
              "#f0f921"
             ]
            ],
            "type": "heatmap"
           }
          ],
          "heatmapgl": [
           {
            "colorbar": {
             "outlinewidth": 0,
             "ticks": ""
            },
            "colorscale": [
             [
              0,
              "#0d0887"
             ],
             [
              0.1111111111111111,
              "#46039f"
             ],
             [
              0.2222222222222222,
              "#7201a8"
             ],
             [
              0.3333333333333333,
              "#9c179e"
             ],
             [
              0.4444444444444444,
              "#bd3786"
             ],
             [
              0.5555555555555556,
              "#d8576b"
             ],
             [
              0.6666666666666666,
              "#ed7953"
             ],
             [
              0.7777777777777778,
              "#fb9f3a"
             ],
             [
              0.8888888888888888,
              "#fdca26"
             ],
             [
              1,
              "#f0f921"
             ]
            ],
            "type": "heatmapgl"
           }
          ],
          "histogram": [
           {
            "marker": {
             "pattern": {
              "fillmode": "overlay",
              "size": 10,
              "solidity": 0.2
             }
            },
            "type": "histogram"
           }
          ],
          "histogram2d": [
           {
            "colorbar": {
             "outlinewidth": 0,
             "ticks": ""
            },
            "colorscale": [
             [
              0,
              "#0d0887"
             ],
             [
              0.1111111111111111,
              "#46039f"
             ],
             [
              0.2222222222222222,
              "#7201a8"
             ],
             [
              0.3333333333333333,
              "#9c179e"
             ],
             [
              0.4444444444444444,
              "#bd3786"
             ],
             [
              0.5555555555555556,
              "#d8576b"
             ],
             [
              0.6666666666666666,
              "#ed7953"
             ],
             [
              0.7777777777777778,
              "#fb9f3a"
             ],
             [
              0.8888888888888888,
              "#fdca26"
             ],
             [
              1,
              "#f0f921"
             ]
            ],
            "type": "histogram2d"
           }
          ],
          "histogram2dcontour": [
           {
            "colorbar": {
             "outlinewidth": 0,
             "ticks": ""
            },
            "colorscale": [
             [
              0,
              "#0d0887"
             ],
             [
              0.1111111111111111,
              "#46039f"
             ],
             [
              0.2222222222222222,
              "#7201a8"
             ],
             [
              0.3333333333333333,
              "#9c179e"
             ],
             [
              0.4444444444444444,
              "#bd3786"
             ],
             [
              0.5555555555555556,
              "#d8576b"
             ],
             [
              0.6666666666666666,
              "#ed7953"
             ],
             [
              0.7777777777777778,
              "#fb9f3a"
             ],
             [
              0.8888888888888888,
              "#fdca26"
             ],
             [
              1,
              "#f0f921"
             ]
            ],
            "type": "histogram2dcontour"
           }
          ],
          "mesh3d": [
           {
            "colorbar": {
             "outlinewidth": 0,
             "ticks": ""
            },
            "type": "mesh3d"
           }
          ],
          "parcoords": [
           {
            "line": {
             "colorbar": {
              "outlinewidth": 0,
              "ticks": ""
             }
            },
            "type": "parcoords"
           }
          ],
          "pie": [
           {
            "automargin": true,
            "type": "pie"
           }
          ],
          "scatter": [
           {
            "fillpattern": {
             "fillmode": "overlay",
             "size": 10,
             "solidity": 0.2
            },
            "type": "scatter"
           }
          ],
          "scatter3d": [
           {
            "line": {
             "colorbar": {
              "outlinewidth": 0,
              "ticks": ""
             }
            },
            "marker": {
             "colorbar": {
              "outlinewidth": 0,
              "ticks": ""
             }
            },
            "type": "scatter3d"
           }
          ],
          "scattercarpet": [
           {
            "marker": {
             "colorbar": {
              "outlinewidth": 0,
              "ticks": ""
             }
            },
            "type": "scattercarpet"
           }
          ],
          "scattergeo": [
           {
            "marker": {
             "colorbar": {
              "outlinewidth": 0,
              "ticks": ""
             }
            },
            "type": "scattergeo"
           }
          ],
          "scattergl": [
           {
            "marker": {
             "colorbar": {
              "outlinewidth": 0,
              "ticks": ""
             }
            },
            "type": "scattergl"
           }
          ],
          "scattermapbox": [
           {
            "marker": {
             "colorbar": {
              "outlinewidth": 0,
              "ticks": ""
             }
            },
            "type": "scattermapbox"
           }
          ],
          "scatterpolar": [
           {
            "marker": {
             "colorbar": {
              "outlinewidth": 0,
              "ticks": ""
             }
            },
            "type": "scatterpolar"
           }
          ],
          "scatterpolargl": [
           {
            "marker": {
             "colorbar": {
              "outlinewidth": 0,
              "ticks": ""
             }
            },
            "type": "scatterpolargl"
           }
          ],
          "scatterternary": [
           {
            "marker": {
             "colorbar": {
              "outlinewidth": 0,
              "ticks": ""
             }
            },
            "type": "scatterternary"
           }
          ],
          "surface": [
           {
            "colorbar": {
             "outlinewidth": 0,
             "ticks": ""
            },
            "colorscale": [
             [
              0,
              "#0d0887"
             ],
             [
              0.1111111111111111,
              "#46039f"
             ],
             [
              0.2222222222222222,
              "#7201a8"
             ],
             [
              0.3333333333333333,
              "#9c179e"
             ],
             [
              0.4444444444444444,
              "#bd3786"
             ],
             [
              0.5555555555555556,
              "#d8576b"
             ],
             [
              0.6666666666666666,
              "#ed7953"
             ],
             [
              0.7777777777777778,
              "#fb9f3a"
             ],
             [
              0.8888888888888888,
              "#fdca26"
             ],
             [
              1,
              "#f0f921"
             ]
            ],
            "type": "surface"
           }
          ],
          "table": [
           {
            "cells": {
             "fill": {
              "color": "#EBF0F8"
             },
             "line": {
              "color": "white"
             }
            },
            "header": {
             "fill": {
              "color": "#C8D4E3"
             },
             "line": {
              "color": "white"
             }
            },
            "type": "table"
           }
          ]
         },
         "layout": {
          "annotationdefaults": {
           "arrowcolor": "#2a3f5f",
           "arrowhead": 0,
           "arrowwidth": 1
          },
          "autotypenumbers": "strict",
          "coloraxis": {
           "colorbar": {
            "outlinewidth": 0,
            "ticks": ""
           }
          },
          "colorscale": {
           "diverging": [
            [
             0,
             "#8e0152"
            ],
            [
             0.1,
             "#c51b7d"
            ],
            [
             0.2,
             "#de77ae"
            ],
            [
             0.3,
             "#f1b6da"
            ],
            [
             0.4,
             "#fde0ef"
            ],
            [
             0.5,
             "#f7f7f7"
            ],
            [
             0.6,
             "#e6f5d0"
            ],
            [
             0.7,
             "#b8e186"
            ],
            [
             0.8,
             "#7fbc41"
            ],
            [
             0.9,
             "#4d9221"
            ],
            [
             1,
             "#276419"
            ]
           ],
           "sequential": [
            [
             0,
             "#0d0887"
            ],
            [
             0.1111111111111111,
             "#46039f"
            ],
            [
             0.2222222222222222,
             "#7201a8"
            ],
            [
             0.3333333333333333,
             "#9c179e"
            ],
            [
             0.4444444444444444,
             "#bd3786"
            ],
            [
             0.5555555555555556,
             "#d8576b"
            ],
            [
             0.6666666666666666,
             "#ed7953"
            ],
            [
             0.7777777777777778,
             "#fb9f3a"
            ],
            [
             0.8888888888888888,
             "#fdca26"
            ],
            [
             1,
             "#f0f921"
            ]
           ],
           "sequentialminus": [
            [
             0,
             "#0d0887"
            ],
            [
             0.1111111111111111,
             "#46039f"
            ],
            [
             0.2222222222222222,
             "#7201a8"
            ],
            [
             0.3333333333333333,
             "#9c179e"
            ],
            [
             0.4444444444444444,
             "#bd3786"
            ],
            [
             0.5555555555555556,
             "#d8576b"
            ],
            [
             0.6666666666666666,
             "#ed7953"
            ],
            [
             0.7777777777777778,
             "#fb9f3a"
            ],
            [
             0.8888888888888888,
             "#fdca26"
            ],
            [
             1,
             "#f0f921"
            ]
           ]
          },
          "colorway": [
           "#636efa",
           "#EF553B",
           "#00cc96",
           "#ab63fa",
           "#FFA15A",
           "#19d3f3",
           "#FF6692",
           "#B6E880",
           "#FF97FF",
           "#FECB52"
          ],
          "font": {
           "color": "#2a3f5f"
          },
          "geo": {
           "bgcolor": "white",
           "lakecolor": "white",
           "landcolor": "#E5ECF6",
           "showlakes": true,
           "showland": true,
           "subunitcolor": "white"
          },
          "hoverlabel": {
           "align": "left"
          },
          "hovermode": "closest",
          "mapbox": {
           "style": "light"
          },
          "paper_bgcolor": "white",
          "plot_bgcolor": "#E5ECF6",
          "polar": {
           "angularaxis": {
            "gridcolor": "white",
            "linecolor": "white",
            "ticks": ""
           },
           "bgcolor": "#E5ECF6",
           "radialaxis": {
            "gridcolor": "white",
            "linecolor": "white",
            "ticks": ""
           }
          },
          "scene": {
           "xaxis": {
            "backgroundcolor": "#E5ECF6",
            "gridcolor": "white",
            "gridwidth": 2,
            "linecolor": "white",
            "showbackground": true,
            "ticks": "",
            "zerolinecolor": "white"
           },
           "yaxis": {
            "backgroundcolor": "#E5ECF6",
            "gridcolor": "white",
            "gridwidth": 2,
            "linecolor": "white",
            "showbackground": true,
            "ticks": "",
            "zerolinecolor": "white"
           },
           "zaxis": {
            "backgroundcolor": "#E5ECF6",
            "gridcolor": "white",
            "gridwidth": 2,
            "linecolor": "white",
            "showbackground": true,
            "ticks": "",
            "zerolinecolor": "white"
           }
          },
          "shapedefaults": {
           "line": {
            "color": "#2a3f5f"
           }
          },
          "ternary": {
           "aaxis": {
            "gridcolor": "white",
            "linecolor": "white",
            "ticks": ""
           },
           "baxis": {
            "gridcolor": "white",
            "linecolor": "white",
            "ticks": ""
           },
           "bgcolor": "#E5ECF6",
           "caxis": {
            "gridcolor": "white",
            "linecolor": "white",
            "ticks": ""
           }
          },
          "title": {
           "x": 0.05
          },
          "xaxis": {
           "automargin": true,
           "gridcolor": "white",
           "linecolor": "white",
           "ticks": "",
           "title": {
            "standoff": 15
           },
           "zerolinecolor": "white",
           "zerolinewidth": 2
          },
          "yaxis": {
           "automargin": true,
           "gridcolor": "white",
           "linecolor": "white",
           "ticks": "",
           "title": {
            "standoff": 15
           },
           "zerolinecolor": "white",
           "zerolinewidth": 2
          }
         }
        }
       }
      }
     },
     "metadata": {},
     "output_type": "display_data"
    }
   ],
   "source": [
    "fig.add_trace(go.Scatter(x=[bounce_coords[0]], y=[bounce_coords[1]], mode='markers', name='Bounce'))\n",
    "fig.add_trace(go.Scatter(x=[bounce_transformed[0]], y=[bounce_transformed[1]], mode='markers', name='Transformed Bounce'))"
   ]
  },
  {
   "cell_type": "code",
   "execution_count": 155,
   "metadata": {},
   "outputs": [],
   "source": [
    "# read player 1 boxes\n",
    "player1_boxes = pd.read_csv('player1_boxes.csv')\n",
    "# find player 1 boxes at bounce index\n",
    "player1_boxes_bounce = player1_boxes.iloc[bounce_index]"
   ]
  },
  {
   "cell_type": "code",
   "execution_count": 156,
   "metadata": {},
   "outputs": [
    {
     "data": {
      "text/plain": [
       "<matplotlib.image.AxesImage at 0x2a1f3df90>"
      ]
     },
     "execution_count": 156,
     "metadata": {},
     "output_type": "execute_result"
    },
    {
     "data": {
      "image/png": "[encoded data removed]",
      "text/plain": [
       "<Figure size 640x480 with 1 Axes>"
      ]
     },
     "metadata": {},
     "output_type": "display_data"
    }
   ],
   "source": [
    "# plot box on frame\n",
    "box = player1_boxes_bounce[['0', '1', '2', '3']].values\n",
    "box = box.reshape(-1, 2)\n",
    "box = box.astype(int)\n",
    "cv2.rectangle(frame, tuple(box[0]), tuple(box[1]), (0, 255, 0), 2)\n",
    "plt.imshow(frame)"
   ]
  },
  {
   "cell_type": "code",
   "execution_count": 157,
   "metadata": {},
   "outputs": [],
   "source": [
    "# find bottolm left and bottolm right box coordinates\n",
    "top_left = box[0]\n",
    "bottom_right = box[1]\n",
    "bottom_left = (top_left[0], bottom_right[1])\n",
    "# transform in homogeneous coordinates\n",
    "bottom_right = np.array([bottom_right[0], 720- bottom_right[1], 1])\n",
    "bottom_left = np.array([bottom_left[0], 720-bottom_left[1], 1])"
   ]
  },
  {
   "cell_type": "code",
   "execution_count": 158,
   "metadata": {},
   "outputs": [],
   "source": [
    "\n",
    "\n",
    "ground_player_point_1 = np.dot(M, bottom_left)\n",
    "ground_player_point_1 /= ground_player_point_1[2]\n",
    "ground_player_point_2 = np.dot(M, bottom_right)\n",
    "ground_player_point_2 /= ground_player_point_2[2]"
   ]
  },
  {
   "cell_type": "code",
   "execution_count": 159,
   "metadata": {},
   "outputs": [
    {
     "data": {
      "application/vnd.plotly.v1+json": {
       "config": {
        "plotlyServerURL": "https://plot.ly"
       },
       "data": [
        {
         "mode": "markers",
         "name": "Image Points",
         "type": "scatter",
         "x": [
          420,
          860,
          1090,
          200
         ],
         "y": [
          530,
          530,
          165,
          165
         ]
        },
        {
         "mode": "markers",
         "name": "Player 1 Box",
         "type": "scatter",
         "x": [
          557,
          631
         ],
         "y": [
          200,
          200
         ]
        },
        {
         "mode": "markers",
         "name": "Transformed Player 1 Box",
         "type": "scatter",
         "x": [
          526.1267712714331,
          621.9856195406016
         ],
         "y": [
          118.42704626334515,
          118.42704626334515
         ]
        },
        {
         "mode": "markers",
         "name": "Bounce",
         "type": "scatter",
         "x": [
          579
         ],
         "y": [
          295
         ]
        },
        {
         "mode": "markers",
         "name": "Transformed Bounce",
         "type": "scatter",
         "x": [
          542.9590576309367
         ],
         "y": [
          510.4726863149992
         ]
        },
        {
         "mode": "markers",
         "name": "Bounce",
         "type": "scatter",
         "x": [
          579
         ],
         "y": [
          295
         ]
        },
        {
         "mode": "markers",
         "name": "Transformed Bounce",
         "type": "scatter",
         "x": [
          542.9590576309367
         ],
         "y": [
          510.4726863149992
         ]
        },
        {
         "mode": "markers",
         "name": "Bounce",
         "type": "scatter",
         "x": [
          579
         ],
         "y": [
          425
         ]
        },
        {
         "mode": "markers",
         "name": "Transformed Bounce",
         "type": "scatter",
         "x": [
          519.2179215780609
         ],
         "y": [
          1308.2934808756318
         ]
        },
        {
         "mode": "markers",
         "name": "Player 1 Box",
         "type": "scatter",
         "x": [
          557,
          631
         ],
         "y": [
          200,
          200
         ]
        },
        {
         "mode": "markers",
         "name": "Transformed Player 1 Box",
         "type": "scatter",
         "x": [
          526.1267712714331,
          621.9856195406016
         ],
         "y": [
          118.42704626334515,
          118.42704626334515
         ]
        }
       ],
       "layout": {
        "template": {
         "data": {
          "bar": [
           {
            "error_x": {
             "color": "#2a3f5f"
            },
            "error_y": {
             "color": "#2a3f5f"
            },
            "marker": {
             "line": {
              "color": "#E5ECF6",
              "width": 0.5
             },
             "pattern": {
              "fillmode": "overlay",
              "size": 10,
              "solidity": 0.2
             }
            },
            "type": "bar"
           }
          ],
          "barpolar": [
           {
            "marker": {
             "line": {
              "color": "#E5ECF6",
              "width": 0.5
             },
             "pattern": {
              "fillmode": "overlay",
              "size": 10,
              "solidity": 0.2
             }
            },
            "type": "barpolar"
           }
          ],
          "carpet": [
           {
            "aaxis": {
             "endlinecolor": "#2a3f5f",
             "gridcolor": "white",
             "linecolor": "white",
             "minorgridcolor": "white",
             "startlinecolor": "#2a3f5f"
            },
            "baxis": {
             "endlinecolor": "#2a3f5f",
             "gridcolor": "white",
             "linecolor": "white",
             "minorgridcolor": "white",
             "startlinecolor": "#2a3f5f"
            },
            "type": "carpet"
           }
          ],
          "choropleth": [
           {
            "colorbar": {
             "outlinewidth": 0,
             "ticks": ""
            },
            "type": "choropleth"
           }
          ],
          "contour": [
           {
            "colorbar": {
             "outlinewidth": 0,
             "ticks": ""
            },
            "colorscale": [
             [
              0,
              "#0d0887"
             ],
             [
              0.1111111111111111,
              "#46039f"
             ],
             [
              0.2222222222222222,
              "#7201a8"
             ],
             [
              0.3333333333333333,
              "#9c179e"
             ],
             [
              0.4444444444444444,
              "#bd3786"
             ],
             [
              0.5555555555555556,
              "#d8576b"
             ],
             [
              0.6666666666666666,
              "#ed7953"
             ],
             [
              0.7777777777777778,
              "#fb9f3a"
             ],
             [
              0.8888888888888888,
              "#fdca26"
             ],
             [
              1,
              "#f0f921"
             ]
            ],
            "type": "contour"
           }
          ],
          "contourcarpet": [
           {
            "colorbar": {
             "outlinewidth": 0,
             "ticks": ""
            },
            "type": "contourcarpet"
           }
          ],
          "heatmap": [
           {
            "colorbar": {
             "outlinewidth": 0,
             "ticks": ""
            },
            "colorscale": [
             [
              0,
              "#0d0887"
             ],
             [
              0.1111111111111111,
              "#46039f"
             ],
             [
              0.2222222222222222,
              "#7201a8"
             ],
             [
              0.3333333333333333,
              "#9c179e"
             ],
             [
              0.4444444444444444,
              "#bd3786"
             ],
             [
              0.5555555555555556,
              "#d8576b"
             ],
             [
              0.6666666666666666,
              "#ed7953"
             ],
             [
              0.7777777777777778,
              "#fb9f3a"
             ],
             [
              0.8888888888888888,
              "#fdca26"
             ],
             [
              1,
              "#f0f921"
             ]
            ],
            "type": "heatmap"
           }
          ],
          "heatmapgl": [
           {
            "colorbar": {
             "outlinewidth": 0,
             "ticks": ""
            },
            "colorscale": [
             [
              0,
              "#0d0887"
             ],
             [
              0.1111111111111111,
              "#46039f"
             ],
             [
              0.2222222222222222,
              "#7201a8"
             ],
             [
              0.3333333333333333,
              "#9c179e"
             ],
             [
              0.4444444444444444,
              "#bd3786"
             ],
             [
              0.5555555555555556,
              "#d8576b"
             ],
             [
              0.6666666666666666,
              "#ed7953"
             ],
             [
              0.7777777777777778,
              "#fb9f3a"
             ],
             [
              0.8888888888888888,
              "#fdca26"
             ],
             [
              1,
              "#f0f921"
             ]
            ],
            "type": "heatmapgl"
           }
          ],
          "histogram": [
           {
            "marker": {
             "pattern": {
              "fillmode": "overlay",
              "size": 10,
              "solidity": 0.2
             }
            },
            "type": "histogram"
           }
          ],
          "histogram2d": [
           {
            "colorbar": {
             "outlinewidth": 0,
             "ticks": ""
            },
            "colorscale": [
             [
              0,
              "#0d0887"
             ],
             [
              0.1111111111111111,
              "#46039f"
             ],
             [
              0.2222222222222222,
              "#7201a8"
             ],
             [
              0.3333333333333333,
              "#9c179e"
             ],
             [
              0.4444444444444444,
              "#bd3786"
             ],
             [
              0.5555555555555556,
              "#d8576b"
             ],
             [
              0.6666666666666666,
              "#ed7953"
             ],
             [
              0.7777777777777778,
              "#fb9f3a"
             ],
             [
              0.8888888888888888,
              "#fdca26"
             ],
             [
              1,
              "#f0f921"
             ]
            ],
            "type": "histogram2d"
           }
          ],
          "histogram2dcontour": [
           {
            "colorbar": {
             "outlinewidth": 0,
             "ticks": ""
            },
            "colorscale": [
             [
              0,
              "#0d0887"
             ],
             [
              0.1111111111111111,
              "#46039f"
             ],
             [
              0.2222222222222222,
              "#7201a8"
             ],
             [
              0.3333333333333333,
              "#9c179e"
             ],
             [
              0.4444444444444444,
              "#bd3786"
             ],
             [
              0.5555555555555556,
              "#d8576b"
             ],
             [
              0.6666666666666666,
              "#ed7953"
             ],
             [
              0.7777777777777778,
              "#fb9f3a"
             ],
             [
              0.8888888888888888,
              "#fdca26"
             ],
             [
              1,
              "#f0f921"
             ]
            ],
            "type": "histogram2dcontour"
           }
          ],
          "mesh3d": [
           {
            "colorbar": {
             "outlinewidth": 0,
             "ticks": ""
            },
            "type": "mesh3d"
           }
          ],
          "parcoords": [
           {
            "line": {
             "colorbar": {
              "outlinewidth": 0,
              "ticks": ""
             }
            },
            "type": "parcoords"
           }
          ],
          "pie": [
           {
            "automargin": true,
            "type": "pie"
           }
          ],
          "scatter": [
           {
            "fillpattern": {
             "fillmode": "overlay",
             "size": 10,
             "solidity": 0.2
            },
            "type": "scatter"
           }
          ],
          "scatter3d": [
           {
            "line": {
             "colorbar": {
              "outlinewidth": 0,
              "ticks": ""
             }
            },
            "marker": {
             "colorbar": {
              "outlinewidth": 0,
              "ticks": ""
             }
            },
            "type": "scatter3d"
           }
          ],
          "scattercarpet": [
           {
            "marker": {
             "colorbar": {
              "outlinewidth": 0,
              "ticks": ""
             }
            },
            "type": "scattercarpet"
           }
          ],
          "scattergeo": [
           {
            "marker": {
             "colorbar": {
              "outlinewidth": 0,
              "ticks": ""
             }
            },
            "type": "scattergeo"
           }
          ],
          "scattergl": [
           {
            "marker": {
             "colorbar": {
              "outlinewidth": 0,
              "ticks": ""
             }
            },
            "type": "scattergl"
           }
          ],
          "scattermapbox": [
           {
            "marker": {
             "colorbar": {
              "outlinewidth": 0,
              "ticks": ""
             }
            },
            "type": "scattermapbox"
           }
          ],
          "scatterpolar": [
           {
            "marker": {
             "colorbar": {
              "outlinewidth": 0,
              "ticks": ""
             }
            },
            "type": "scatterpolar"
           }
          ],
          "scatterpolargl": [
           {
            "marker": {
             "colorbar": {
              "outlinewidth": 0,
              "ticks": ""
             }
            },
            "type": "scatterpolargl"
           }
          ],
          "scatterternary": [
           {
            "marker": {
             "colorbar": {
              "outlinewidth": 0,
              "ticks": ""
             }
            },
            "type": "scatterternary"
           }
          ],
          "surface": [
           {
            "colorbar": {
             "outlinewidth": 0,
             "ticks": ""
            },
            "colorscale": [
             [
              0,
              "#0d0887"
             ],
             [
              0.1111111111111111,
              "#46039f"
             ],
             [
              0.2222222222222222,
              "#7201a8"
             ],
             [
              0.3333333333333333,
              "#9c179e"
             ],
             [
              0.4444444444444444,
              "#bd3786"
             ],
             [
              0.5555555555555556,
              "#d8576b"
             ],
             [
              0.6666666666666666,
              "#ed7953"
             ],
             [
              0.7777777777777778,
              "#fb9f3a"
             ],
             [
              0.8888888888888888,
              "#fdca26"
             ],
             [
              1,
              "#f0f921"
             ]
            ],
            "type": "surface"
           }
          ],
          "table": [
           {
            "cells": {
             "fill": {
              "color": "#EBF0F8"
             },
             "line": {
              "color": "white"
             }
            },
            "header": {
             "fill": {
              "color": "#C8D4E3"
             },
             "line": {
              "color": "white"
             }
            },
            "type": "table"
           }
          ]
         },
         "layout": {
          "annotationdefaults": {
           "arrowcolor": "#2a3f5f",
           "arrowhead": 0,
           "arrowwidth": 1
          },
          "autotypenumbers": "strict",
          "coloraxis": {
           "colorbar": {
            "outlinewidth": 0,
            "ticks": ""
           }
          },
          "colorscale": {
           "diverging": [
            [
             0,
             "#8e0152"
            ],
            [
             0.1,
             "#c51b7d"
            ],
            [
             0.2,
             "#de77ae"
            ],
            [
             0.3,
             "#f1b6da"
            ],
            [
             0.4,
             "#fde0ef"
            ],
            [
             0.5,
             "#f7f7f7"
            ],
            [
             0.6,
             "#e6f5d0"
            ],
            [
             0.7,
             "#b8e186"
            ],
            [
             0.8,
             "#7fbc41"
            ],
            [
             0.9,
             "#4d9221"
            ],
            [
             1,
             "#276419"
            ]
           ],
           "sequential": [
            [
             0,
             "#0d0887"
            ],
            [
             0.1111111111111111,
             "#46039f"
            ],
            [
             0.2222222222222222,
             "#7201a8"
            ],
            [
             0.3333333333333333,
             "#9c179e"
            ],
            [
             0.4444444444444444,
             "#bd3786"
            ],
            [
             0.5555555555555556,
             "#d8576b"
            ],
            [
             0.6666666666666666,
             "#ed7953"
            ],
            [
             0.7777777777777778,
             "#fb9f3a"
            ],
            [
             0.8888888888888888,
             "#fdca26"
            ],
            [
             1,
             "#f0f921"
            ]
           ],
           "sequentialminus": [
            [
             0,
             "#0d0887"
            ],
            [
             0.1111111111111111,
             "#46039f"
            ],
            [
             0.2222222222222222,
             "#7201a8"
            ],
            [
             0.3333333333333333,
             "#9c179e"
            ],
            [
             0.4444444444444444,
             "#bd3786"
            ],
            [
             0.5555555555555556,
             "#d8576b"
            ],
            [
             0.6666666666666666,
             "#ed7953"
            ],
            [
             0.7777777777777778,
             "#fb9f3a"
            ],
            [
             0.8888888888888888,
             "#fdca26"
            ],
            [
             1,
             "#f0f921"
            ]
           ]
          },
          "colorway": [
           "#636efa",
           "#EF553B",
           "#00cc96",
           "#ab63fa",
           "#FFA15A",
           "#19d3f3",
           "#FF6692",
           "#B6E880",
           "#FF97FF",
           "#FECB52"
          ],
          "font": {
           "color": "#2a3f5f"
          },
          "geo": {
           "bgcolor": "white",
           "lakecolor": "white",
           "landcolor": "#E5ECF6",
           "showlakes": true,
           "showland": true,
           "subunitcolor": "white"
          },
          "hoverlabel": {
           "align": "left"
          },
          "hovermode": "closest",
          "mapbox": {
           "style": "light"
          },
          "paper_bgcolor": "white",
          "plot_bgcolor": "#E5ECF6",
          "polar": {
           "angularaxis": {
            "gridcolor": "white",
            "linecolor": "white",
            "ticks": ""
           },
           "bgcolor": "#E5ECF6",
           "radialaxis": {
            "gridcolor": "white",
            "linecolor": "white",
            "ticks": ""
           }
          },
          "scene": {
           "xaxis": {
            "backgroundcolor": "#E5ECF6",
            "gridcolor": "white",
            "gridwidth": 2,
            "linecolor": "white",
            "showbackground": true,
            "ticks": "",
            "zerolinecolor": "white"
           },
           "yaxis": {
            "backgroundcolor": "#E5ECF6",
            "gridcolor": "white",
            "gridwidth": 2,
            "linecolor": "white",
            "showbackground": true,
            "ticks": "",
            "zerolinecolor": "white"
           },
           "zaxis": {
            "backgroundcolor": "#E5ECF6",
            "gridcolor": "white",
            "gridwidth": 2,
            "linecolor": "white",
            "showbackground": true,
            "ticks": "",
            "zerolinecolor": "white"
           }
          },
          "shapedefaults": {
           "line": {
            "color": "#2a3f5f"
           }
          },
          "ternary": {
           "aaxis": {
            "gridcolor": "white",
            "linecolor": "white",
            "ticks": ""
           },
           "baxis": {
            "gridcolor": "white",
            "linecolor": "white",
            "ticks": ""
           },
           "bgcolor": "#E5ECF6",
           "caxis": {
            "gridcolor": "white",
            "linecolor": "white",
            "ticks": ""
           }
          },
          "title": {
           "x": 0.05
          },
          "xaxis": {
           "automargin": true,
           "gridcolor": "white",
           "linecolor": "white",
           "ticks": "",
           "title": {
            "standoff": 15
           },
           "zerolinecolor": "white",
           "zerolinewidth": 2
          },
          "yaxis": {
           "automargin": true,
           "gridcolor": "white",
           "linecolor": "white",
           "ticks": "",
           "title": {
            "standoff": 15
           },
           "zerolinecolor": "white",
           "zerolinewidth": 2
          }
         }
        }
       }
      }
     },
     "metadata": {},
     "output_type": "display_data"
    }
   ],
   "source": [
    "fig.add_trace(go.Scatter(x=[bottom_left[0], bottom_right[0]], y=[bottom_left[1], bottom_right[1]], mode='markers', name='Player 1 Box'))\n",
    "fig.add_trace(go.Scatter(x=[ground_player_point_1[0], ground_player_point_2[0]], y=[ground_player_point_1[1], ground_player_point_2[1]], mode='markers', name='Transformed Player 1 Box'))"
   ]
  },
  {
   "cell_type": "code",
   "execution_count": null,
   "metadata": {},
   "outputs": [],
   "source": []
  },
  {
   "cell_type": "code",
   "execution_count": 160,
   "metadata": {},
   "outputs": [
    {
     "name": "stdout",
     "output_type": "stream",
     "text": [
      "(564.9418842502276, 118.42704626334535, 210.39174909676592)\n"
     ]
    },
    {
     "data": {
      "application/vnd.plotly.v1+json": {
       "config": {
        "linkText": "Export to plot.ly",
        "plotlyServerURL": "https://plot.ly",
        "showLink": false
       },
       "data": [
        {
         "line": {
          "color": "blue",
          "width": 2
         },
         "mode": "lines",
         "name": "Line",
         "type": "scatter3d",
         "x": [
          770.6052380178069,
          766.7963392838714,
          762.9874405499357,
          759.1785418160002,
          755.3696430820647,
          751.5607443481291,
          747.7518456141936,
          743.9429468802581,
          740.1340481463225,
          736.325149412387,
          732.5162506784515,
          728.7073519445158,
          724.8984532105803,
          721.0895544766448,
          717.2806557427092,
          713.4717570087737,
          709.6628582748382,
          705.8539595409026,
          702.0450608069671,
          698.2361620730316,
          694.4272633390959,
          690.6183646051604,
          686.8094658712249,
          683.0005671372893,
          679.1916684033538,
          675.3827696694183,
          671.5738709354827,
          667.7649722015472,
          663.9560734676116,
          660.147174733676,
          656.3382759997405,
          652.529377265805,
          648.7204785318694,
          644.9115797979339,
          641.1026810639984,
          637.2937823300628,
          633.4848835961272,
          629.6759848621917,
          625.8670861282561,
          622.0581873943206,
          618.2492886603851,
          614.4403899264495,
          610.631491192514,
          606.8225924585785,
          603.0136937246428,
          599.2047949907073,
          595.3958962567718,
          591.5869975228362,
          587.7780987889007,
          583.9692000549652,
          580.1603013210296,
          576.3514025870941,
          572.5425038531586,
          568.733605119223,
          564.9247063852874,
          561.1158076513519,
          557.3069089174163,
          553.4980101834808,
          549.6891114495453,
          545.8802127156097,
          542.0713139816742,
          538.2624152477385,
          534.453516513803,
          530.6446177798675,
          526.835719045932,
          523.0268203119964,
          519.2179215780609,
          515.4090228441254,
          511.6001241101898,
          507.79122537625426,
          503.98232664231875,
          500.1734279083832,
          496.3645291744476,
          492.55563044051206,
          488.7467317065765,
          484.937832972641,
          481.1289342387054,
          477.32003550476986,
          473.51113677083436,
          469.7022380368988,
          465.8933393029632,
          462.0844405690277,
          458.2755418350922,
          454.4666431011566,
          450.6577443672211,
          446.8488456332856,
          443.03994689935,
          439.23104816541445,
          435.42214943147883,
          431.6132506975433,
          427.8043519636078,
          423.99545322967225,
          420.1865544957367,
          416.3776557618012,
          412.5687570278656,
          408.75985829393005,
          404.95095955999454,
          401.142060826059,
          397.3331620921234,
          393.5242633581879
         ],
         "y": [
          -5233.513318844095,
          -5134.395033999857,
          -5035.276749155619,
          -4936.15846431138,
          -4837.040179467142,
          -4737.921894622904,
          -4638.803609778665,
          -4539.685324934427,
          -4440.567040090189,
          -4341.44875524595,
          -4242.330470401712,
          -4143.212185557473,
          -4044.0939007132356,
          -3944.9756158689975,
          -3845.857331024759,
          -3746.7390461805207,
          -3647.620761336282,
          -3548.5024764920445,
          -3449.384191647806,
          -3350.2659068035673,
          -3251.147621959329,
          -3152.029337115091,
          -3052.9110522708525,
          -2953.7927674266143,
          -2854.674482582376,
          -2755.556197738138,
          -2656.4379128939,
          -2557.3196280496613,
          -2458.2013432054227,
          -2359.0830583611846,
          -2259.964773516946,
          -2160.846488672708,
          -2061.7282038284698,
          -1962.6099189842316,
          -1863.4916341399935,
          -1764.3733492957554,
          -1665.255064451517,
          -1566.1367796072782,
          -1467.01849476304,
          -1367.9002099188017,
          -1268.7819250745636,
          -1169.6636402303252,
          -1070.545355386087,
          -971.4270705418489,
          -872.3087856976101,
          -773.1905008533718,
          -674.0722160091336,
          -574.9539311648955,
          -475.83564632065713,
          -376.717361476419,
          -277.59907663218087,
          -178.48079178794274,
          -79.36250694370437,
          19.75577790053444,
          118.8740627447728,
          217.99234758901093,
          317.11063243324907,
          416.2289172774872,
          515.3472021217253,
          614.4654869659635,
          713.5837718102025,
          812.7020566544406,
          911.8203414986788,
          1010.9386263429174,
          1110.0569111871555,
          1209.1751960313936,
          1308.2934808756318,
          1407.41176571987,
          1506.530050564108,
          1605.6483354083462,
          1704.7666202525847,
          1803.8849050968229,
          1903.003189941061,
          2002.1214747853005,
          2101.2397596295386,
          2200.358044473777,
          2299.476329318015,
          2398.5946141622535,
          2497.712899006491,
          2596.8311838507298,
          2695.9494686949683,
          2795.067753539206,
          2894.1860383834446,
          2993.3043232276823,
          3092.422608071921,
          3191.5408929161586,
          3290.659177760397,
          3389.7774626046357,
          3488.895747448875,
          3588.014032293113,
          3687.1323171373515,
          3786.250601981589,
          3885.3688868258278,
          3984.4871716700663,
          4083.605456514304,
          4182.723741358543,
          4281.84202620278,
          4380.960311047019,
          4480.078595891257,
          4579.196880735495
         ],
         "z": [
          1156.7198929303574,
          1139.1938339465642,
          1121.6677749627709,
          1104.1417159789776,
          1086.6156569951843,
          1069.089598011391,
          1051.5635390275977,
          1034.0374800438044,
          1016.5114210600111,
          998.9853620762178,
          981.4593030924245,
          963.9332441086312,
          946.407185124838,
          928.8811261410447,
          911.3550671572513,
          893.8290081734581,
          876.3029491896648,
          858.7768902058715,
          841.2508312220782,
          823.7247722382848,
          806.1987132544915,
          788.6726542706983,
          771.1465952869049,
          753.6205363031116,
          736.0944773193183,
          718.568418335525,
          701.0423593517318,
          683.5163003679385,
          665.9902413841452,
          648.4641824003519,
          630.9381234165586,
          613.4120644327653,
          595.886005448972,
          578.3599464651787,
          560.8338874813854,
          543.3078284975921,
          525.7817695137988,
          508.25571053000544,
          490.7296515462122,
          473.2035925624189,
          455.6775335786256,
          438.1514745948324,
          420.6254156110391,
          403.0993566272458,
          385.5732976434524,
          368.0472386596591,
          350.5211796758658,
          332.99512069207253,
          315.4690617082793,
          297.943002724486,
          280.4169437406927,
          262.8908847568994,
          245.3648257731062,
          227.83876678931273,
          210.3127078055195,
          192.7866488217262,
          175.2605898379329,
          157.73453085413962,
          140.2084718703464,
          122.6824128865531,
          105.15635390275969,
          87.6302949189664,
          70.10423593517311,
          52.578176951379874,
          35.05211796758658,
          17.52605898379329,
          0,
          -17.52605898379329,
          -35.05211796758658,
          -52.578176951379874,
          -70.10423593517316,
          -87.63029491896634,
          -105.15635390275963,
          -122.68241288655327,
          -140.20847187034644,
          -157.73453085413973,
          -175.26058983793303,
          -192.78664882172632,
          -210.3127078055196,
          -227.8387667893129,
          -245.3648257731062,
          -262.8908847568995,
          -280.4169437406928,
          -297.94300272448595,
          -315.46906170827924,
          -332.99512069207253,
          -350.5211796758658,
          -368.0472386596591,
          -385.57329764345263,
          -403.0993566272459,
          -420.6254156110392,
          -438.1514745948325,
          -455.6775335786257,
          -473.203592562419,
          -490.72965154621227,
          -508.25571053000556,
          -525.7817695137988,
          -543.3078284975921,
          -560.8338874813854,
          -578.3599464651787
         ]
        },
        {
         "marker": {
          "color": "red",
          "size": 5
         },
         "mode": "markers",
         "name": "Points",
         "type": "scatter3d",
         "x": [
          526.1267712714331,
          621.9856195406016,
          526.1267712714331,
          526.1267712714331,
          621.9856195406016,
          621.9856195406016
         ],
         "y": [
          118.42704626334515,
          118.42704626334515,
          118.42704626334515,
          118.42704626334515,
          118.42704626334515,
          118.42704626334515
         ],
         "z": [
          0,
          0,
          0,
          700,
          700,
          0
         ]
        },
        {
         "line": {
          "color": "black",
          "width": 2
         },
         "mode": "lines",
         "name": "Lines",
         "type": "scatter3d",
         "x": [
          526.1267712714331,
          621.9856195406016,
          526.1267712714331,
          526.1267712714331,
          621.9856195406016,
          621.9856195406016,
          526.1267712714331,
          526.1267712714331
         ],
         "y": [
          118.42704626334515,
          118.42704626334515,
          118.42704626334515,
          118.42704626334515,
          118.42704626334515,
          118.42704626334515,
          118.42704626334515,
          118.42704626334515
         ],
         "z": [
          0,
          0,
          0,
          700,
          700,
          0,
          0,
          700
         ]
        },
        {
         "marker": {
          "color": "blue",
          "size": 5
         },
         "mode": "markers",
         "name": "Camera center",
         "type": "scatter3d",
         "x": [
          644.9115797979339
         ],
         "y": [
          -1962.6099189842316
         ],
         "z": [
          578.3599464651787
         ]
        },
        {
         "marker": {
          "color": "green",
          "size": 5
         },
         "mode": "markers",
         "name": "Ball",
         "type": "scatter3d",
         "x": [
          519.2179215780609
         ],
         "y": [
          1308.2934808756318
         ],
         "z": [
          0
         ]
        },
        {
         "color": "red",
         "i": [
          0,
          0,
          0,
          0,
          4,
          4,
          2,
          2
         ],
         "j": [
          1,
          2,
          3,
          4,
          5,
          6,
          7,
          6
         ],
         "k": [
          5,
          6,
          7,
          4,
          0,
          3,
          1,
          3
         ],
         "opacity": 0.5,
         "type": "mesh3d",
         "x": [
          526.1267712714331,
          621.9856195406016,
          526.1267712714331,
          621.9856195406016,
          526.1267712714331,
          526.1267712714331,
          621.9856195406016,
          621.9856195406016
         ],
         "y": [
          118.42704626334515,
          118.42704626334515,
          118.42704626334515,
          118.42704626334515,
          118.42704626334515,
          118.42704626334515,
          118.42704626334515,
          118.42704626334515
         ],
         "z": [
          0,
          0,
          700,
          700,
          0,
          700,
          700,
          0
         ]
        },
        {
         "marker": {
          "color": "green",
          "size": 5
         },
         "mode": "markers",
         "name": "Intersection Point",
         "type": "scatter3d",
         "x": [
          564.9418842502276
         ],
         "y": [
          118.42704626334535
         ],
         "z": [
          210.39174909676592
         ]
        }
       ],
       "layout": {
        "scene": {
         "xaxis": {
          "title": {
           "text": "X"
          }
         },
         "yaxis": {
          "title": {
           "text": "Y"
          }
         },
         "zaxis": {
          "title": {
           "text": "Z"
          }
         }
        },
        "template": {
         "data": {
          "bar": [
           {
            "error_x": {
             "color": "#2a3f5f"
            },
            "error_y": {
             "color": "#2a3f5f"
            },
            "marker": {
             "line": {
              "color": "#E5ECF6",
              "width": 0.5
             },
             "pattern": {
              "fillmode": "overlay",
              "size": 10,
              "solidity": 0.2
             }
            },
            "type": "bar"
           }
          ],
          "barpolar": [
           {
            "marker": {
             "line": {
              "color": "#E5ECF6",
              "width": 0.5
             },
             "pattern": {
              "fillmode": "overlay",
              "size": 10,
              "solidity": 0.2
             }
            },
            "type": "barpolar"
           }
          ],
          "carpet": [
           {
            "aaxis": {
             "endlinecolor": "#2a3f5f",
             "gridcolor": "white",
             "linecolor": "white",
             "minorgridcolor": "white",
             "startlinecolor": "#2a3f5f"
            },
            "baxis": {
             "endlinecolor": "#2a3f5f",
             "gridcolor": "white",
             "linecolor": "white",
             "minorgridcolor": "white",
             "startlinecolor": "#2a3f5f"
            },
            "type": "carpet"
           }
          ],
          "choropleth": [
           {
            "colorbar": {
             "outlinewidth": 0,
             "ticks": ""
            },
            "type": "choropleth"
           }
          ],
          "contour": [
           {
            "colorbar": {
             "outlinewidth": 0,
             "ticks": ""
            },
            "colorscale": [
             [
              0,
              "#0d0887"
             ],
             [
              0.1111111111111111,
              "#46039f"
             ],
             [
              0.2222222222222222,
              "#7201a8"
             ],
             [
              0.3333333333333333,
              "#9c179e"
             ],
             [
              0.4444444444444444,
              "#bd3786"
             ],
             [
              0.5555555555555556,
              "#d8576b"
             ],
             [
              0.6666666666666666,
              "#ed7953"
             ],
             [
              0.7777777777777778,
              "#fb9f3a"
             ],
             [
              0.8888888888888888,
              "#fdca26"
             ],
             [
              1,
              "#f0f921"
             ]
            ],
            "type": "contour"
           }
          ],
          "contourcarpet": [
           {
            "colorbar": {
             "outlinewidth": 0,
             "ticks": ""
            },
            "type": "contourcarpet"
           }
          ],
          "heatmap": [
           {
            "colorbar": {
             "outlinewidth": 0,
             "ticks": ""
            },
            "colorscale": [
             [
              0,
              "#0d0887"
             ],
             [
              0.1111111111111111,
              "#46039f"
             ],
             [
              0.2222222222222222,
              "#7201a8"
             ],
             [
              0.3333333333333333,
              "#9c179e"
             ],
             [
              0.4444444444444444,
              "#bd3786"
             ],
             [
              0.5555555555555556,
              "#d8576b"
             ],
             [
              0.6666666666666666,
              "#ed7953"
             ],
             [
              0.7777777777777778,
              "#fb9f3a"
             ],
             [
              0.8888888888888888,
              "#fdca26"
             ],
             [
              1,
              "#f0f921"
             ]
            ],
            "type": "heatmap"
           }
          ],
          "heatmapgl": [
           {
            "colorbar": {
             "outlinewidth": 0,
             "ticks": ""
            },
            "colorscale": [
             [
              0,
              "#0d0887"
             ],
             [
              0.1111111111111111,
              "#46039f"
             ],
             [
              0.2222222222222222,
              "#7201a8"
             ],
             [
              0.3333333333333333,
              "#9c179e"
             ],
             [
              0.4444444444444444,
              "#bd3786"
             ],
             [
              0.5555555555555556,
              "#d8576b"
             ],
             [
              0.6666666666666666,
              "#ed7953"
             ],
             [
              0.7777777777777778,
              "#fb9f3a"
             ],
             [
              0.8888888888888888,
              "#fdca26"
             ],
             [
              1,
              "#f0f921"
             ]
            ],
            "type": "heatmapgl"
           }
          ],
          "histogram": [
           {
            "marker": {
             "pattern": {
              "fillmode": "overlay",
              "size": 10,
              "solidity": 0.2
             }
            },
            "type": "histogram"
           }
          ],
          "histogram2d": [
           {
            "colorbar": {
             "outlinewidth": 0,
             "ticks": ""
            },
            "colorscale": [
             [
              0,
              "#0d0887"
             ],
             [
              0.1111111111111111,
              "#46039f"
             ],
             [
              0.2222222222222222,
              "#7201a8"
             ],
             [
              0.3333333333333333,
              "#9c179e"
             ],
             [
              0.4444444444444444,
              "#bd3786"
             ],
             [
              0.5555555555555556,
              "#d8576b"
             ],
             [
              0.6666666666666666,
              "#ed7953"
             ],
             [
              0.7777777777777778,
              "#fb9f3a"
             ],
             [
              0.8888888888888888,
              "#fdca26"
             ],
             [
              1,
              "#f0f921"
             ]
            ],
            "type": "histogram2d"
           }
          ],
          "histogram2dcontour": [
           {
            "colorbar": {
             "outlinewidth": 0,
             "ticks": ""
            },
            "colorscale": [
             [
              0,
              "#0d0887"
             ],
             [
              0.1111111111111111,
              "#46039f"
             ],
             [
              0.2222222222222222,
              "#7201a8"
             ],
             [
              0.3333333333333333,
              "#9c179e"
             ],
             [
              0.4444444444444444,
              "#bd3786"
             ],
             [
              0.5555555555555556,
              "#d8576b"
             ],
             [
              0.6666666666666666,
              "#ed7953"
             ],
             [
              0.7777777777777778,
              "#fb9f3a"
             ],
             [
              0.8888888888888888,
              "#fdca26"
             ],
             [
              1,
              "#f0f921"
             ]
            ],
            "type": "histogram2dcontour"
           }
          ],
          "mesh3d": [
           {
            "colorbar": {
             "outlinewidth": 0,
             "ticks": ""
            },
            "type": "mesh3d"
           }
          ],
          "parcoords": [
           {
            "line": {
             "colorbar": {
              "outlinewidth": 0,
              "ticks": ""
             }
            },
            "type": "parcoords"
           }
          ],
          "pie": [
           {
            "automargin": true,
            "type": "pie"
           }
          ],
          "scatter": [
           {
            "fillpattern": {
             "fillmode": "overlay",
             "size": 10,
             "solidity": 0.2
            },
            "type": "scatter"
           }
          ],
          "scatter3d": [
           {
            "line": {
             "colorbar": {
              "outlinewidth": 0,
              "ticks": ""
             }
            },
            "marker": {
             "colorbar": {
              "outlinewidth": 0,
              "ticks": ""
             }
            },
            "type": "scatter3d"
           }
          ],
          "scattercarpet": [
           {
            "marker": {
             "colorbar": {
              "outlinewidth": 0,
              "ticks": ""
             }
            },
            "type": "scattercarpet"
           }
          ],
          "scattergeo": [
           {
            "marker": {
             "colorbar": {
              "outlinewidth": 0,
              "ticks": ""
             }
            },
            "type": "scattergeo"
           }
          ],
          "scattergl": [
           {
            "marker": {
             "colorbar": {
              "outlinewidth": 0,
              "ticks": ""
             }
            },
            "type": "scattergl"
           }
          ],
          "scattermapbox": [
           {
            "marker": {
             "colorbar": {
              "outlinewidth": 0,
              "ticks": ""
             }
            },
            "type": "scattermapbox"
           }
          ],
          "scatterpolar": [
           {
            "marker": {
             "colorbar": {
              "outlinewidth": 0,
              "ticks": ""
             }
            },
            "type": "scatterpolar"
           }
          ],
          "scatterpolargl": [
           {
            "marker": {
             "colorbar": {
              "outlinewidth": 0,
              "ticks": ""
             }
            },
            "type": "scatterpolargl"
           }
          ],
          "scatterternary": [
           {
            "marker": {
             "colorbar": {
              "outlinewidth": 0,
              "ticks": ""
             }
            },
            "type": "scatterternary"
           }
          ],
          "surface": [
           {
            "colorbar": {
             "outlinewidth": 0,
             "ticks": ""
            },
            "colorscale": [
             [
              0,
              "#0d0887"
             ],
             [
              0.1111111111111111,
              "#46039f"
             ],
             [
              0.2222222222222222,
              "#7201a8"
             ],
             [
              0.3333333333333333,
              "#9c179e"
             ],
             [
              0.4444444444444444,
              "#bd3786"
             ],
             [
              0.5555555555555556,
              "#d8576b"
             ],
             [
              0.6666666666666666,
              "#ed7953"
             ],
             [
              0.7777777777777778,
              "#fb9f3a"
             ],
             [
              0.8888888888888888,
              "#fdca26"
             ],
             [
              1,
              "#f0f921"
             ]
            ],
            "type": "surface"
           }
          ],
          "table": [
           {
            "cells": {
             "fill": {
              "color": "#EBF0F8"
             },
             "line": {
              "color": "white"
             }
            },
            "header": {
             "fill": {
              "color": "#C8D4E3"
             },
             "line": {
              "color": "white"
             }
            },
            "type": "table"
           }
          ]
         },
         "layout": {
          "annotationdefaults": {
           "arrowcolor": "#2a3f5f",
           "arrowhead": 0,
           "arrowwidth": 1
          },
          "autotypenumbers": "strict",
          "coloraxis": {
           "colorbar": {
            "outlinewidth": 0,
            "ticks": ""
           }
          },
          "colorscale": {
           "diverging": [
            [
             0,
             "#8e0152"
            ],
            [
             0.1,
             "#c51b7d"
            ],
            [
             0.2,
             "#de77ae"
            ],
            [
             0.3,
             "#f1b6da"
            ],
            [
             0.4,
             "#fde0ef"
            ],
            [
             0.5,
             "#f7f7f7"
            ],
            [
             0.6,
             "#e6f5d0"
            ],
            [
             0.7,
             "#b8e186"
            ],
            [
             0.8,
             "#7fbc41"
            ],
            [
             0.9,
             "#4d9221"
            ],
            [
             1,
             "#276419"
            ]
           ],
           "sequential": [
            [
             0,
             "#0d0887"
            ],
            [
             0.1111111111111111,
             "#46039f"
            ],
            [
             0.2222222222222222,
             "#7201a8"
            ],
            [
             0.3333333333333333,
             "#9c179e"
            ],
            [
             0.4444444444444444,
             "#bd3786"
            ],
            [
             0.5555555555555556,
             "#d8576b"
            ],
            [
             0.6666666666666666,
             "#ed7953"
            ],
            [
             0.7777777777777778,
             "#fb9f3a"
            ],
            [
             0.8888888888888888,
             "#fdca26"
            ],
            [
             1,
             "#f0f921"
            ]
           ],
           "sequentialminus": [
            [
             0,
             "#0d0887"
            ],
            [
             0.1111111111111111,
             "#46039f"
            ],
            [
             0.2222222222222222,
             "#7201a8"
            ],
            [
             0.3333333333333333,
             "#9c179e"
            ],
            [
             0.4444444444444444,
             "#bd3786"
            ],
            [
             0.5555555555555556,
             "#d8576b"
            ],
            [
             0.6666666666666666,
             "#ed7953"
            ],
            [
             0.7777777777777778,
             "#fb9f3a"
            ],
            [
             0.8888888888888888,
             "#fdca26"
            ],
            [
             1,
             "#f0f921"
            ]
           ]
          },
          "colorway": [
           "#636efa",
           "#EF553B",
           "#00cc96",
           "#ab63fa",
           "#FFA15A",
           "#19d3f3",
           "#FF6692",
           "#B6E880",
           "#FF97FF",
           "#FECB52"
          ],
          "font": {
           "color": "#2a3f5f"
          },
          "geo": {
           "bgcolor": "white",
           "lakecolor": "white",
           "landcolor": "#E5ECF6",
           "showlakes": true,
           "showland": true,
           "subunitcolor": "white"
          },
          "hoverlabel": {
           "align": "left"
          },
          "hovermode": "closest",
          "mapbox": {
           "style": "light"
          },
          "paper_bgcolor": "white",
          "plot_bgcolor": "#E5ECF6",
          "polar": {
           "angularaxis": {
            "gridcolor": "white",
            "linecolor": "white",
            "ticks": ""
           },
           "bgcolor": "#E5ECF6",
           "radialaxis": {
            "gridcolor": "white",
            "linecolor": "white",
            "ticks": ""
           }
          },
          "scene": {
           "xaxis": {
            "backgroundcolor": "#E5ECF6",
            "gridcolor": "white",
            "gridwidth": 2,
            "linecolor": "white",
            "showbackground": true,
            "ticks": "",
            "zerolinecolor": "white"
           },
           "yaxis": {
            "backgroundcolor": "#E5ECF6",
            "gridcolor": "white",
            "gridwidth": 2,
            "linecolor": "white",
            "showbackground": true,
            "ticks": "",
            "zerolinecolor": "white"
           },
           "zaxis": {
            "backgroundcolor": "#E5ECF6",
            "gridcolor": "white",
            "gridwidth": 2,
            "linecolor": "white",
            "showbackground": true,
            "ticks": "",
            "zerolinecolor": "white"
           }
          },
          "shapedefaults": {
           "line": {
            "color": "#2a3f5f"
           }
          },
          "ternary": {
           "aaxis": {
            "gridcolor": "white",
            "linecolor": "white",
            "ticks": ""
           },
           "baxis": {
            "gridcolor": "white",
            "linecolor": "white",
            "ticks": ""
           },
           "bgcolor": "#E5ECF6",
           "caxis": {
            "gridcolor": "white",
            "linecolor": "white",
            "ticks": ""
           }
          },
          "title": {
           "x": 0.05
          },
          "xaxis": {
           "automargin": true,
           "gridcolor": "white",
           "linecolor": "white",
           "ticks": "",
           "title": {
            "standoff": 15
           },
           "zerolinecolor": "white",
           "zerolinewidth": 2
          },
          "yaxis": {
           "automargin": true,
           "gridcolor": "white",
           "linecolor": "white",
           "ticks": "",
           "title": {
            "standoff": 15
           },
           "zerolinecolor": "white",
           "zerolinewidth": 2
          }
         }
        },
        "title": {
         "text": "Lines, Points, and Bounding Box in 3D"
        }
       }
      }
     },
     "metadata": {},
     "output_type": "display_data"
    }
   ],
   "source": [
    "def plane_from_points(p1, p2, p3):\n",
    "    v1 = p2 - p1\n",
    "    v2 = p3 - p1\n",
    "    normal = np.cross(v1, v2)\n",
    "    normal /= np.linalg.norm(normal)  # Normalize the normal vector\n",
    "    return normal\n",
    "\n",
    "\n",
    "\n",
    "def intersect_line_plane(p0, p1, p_co, p_no, epsilon=1e-6):\n",
    "    \"\"\"\n",
    "    Intersects a line defined by two points p0 and p1 with a plane defined by its center point p_co and normal vector p_no.\n",
    "    \n",
    "    Parameters:\n",
    "    - p0, p1: Tuple representing the start and end points of the line.\n",
    "    - p_co: Tuple representing a point on the plane.\n",
    "    - p_no: Tuple representing the normal vector of the plane.\n",
    "    - epsilon: Small value to avoid division by zero errors.\n",
    "    \n",
    "    Returns:\n",
    "    - Intersection point as a tuple or None if no intersection exists.\n",
    "    \"\"\"\n",
    "    u = (p1[0]-p0[0], p1[1]-p0[1], p1[2]-p0[2])\n",
    "    dot = sum(a*b for a, b in zip(p_no, u))\n",
    "    \n",
    "    if abs(dot) > epsilon:\n",
    "        w = (p0[0]-p_co[0], p0[1]-p_co[1], p0[2]-p_co[2])\n",
    "        fac = -(sum(a*b for a, b in zip(p_no, w)) / dot)\n",
    "        u_scaled = (u[0]*fac, u[1]*fac, u[2]*fac)\n",
    "        return (p0[0]+u_scaled[0], p0[1]+u_scaled[1], p0[2]+u_scaled[2])\n",
    "    \n",
    "    return None\n",
    "\n",
    "\n",
    "\n",
    "def plot_lines_points_bounding_box_3d_plotly(p1, p2, p3, p4):\n",
    "    x1, y1, z1 = p1\n",
    "    x2, y2, z2 = p2\n",
    "    \n",
    "    # Direction vector for the line\n",
    "    d = np.array([x2 - x1, y2 - y1, z2 - z1])\n",
    "    \n",
    "    # Parametric values for the line\n",
    "    t = np.linspace(-1, 2, 100)\n",
    "    \n",
    "    # Line points\n",
    "    x_line = x1 + t * d[0]\n",
    "    y_line = y1 + t * d[1]\n",
    "    z_line = z1 + t * d[2]\n",
    "    \n",
    "    # Points on the Z=0 plane\n",
    "    x3, y3, z3 = p3\n",
    "    x4, y4, z4 = p4\n",
    "    \n",
    "    # Direction vector of the line p3-p4\n",
    "    line_direction = np.array([x4 - x3, y4 - y3, z4 - z3])\n",
    "    \n",
    "    # Calculate the length of the line segment p3-p4\n",
    "    line_length = np.linalg.norm(line_direction)\n",
    "    \n",
    "    # Normalize the line direction vector\n",
    "    line_direction_norm = line_direction / line_length\n",
    "    \n",
    "    # Calculate the bounding box height\n",
    "    box_height = 700\n",
    "    \n",
    "    # Define points for the bounding box\n",
    "    \n",
    "    \n",
    "    \n",
    "    p7 = p3 + np.array([0, 0, box_height])\n",
    "    p8 = p4 + np.array([0, 0, box_height])\n",
    "    \n",
    "    normal = plane_from_points(p3, p4, p7)\n",
    "    intersection_point = intersect_line_plane(p1, p2, p8, normal)\n",
    "    \n",
    "    intersection_trace = go.Scatter3d(\n",
    "        x=[intersection_point[0]],\n",
    "        y=[intersection_point[1]],\n",
    "        z=[intersection_point[2]],\n",
    "        mode='markers',\n",
    "        name='Intersection Point',\n",
    "        marker=dict(color='green', size=5)\n",
    "    )\n",
    "    print (intersection_point)\n",
    "    \n",
    "    # Create the line trace\n",
    "    line_trace = go.Scatter3d(\n",
    "        x=x_line,\n",
    "        y=y_line,\n",
    "        z=z_line,\n",
    "        mode='lines',\n",
    "        name='Line',\n",
    "        line=dict(color='blue', width=2)\n",
    "    )\n",
    "    \n",
    "    # Create traces for points\n",
    "    points_trace = go.Scatter3d(\n",
    "        x=[p3[0], p4[0],  p3[0], p7[0], p8[0], p4[0]],\n",
    "        y=[p3[1], p4[1],  p3[1], p7[1], p8[1], p4[1]],\n",
    "        z=[p3[2], p4[2],  p3[2], p7[2], p8[2], p4[2]],\n",
    "        mode='markers',\n",
    "        name='Points',\n",
    "        marker=dict(color='red', size=5)\n",
    "    )\n",
    "    \n",
    "    # Create traces for lines connecting points\n",
    "    lines_trace = go.Scatter3d(\n",
    "        x=[p3[0], p4[0],  p3[0], p7[0], p8[0], p4[0], p3[0], p7[0], ],\n",
    "        y=[p3[1], p4[1],  p3[1], p7[1], p8[1], p4[1], p3[1], p7[1], ],\n",
    "        z=[p3[2], p4[2],  p3[2], p7[2], p8[2], p4[2], p3[2], p7[2], ],\n",
    "        mode='lines',\n",
    "        name='Lines',\n",
    "        line=dict(color='black', width=2)\n",
    "    )\n",
    "    \n",
    "    # Create the camera and ball traces\n",
    "    camera_trace = go.Scatter3d(\n",
    "        x=[x1],\n",
    "        y=[y1],\n",
    "        z=[z1],\n",
    "        mode='markers',\n",
    "        name='Camera center',\n",
    "        marker=dict(color='blue', size=5)\n",
    "    )\n",
    "    \n",
    "    ball_trace = go.Scatter3d(\n",
    "        x=[x2],\n",
    "        y=[y2],\n",
    "        z=[z2],\n",
    "        mode='markers',\n",
    "        name='Ball',\n",
    "        marker=dict(color='green', size=5)\n",
    "    )\n",
    "    box_trace = go.Mesh3d(\n",
    "        x=[p3[0], p4[0], p7[0], p8[0], p3[0], p7[0], p8[0], p4[0]],\n",
    "        y=[p3[1], p4[1], p7[1], p8[1], p3[1], p7[1], p8[1], p4[1]],\n",
    "        z=[p3[2], p4[2], p7[2], p8[2], p3[2], p7[2], p8[2], p4[2]],\n",
    "        i=[0, 0, 0, 0, 4, 4, 2, 2],\n",
    "        j=[1, 2, 3, 4, 5, 6, 7, 6],\n",
    "        k=[5, 6, 7, 4, 0, 3, 1, 3],\n",
    "        opacity=0.5,\n",
    "        color='red'\n",
    "    )\n",
    "    \n",
    "    # Layout\n",
    "    layout = go.Layout(\n",
    "        title='Lines, Points, and Bounding Box in 3D',\n",
    "        scene=dict(\n",
    "            xaxis_title='X',\n",
    "            yaxis_title='Y',\n",
    "            zaxis_title='Z'\n",
    "        )\n",
    "    )\n",
    "    \n",
    "    # Create the figure\n",
    "    fig = go.Figure(data=[line_trace, points_trace, lines_trace, camera_trace, ball_trace, box_trace, intersection_trace], layout=layout)\n",
    "    \n",
    "    # Plot the figure\n",
    "    pyo.iplot(fig)\n",
    "bounce_g = bounce_transformed\n",
    "bounce_g[2]= 0\n",
    "ground_player_point_1[2]=0\n",
    "ground_player_point_2[2]=0\n",
    "plot_lines_points_bounding_box_3d_plotly(intersection_point, bounce_g, ground_player_point_1, ground_player_point_2)"
   ]
  },
  {
   "cell_type": "code",
   "execution_count": 170,
   "metadata": {},
   "outputs": [],
   "source": [
    "camera_center=intersection_point"
   ]
  },
  {
   "cell_type": "code",
   "execution_count": 210,
   "metadata": {},
   "outputs": [],
   "source": [
    "# geta all bounces\n",
    "bounces = df[df['bounce'] == 1]\n",
    "# get all y coordintes\n",
    "y = bounces['y'].values\n",
    "y = 720-y\n",
    "x = bounces['x'].values"
   ]
  },
  {
   "cell_type": "code",
   "execution_count": 211,
   "metadata": {},
   "outputs": [],
   "source": [
    "# function to transform in homogeneous coordinates\n",
    "def homogeneous(x, y, image_size=720):\n",
    "    return np.array([x, image_size-y, 1])\n",
    "# function to project on ground plane\n",
    "def project_on_ground_plane(M, point):\n",
    "    point = np.dot(M,point)\n",
    "    point /= point[2]\n",
    "    return point\n",
    "def find_box_points(base1, base2, height):\n",
    "    p1 = base1\n",
    "    p2 = base2\n",
    "    p3 = np.array([base1[0], base1[1], height])\n",
    "    p4 = np.array([base2[0], base2[1], height])\n",
    "    return p1, p2, p3, p4\n",
    "def find_plane_points_normal(p1, p2, height):\n",
    "    box_height = 700\n",
    "    \n",
    "    # Define points for the bounding box\n",
    "    p7 = p1 + np.array([0, 0, box_height])\n",
    "    p8 = p2 + np.array([0, 0, box_height])\n",
    "    normal = plane_from_points(p1, p2, p7)\n",
    "    return p7, p8, normal"
   ]
  },
  {
   "cell_type": "code",
   "execution_count": 212,
   "metadata": {},
   "outputs": [
    {
     "data": {
      "text/plain": [
       "0    5\n",
       "1    5\n",
       "2    5\n",
       "3    5\n",
       "dtype: int64"
      ]
     },
     "execution_count": 212,
     "metadata": {},
     "output_type": "execute_result"
    }
   ],
   "source": [
    "player2_boxes = pd.read_csv('player2_boxes.csv')\n",
    "player2_boxes.shape\n",
    "# count na\n",
    "player2_boxes.isna().sum()"
   ]
  },
  {
   "cell_type": "code",
   "execution_count": 213,
   "metadata": {},
   "outputs": [
    {
     "data": {
      "text/plain": [
       "array([-2.75886285e+03,  7.72920639e+03,  1.00000000e+00])"
      ]
     },
     "execution_count": 213,
     "metadata": {},
     "output_type": "execute_result"
    }
   ],
   "source": [
    "# fint top left corner of image\n",
    "top_left = np.array([0,720,1])\n",
    "# project on the ground\n",
    "top_left_ground = project_on_ground_plane(M, top_left)\n",
    "top_left_ground/=top_left_ground[2]\n",
    "top_left_ground"
   ]
  },
  {
   "cell_type": "code",
   "execution_count": 215,
   "metadata": {},
   "outputs": [
    {
     "name": "stdout",
     "output_type": "stream",
     "text": [
      "Bounce on player at point: (579.0, 425.0)\n",
      "Bounce on player at point: (821.0, 597.0)\n",
      "Bounce on player at point: (327.0, 271.0)\n",
      "Bounce on player at point: (823.0, 605.0)\n",
      "Bounce on player at point: (795.0, 193.0)\n",
      "Bounce on player at point: (631.0, 589.0)\n"
     ]
    },
    {
     "data": {
      "application/vnd.plotly.v1+json": {
       "config": {
        "plotlyServerURL": "https://plot.ly"
       },
       "data": [
        {
         "marker": {
          "color": "green",
          "size": 2
         },
         "mode": "markers+lines",
         "name": "Original",
         "type": "scatter3d",
         "x": [
          0,
          1279
         ],
         "y": [
          1188,
          1188
         ],
         "z": [
          107,
          107
         ]
        },
        {
         "marker": {
          "color": "red",
          "size": 2
         },
         "mode": "markers",
         "name": "Intersections P1",
         "type": "scatter3d",
         "x": [
          562.6573190711879,
          276.0174607717012,
          820.1563094619374
         ],
         "y": [
          32.64804120493204,
          26.045260700389008,
          32.64804120493204
         ],
         "z": [
          111.74500826354881,
          246.90153656191268,
          310.01942929344364
         ]
        },
        {
         "marker": {
          "color": "blue",
          "size": 2
         },
         "mode": "markers",
         "name": "Intersections P2",
         "type": "scatter3d",
         "x": [
          800.7336275277995,
          800.2906176490553,
          627.3301541163027
         ],
         "y": [
          2824.196931469487,
          2840.0435020519835,
          2840.0435020519835
         ],
         "z": [
          125.32008972661026,
          126.74742547059134,
          125.21963783590633
         ]
        },
        {
         "marker": {
          "color": "green",
          "size": 2
         },
         "mode": "markers",
         "name": "Ground P1",
         "type": "scatter3d",
         "x": [
          542.9590576309367,
          825.8315548003396,
          246.78205630354952,
          1.2302715046941566,
          812.7838545800919,
          1022.6202222908304,
          642.8247840964639
         ],
         "y": [
          510.4726863149992,
          241.698691588785,
          1372.3174541003673,
          1507.3835067241816,
          73.05718367994918,
          2337.8114232787907,
          136.33762424637445
         ],
         "z": [
          0,
          0,
          0,
          0,
          0,
          0,
          0
         ]
        },
        {
         "color": "blue",
         "i": [
          0,
          0,
          0,
          0
         ],
         "j": [
          1,
          2,
          3,
          0
         ],
         "k": [
          2,
          3,
          1,
          1
         ],
         "opacity": 0.5,
         "type": "mesh3d",
         "x": [
          91,
          1188,
          1188,
          91,
          91
         ],
         "y": [
          2377,
          2377,
          0,
          0,
          2377
         ],
         "z": [
          0,
          0,
          0,
          0,
          0
         ]
        }
       ],
       "layout": {
        "template": {
         "data": {
          "bar": [
           {
            "error_x": {
             "color": "#2a3f5f"
            },
            "error_y": {
             "color": "#2a3f5f"
            },
            "marker": {
             "line": {
              "color": "#E5ECF6",
              "width": 0.5
             },
             "pattern": {
              "fillmode": "overlay",
              "size": 10,
              "solidity": 0.2
             }
            },
            "type": "bar"
           }
          ],
          "barpolar": [
           {
            "marker": {
             "line": {
              "color": "#E5ECF6",
              "width": 0.5
             },
             "pattern": {
              "fillmode": "overlay",
              "size": 10,
              "solidity": 0.2
             }
            },
            "type": "barpolar"
           }
          ],
          "carpet": [
           {
            "aaxis": {
             "endlinecolor": "#2a3f5f",
             "gridcolor": "white",
             "linecolor": "white",
             "minorgridcolor": "white",
             "startlinecolor": "#2a3f5f"
            },
            "baxis": {
             "endlinecolor": "#2a3f5f",
             "gridcolor": "white",
             "linecolor": "white",
             "minorgridcolor": "white",
             "startlinecolor": "#2a3f5f"
            },
            "type": "carpet"
           }
          ],
          "choropleth": [
           {
            "colorbar": {
             "outlinewidth": 0,
             "ticks": ""
            },
            "type": "choropleth"
           }
          ],
          "contour": [
           {
            "colorbar": {
             "outlinewidth": 0,
             "ticks": ""
            },
            "colorscale": [
             [
              0,
              "#0d0887"
             ],
             [
              0.1111111111111111,
              "#46039f"
             ],
             [
              0.2222222222222222,
              "#7201a8"
             ],
             [
              0.3333333333333333,
              "#9c179e"
             ],
             [
              0.4444444444444444,
              "#bd3786"
             ],
             [
              0.5555555555555556,
              "#d8576b"
             ],
             [
              0.6666666666666666,
              "#ed7953"
             ],
             [
              0.7777777777777778,
              "#fb9f3a"
             ],
             [
              0.8888888888888888,
              "#fdca26"
             ],
             [
              1,
              "#f0f921"
             ]
            ],
            "type": "contour"
           }
          ],
          "contourcarpet": [
           {
            "colorbar": {
             "outlinewidth": 0,
             "ticks": ""
            },
            "type": "contourcarpet"
           }
          ],
          "heatmap": [
           {
            "colorbar": {
             "outlinewidth": 0,
             "ticks": ""
            },
            "colorscale": [
             [
              0,
              "#0d0887"
             ],
             [
              0.1111111111111111,
              "#46039f"
             ],
             [
              0.2222222222222222,
              "#7201a8"
             ],
             [
              0.3333333333333333,
              "#9c179e"
             ],
             [
              0.4444444444444444,
              "#bd3786"
             ],
             [
              0.5555555555555556,
              "#d8576b"
             ],
             [
              0.6666666666666666,
              "#ed7953"
             ],
             [
              0.7777777777777778,
              "#fb9f3a"
             ],
             [
              0.8888888888888888,
              "#fdca26"
             ],
             [
              1,
              "#f0f921"
             ]
            ],
            "type": "heatmap"
           }
          ],
          "heatmapgl": [
           {
            "colorbar": {
             "outlinewidth": 0,
             "ticks": ""
            },
            "colorscale": [
             [
              0,
              "#0d0887"
             ],
             [
              0.1111111111111111,
              "#46039f"
             ],
             [
              0.2222222222222222,
              "#7201a8"
             ],
             [
              0.3333333333333333,
              "#9c179e"
             ],
             [
              0.4444444444444444,
              "#bd3786"
             ],
             [
              0.5555555555555556,
              "#d8576b"
             ],
             [
              0.6666666666666666,
              "#ed7953"
             ],
             [
              0.7777777777777778,
              "#fb9f3a"
             ],
             [
              0.8888888888888888,
              "#fdca26"
             ],
             [
              1,
              "#f0f921"
             ]
            ],
            "type": "heatmapgl"
           }
          ],
          "histogram": [
           {
            "marker": {
             "pattern": {
              "fillmode": "overlay",
              "size": 10,
              "solidity": 0.2
             }
            },
            "type": "histogram"
           }
          ],
          "histogram2d": [
           {
            "colorbar": {
             "outlinewidth": 0,
             "ticks": ""
            },
            "colorscale": [
             [
              0,
              "#0d0887"
             ],
             [
              0.1111111111111111,
              "#46039f"
             ],
             [
              0.2222222222222222,
              "#7201a8"
             ],
             [
              0.3333333333333333,
              "#9c179e"
             ],
             [
              0.4444444444444444,
              "#bd3786"
             ],
             [
              0.5555555555555556,
              "#d8576b"
             ],
             [
              0.6666666666666666,
              "#ed7953"
             ],
             [
              0.7777777777777778,
              "#fb9f3a"
             ],
             [
              0.8888888888888888,
              "#fdca26"
             ],
             [
              1,
              "#f0f921"
             ]
            ],
            "type": "histogram2d"
           }
          ],
          "histogram2dcontour": [
           {
            "colorbar": {
             "outlinewidth": 0,
             "ticks": ""
            },
            "colorscale": [
             [
              0,
              "#0d0887"
             ],
             [
              0.1111111111111111,
              "#46039f"
             ],
             [
              0.2222222222222222,
              "#7201a8"
             ],
             [
              0.3333333333333333,
              "#9c179e"
             ],
             [
              0.4444444444444444,
              "#bd3786"
             ],
             [
              0.5555555555555556,
              "#d8576b"
             ],
             [
              0.6666666666666666,
              "#ed7953"
             ],
             [
              0.7777777777777778,
              "#fb9f3a"
             ],
             [
              0.8888888888888888,
              "#fdca26"
             ],
             [
              1,
              "#f0f921"
             ]
            ],
            "type": "histogram2dcontour"
           }
          ],
          "mesh3d": [
           {
            "colorbar": {
             "outlinewidth": 0,
             "ticks": ""
            },
            "type": "mesh3d"
           }
          ],
          "parcoords": [
           {
            "line": {
             "colorbar": {
              "outlinewidth": 0,
              "ticks": ""
             }
            },
            "type": "parcoords"
           }
          ],
          "pie": [
           {
            "automargin": true,
            "type": "pie"
           }
          ],
          "scatter": [
           {
            "fillpattern": {
             "fillmode": "overlay",
             "size": 10,
             "solidity": 0.2
            },
            "type": "scatter"
           }
          ],
          "scatter3d": [
           {
            "line": {
             "colorbar": {
              "outlinewidth": 0,
              "ticks": ""
             }
            },
            "marker": {
             "colorbar": {
              "outlinewidth": 0,
              "ticks": ""
             }
            },
            "type": "scatter3d"
           }
          ],
          "scattercarpet": [
           {
            "marker": {
             "colorbar": {
              "outlinewidth": 0,
              "ticks": ""
             }
            },
            "type": "scattercarpet"
           }
          ],
          "scattergeo": [
           {
            "marker": {
             "colorbar": {
              "outlinewidth": 0,
              "ticks": ""
             }
            },
            "type": "scattergeo"
           }
          ],
          "scattergl": [
           {
            "marker": {
             "colorbar": {
              "outlinewidth": 0,
              "ticks": ""
             }
            },
            "type": "scattergl"
           }
          ],
          "scattermapbox": [
           {
            "marker": {
             "colorbar": {
              "outlinewidth": 0,
              "ticks": ""
             }
            },
            "type": "scattermapbox"
           }
          ],
          "scatterpolar": [
           {
            "marker": {
             "colorbar": {
              "outlinewidth": 0,
              "ticks": ""
             }
            },
            "type": "scatterpolar"
           }
          ],
          "scatterpolargl": [
           {
            "marker": {
             "colorbar": {
              "outlinewidth": 0,
              "ticks": ""
             }
            },
            "type": "scatterpolargl"
           }
          ],
          "scatterternary": [
           {
            "marker": {
             "colorbar": {
              "outlinewidth": 0,
              "ticks": ""
             }
            },
            "type": "scatterternary"
           }
          ],
          "surface": [
           {
            "colorbar": {
             "outlinewidth": 0,
             "ticks": ""
            },
            "colorscale": [
             [
              0,
              "#0d0887"
             ],
             [
              0.1111111111111111,
              "#46039f"
             ],
             [
              0.2222222222222222,
              "#7201a8"
             ],
             [
              0.3333333333333333,
              "#9c179e"
             ],
             [
              0.4444444444444444,
              "#bd3786"
             ],
             [
              0.5555555555555556,
              "#d8576b"
             ],
             [
              0.6666666666666666,
              "#ed7953"
             ],
             [
              0.7777777777777778,
              "#fb9f3a"
             ],
             [
              0.8888888888888888,
              "#fdca26"
             ],
             [
              1,
              "#f0f921"
             ]
            ],
            "type": "surface"
           }
          ],
          "table": [
           {
            "cells": {
             "fill": {
              "color": "#EBF0F8"
             },
             "line": {
              "color": "white"
             }
            },
            "header": {
             "fill": {
              "color": "#C8D4E3"
             },
             "line": {
              "color": "white"
             }
            },
            "type": "table"
           }
          ]
         },
         "layout": {
          "annotationdefaults": {
           "arrowcolor": "#2a3f5f",
           "arrowhead": 0,
           "arrowwidth": 1
          },
          "autotypenumbers": "strict",
          "coloraxis": {
           "colorbar": {
            "outlinewidth": 0,
            "ticks": ""
           }
          },
          "colorscale": {
           "diverging": [
            [
             0,
             "#8e0152"
            ],
            [
             0.1,
             "#c51b7d"
            ],
            [
             0.2,
             "#de77ae"
            ],
            [
             0.3,
             "#f1b6da"
            ],
            [
             0.4,
             "#fde0ef"
            ],
            [
             0.5,
             "#f7f7f7"
            ],
            [
             0.6,
             "#e6f5d0"
            ],
            [
             0.7,
             "#b8e186"
            ],
            [
             0.8,
             "#7fbc41"
            ],
            [
             0.9,
             "#4d9221"
            ],
            [
             1,
             "#276419"
            ]
           ],
           "sequential": [
            [
             0,
             "#0d0887"
            ],
            [
             0.1111111111111111,
             "#46039f"
            ],
            [
             0.2222222222222222,
             "#7201a8"
            ],
            [
             0.3333333333333333,
             "#9c179e"
            ],
            [
             0.4444444444444444,
             "#bd3786"
            ],
            [
             0.5555555555555556,
             "#d8576b"
            ],
            [
             0.6666666666666666,
             "#ed7953"
            ],
            [
             0.7777777777777778,
             "#fb9f3a"
            ],
            [
             0.8888888888888888,
             "#fdca26"
            ],
            [
             1,
             "#f0f921"
            ]
           ],
           "sequentialminus": [
            [
             0,
             "#0d0887"
            ],
            [
             0.1111111111111111,
             "#46039f"
            ],
            [
             0.2222222222222222,
             "#7201a8"
            ],
            [
             0.3333333333333333,
             "#9c179e"
            ],
            [
             0.4444444444444444,
             "#bd3786"
            ],
            [
             0.5555555555555556,
             "#d8576b"
            ],
            [
             0.6666666666666666,
             "#ed7953"
            ],
            [
             0.7777777777777778,
             "#fb9f3a"
            ],
            [
             0.8888888888888888,
             "#fdca26"
            ],
            [
             1,
             "#f0f921"
            ]
           ]
          },
          "colorway": [
           "#636efa",
           "#EF553B",
           "#00cc96",
           "#ab63fa",
           "#FFA15A",
           "#19d3f3",
           "#FF6692",
           "#B6E880",
           "#FF97FF",
           "#FECB52"
          ],
          "font": {
           "color": "#2a3f5f"
          },
          "geo": {
           "bgcolor": "white",
           "lakecolor": "white",
           "landcolor": "#E5ECF6",
           "showlakes": true,
           "showland": true,
           "subunitcolor": "white"
          },
          "hoverlabel": {
           "align": "left"
          },
          "hovermode": "closest",
          "mapbox": {
           "style": "light"
          },
          "paper_bgcolor": "white",
          "plot_bgcolor": "#E5ECF6",
          "polar": {
           "angularaxis": {
            "gridcolor": "white",
            "linecolor": "white",
            "ticks": ""
           },
           "bgcolor": "#E5ECF6",
           "radialaxis": {
            "gridcolor": "white",
            "linecolor": "white",
            "ticks": ""
           }
          },
          "scene": {
           "xaxis": {
            "backgroundcolor": "#E5ECF6",
            "gridcolor": "white",
            "gridwidth": 2,
            "linecolor": "white",
            "showbackground": true,
            "ticks": "",
            "zerolinecolor": "white"
           },
           "yaxis": {
            "backgroundcolor": "#E5ECF6",
            "gridcolor": "white",
            "gridwidth": 2,
            "linecolor": "white",
            "showbackground": true,
            "ticks": "",
            "zerolinecolor": "white"
           },
           "zaxis": {
            "backgroundcolor": "#E5ECF6",
            "gridcolor": "white",
            "gridwidth": 2,
            "linecolor": "white",
            "showbackground": true,
            "ticks": "",
            "zerolinecolor": "white"
           }
          },
          "shapedefaults": {
           "line": {
            "color": "#2a3f5f"
           }
          },
          "ternary": {
           "aaxis": {
            "gridcolor": "white",
            "linecolor": "white",
            "ticks": ""
           },
           "baxis": {
            "gridcolor": "white",
            "linecolor": "white",
            "ticks": ""
           },
           "bgcolor": "#E5ECF6",
           "caxis": {
            "gridcolor": "white",
            "linecolor": "white",
            "ticks": ""
           }
          },
          "title": {
           "x": 0.05
          },
          "xaxis": {
           "automargin": true,
           "gridcolor": "white",
           "linecolor": "white",
           "ticks": "",
           "title": {
            "standoff": 15
           },
           "zerolinecolor": "white",
           "zerolinewidth": 2
          },
          "yaxis": {
           "automargin": true,
           "gridcolor": "white",
           "linecolor": "white",
           "ticks": "",
           "title": {
            "standoff": 15
           },
           "zerolinecolor": "white",
           "zerolinewidth": 2
          }
         }
        }
       }
      }
     },
     "metadata": {},
     "output_type": "display_data"
    }
   ],
   "source": [
    "criteria= 0 # 0 minore 1 maggiore\n",
    "#understand if the ball is going up or down\n",
    "if y[0] < y[1]:\n",
    "    criteria = 1\n",
    "initial_criteria = criteria\n",
    "image_y=720\n",
    "fig = go.Figure()\n",
    "# y distance E_top and camera center\n",
    "y_distance = E_top[1] - camera_center[1]\n",
    "\n",
    "center_flipped = np.array([camera_center[0],camera_center[1]+ 2*top_left_ground[1], camera_center[2]]) \n",
    "#fig.add_trace(go.Scatter3d(x=[camera_center[0], center_flipped[0]], y=[camera_center[1], center_flipped[1]], z=[camera_center[2], center_flipped[2]], mode='markers+lines', name='Camera Center'))\n",
    "fig.add_trace(go.Scatter3d(x=[E_top[0], F_top[0]], y=[E_top[1], F_top[1]], z=[E_top[2], F_top[2]], mode='markers+lines', name='Original', marker=dict(color='green', size=2)))\n",
    "indexes= []\n",
    "intersectios_p1= []\n",
    "intersections_p2= []\n",
    "ground_p = []\n",
    "\n",
    "for i in range(len(y)-1):\n",
    "    if criteria == 1:\n",
    "        if y[i+1] > y[i]:\n",
    "            print(\"Bounce on player at point: ({}, {})\".format(x[i], y[i]))\n",
    "            #plt.scatter(x[i], y[i], c='r')\n",
    "            # add i label\n",
    "            #plt.text(x[i], y[i], str(i+1), color='red', fontsize=12)\n",
    "            \n",
    "            #transform bounce in homogeneous coordinates\n",
    "            bounce = homogeneous(x[i], y[i])\n",
    "            \n",
    "            # get player box\n",
    "            player_box = player1_boxes.iloc[i]\n",
    "            box = player_box[['0', '1', '2', '3']].values\n",
    "            box = box.reshape(-1, 2)\n",
    "            box = box.astype(int)\n",
    "            top_left = box[0]\n",
    "            bottom_right = box[1]\n",
    "            bottom_left = (top_left[0], bottom_right[1])\n",
    "            \n",
    "            bottom_right = homogeneous(bottom_right[0], bottom_right[1])\n",
    "            bottom_left = homogeneous(bottom_left[0], bottom_left[1])\n",
    "            \n",
    "            # project on the ground plane\n",
    "            ground_bounce = project_on_ground_plane(M, bounce)\n",
    "            ground_bottom_right = project_on_ground_plane(M, bottom_right)\n",
    "            ground_bottom_left = project_on_ground_plane(M, bottom_left)\n",
    "            \n",
    "            # z-coordinate 0\n",
    "            ground_bounce[2]= 0\n",
    "            ground_bottom_right[2]= 0\n",
    "            ground_bottom_left[2]= 0\n",
    "            \n",
    "            #get plane points and normal\n",
    "            p7, p8, normal = find_plane_points_normal(ground_bottom_left, ground_bottom_right, 700)\n",
    "            intersection_point = intersect_line_plane(camera_center, ground_bounce, p8, normal)\n",
    "            # add to intersections p1\n",
    "            intersectios_p1.append(intersection_point)\n",
    "            \n",
    "            #int_trace = go.Scatter3d(x=[intersection_point[0]], y=[intersection_point[1]], z=[intersection_point[2]], mode='markers', name='Intersection Point', marker=dict(color='red', size=2))\n",
    "            #fig.add_trace(int_trace)\n",
    "            \n",
    "            # add index to list\n",
    "            indexes.append(i)\n",
    "            criteria = 0\n",
    "        else:\n",
    "            bounce = homogeneous(x[i], y[i])\n",
    "            ground_bounce = project_on_ground_plane(M, bounce)\n",
    "            ground_bounce[2]= 0\n",
    "            ground_p.append(ground_bounce)\n",
    "               \n",
    "            \n",
    "    if criteria == 0:\n",
    "        if y[i+1] < y[i]:\n",
    "            print(\"Bounce on player at point: ({}, {})\".format(x[i], y[i]))\n",
    "            #plt.scatter(x[i], y[i], c='r')\n",
    "            #plt.text(x[i], y[i], str(i+1), color='red', fontsize=12)\n",
    "            indexes.append(i)\n",
    "            \n",
    "            player_box = player2_boxes.iloc[i]\n",
    "            # chack if not na\n",
    "            if player_box.isna().sum() == 0:\n",
    "                box = player_box[['0', '1', '2', '3']].values\n",
    "                box = box.reshape(-1, 2)\n",
    "                box = box.astype(int)\n",
    "                top_left = box[0]\n",
    "                bottom_right = box[1]\n",
    "                bottom_left = (top_left[0], bottom_right[1])\n",
    "                \n",
    "                bottom_right = homogeneous(bottom_right[0], bottom_right[1])\n",
    "                bottom_left = homogeneous(bottom_left[0], bottom_left[1])\n",
    "                \n",
    "                bounce = homogeneous(x[i], y[i])\n",
    "                \n",
    "                # project on the ground plane\n",
    "                ground_bottom_right = project_on_ground_plane(M, bottom_right)\n",
    "                ground_bottom_left = project_on_ground_plane(M, bottom_left)\n",
    "                ground_bounce = project_on_ground_plane(M, bounce)\n",
    "            \n",
    "                \n",
    "                \n",
    "                \n",
    "                # z-coordinate 0\n",
    "                ground_bottom_right[2]= 0\n",
    "                ground_bottom_left[2]= 0\n",
    "                ground_bounce[2]= 0\n",
    "                \n",
    "                #get plane points and normal\n",
    "                p7, p8, normal = find_plane_points_normal(ground_bottom_left, ground_bottom_right, 700)\n",
    "                intersection_point = intersect_line_plane(center_flipped, ground_bounce, p8, normal)\n",
    "                intersections_p2.append(intersection_point)\n",
    "                #int_trace = go.Scatter3d(x=[intersection_point[0]], y=[intersection_point[1]], z=[intersection_point[2]], mode='markers', name='Intersection Point', marker=dict(color='blue', size=2))\n",
    "                #fig.add_trace(int_trace)\n",
    "            \n",
    "            \n",
    "            criteria = 1\n",
    "        else:\n",
    "            bounce = homogeneous(x[i], y[i])\n",
    "            ground_bounce = project_on_ground_plane(M, bounce)\n",
    "            ground_bounce[2]= 0\n",
    "            ground_p.append(ground_bounce)\n",
    "  \n",
    "# scatter intersections p1\n",
    "intersections_p1 = np.array(intersectios_p1)\n",
    "fig.add_trace(go.Scatter3d(x=intersections_p1[:, 0], y=intersections_p1[:, 1], z=intersections_p1[:, 2], mode='markers', name='Intersections P1', marker=dict(color='red', size=2)))\n",
    "#scatter intersections p2\n",
    "intersections_p2 = np.array(intersections_p2)\n",
    "fig.add_trace(go.Scatter3d(x=intersections_p2[:, 0], y=intersections_p2[:, 1], z=intersections_p2[:, 2], mode='markers', name='Intersections P2', marker=dict(color='blue', size=2)))  \n",
    "# scatter ground \n",
    "ground_p = np.array(ground_p)\n",
    "fig.add_trace(go.Scatter3d(x=ground_p[:, 0], y=ground_p[:, 1], z=ground_p[:, 2], mode='markers', name='Ground P1', marker=dict(color='green', size=2)))\n",
    "\n",
    "# tennis court\n",
    "court = np.array([[91,2377,0], [1188,2377,0], [1188,0,0],[91,0,0]])\n",
    "# plot tennis court mesh\n",
    "court_trace = go.Mesh3d(\n",
    "    x=[court[0][0], court[1][0], court[2][0], court[3][0], court[0][0]],\n",
    "    y=[court[0][1], court[1][1], court[2][1], court[3][1], court[0][1]],\n",
    "    z=[court[0][2], court[1][2], court[2][2], court[3][2], court[0][2]],\n",
    "    i=[0, 0, 0, 0],\n",
    "    j=[1, 2, 3, 0],\n",
    "    k=[2, 3, 1, 1],\n",
    "    opacity=0.5,\n",
    "    color='blue'\n",
    ")\n",
    "fig.add_trace(court_trace)\n",
    "\n",
    "\n",
    "fig.show()"
   ]
  },
  {
   "cell_type": "code",
   "execution_count": 207,
   "metadata": {},
   "outputs": [
    {
     "data": {
      "image/png": "[encoded data removed]",
      "text/plain": [
       "<Figure size 640x480 with 1 Axes>"
      ]
     },
     "metadata": {},
     "output_type": "display_data"
    }
   ],
   "source": [
    "# plot the bounce points\n",
    "true_bounce = bounces[bounces['bounce']==1]\n",
    "\n",
    "x = np.asarray(true_bounce['x'])\n",
    "y = np.asarray(true_bounce['y'])\n",
    "plt.scatter(x, y)\n",
    "\n",
    "#plot line between consecutive points\n",
    "for i in range(1, len(x)):\n",
    "    plt.plot([x[i-1], x[i]], [y[i-1], y[i]], 'k-')"
   ]
  },
  {
   "cell_type": "code",
   "execution_count": null,
   "metadata": {},
   "outputs": [],
   "source": []
  }
 ],
 "metadata": {
  "kernelspec": {
   "display_name": "Python 3",
   "language": "python",
   "name": "python3"
  },
  "language_info": {
   "codemirror_mode": {
    "name": "ipython",
    "version": 3
   },
   "file_extension": ".py",
   "mimetype": "text/x-python",
   "name": "python",
   "nbconvert_exporter": "python",
   "pygments_lexer": "ipython3",
   "version": "3.1.undefined"
  }
 },
 "nbformat": 4,
 "nbformat_minor": 2
}
