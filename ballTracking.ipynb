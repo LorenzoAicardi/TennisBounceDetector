{
 "cells": [
  {
   "cell_type": "code",
   "execution_count": null,
   "metadata": {},
   "outputs": [],
   "source": [
    "from ultralytics import YOLO\n",
    "import cv2\n",
    "import pandas as pd\n",
    "import numpy as np\n",
    "import matplotlib.pyplot as plt\n",
    "from KalmanFilter import KalmanFilter\n",
    "import math\n",
    "from filterpy.kalman import KalmanFilter\n",
    "\n",
    "\n",
    "#model = YOLO('C:/Users/loren/Desktop/TennisBounceDetector/models/yoloV5_2k.pt')"
   ]
  },
  {
   "cell_type": "code",
   "execution_count": null,
   "metadata": {},
   "outputs": [],
   "source": [
    "import os\n",
    "\n",
    "dir = 'C:/Users/loren/Desktop/TennisBounceDetector/Dataset/game1/Clip6/'\n",
    "\n",
    "for clip in os.listdir(dir):\n",
    "    f = os.path.join(dir, clip)\n",
    "    result = model.track(dir + clip, save=True)"
   ]
  },
  {
   "cell_type": "code",
   "execution_count": null,
   "metadata": {},
   "outputs": [],
   "source": [
    "import cv2\n",
    "import os\n",
    "\n",
    "video_dim = (1280, 720)\n",
    "fps = 25\n",
    "\n",
    "vidwriter = cv2.VideoWriter(\"outputTrack3.mp4\", cv2.VideoWriter_fourcc(*\"mp4v\"), fps, video_dim)\n",
    "\n",
    "dir = 'C:/Users/loren/Desktop/tennis/game1/Clip1'\n",
    "frames = []\n",
    "for clip in os.listdir(dir):\n",
    "    f = os.path.join(dir, clip)\n",
    "    img = cv2.imread(f, cv2.IMREAD_COLOR)\n",
    "    vidwriter.write(img)\n",
    "    \n",
    "vidwriter.release()"
   ]
  },
  {
   "cell_type": "markdown",
   "metadata": {},
   "source": [
    "# Tracknet"
   ]
  },
  {
   "cell_type": "code",
   "execution_count": null,
   "metadata": {},
   "outputs": [],
   "source": [
    "import numpy as np\n",
    "import pandas as pd\n",
    "import sys, getopt\n",
    "import os\n",
    "from glob import glob\n",
    "#from keras.preprocessing.image import ImageDataGenerator \n",
    "#from tensorflow.keras.utils import array_to_img\n",
    "#from tensorflow.keras.utils import img_to_array\n",
    "#from tensorflow.keras.utils import load_img\n",
    "import pandas as pd\n",
    "# from sklearn.model_selection import train_test_split\n",
    "from keras.models import *\n",
    "from keras.layers import *\n",
    "import keras.backend as K\n",
    "from keras import optimizers\n",
    "from keras.activations import *\n",
    "import tensorflow as tf\n",
    "import gc\n",
    "import itertools\n",
    "import cv2\n",
    "import math\n",
    "import matplotlib.pyplot as plt\n",
    "from sys import getsizeof"
   ]
  },
  {
   "cell_type": "code",
   "execution_count": null,
   "metadata": {},
   "outputs": [],
   "source": [
    "print(tf.__version__)"
   ]
  },
  {
   "cell_type": "code",
   "execution_count": null,
   "metadata": {},
   "outputs": [],
   "source": [
    "#Loss function\n",
    "def custom_loss(y_true, y_pred):\n",
    "\tloss = (-1)*(K.square(1 - y_pred) * y_true * K.log(K.clip(y_pred, K.epsilon(), 1)) + K.square(y_pred) * (1 - y_true) * K.log(K.clip(1 - y_pred, K.epsilon(), 1)))\n",
    "\treturn K.mean(loss)\n",
    "\n",
    "model = tf.keras.models.load_model('models/model906_30', custom_objects={'custom_loss':custom_loss})"
   ]
  },
  {
   "cell_type": "code",
   "execution_count": null,
   "metadata": {},
   "outputs": [],
   "source": [
    "#ADADELTA = optimizers.Adadelta(learning_rate=lr) # 1e-5 if fine tuning\n",
    "model.compile(loss=custom_loss) #,optimizer=ADADELTA)"
   ]
  },
  {
   "cell_type": "code",
   "execution_count": null,
   "metadata": {},
   "outputs": [],
   "source": [
    "model.input_shape"
   ]
  },
  {
   "cell_type": "code",
   "execution_count": null,
   "metadata": {},
   "outputs": [],
   "source": [
    "import os\n",
    "\n",
    "dir = 'C:/Users/loren/Desktop/TennisBounceDetector/Dataset/game1/Clip1/'\n",
    "result = []\n",
    "\n",
    "for clip in os.listdir(dir):\n",
    "    img = tf.keras.utils.load_img(os.path.join(dir, clip))\n",
    "    model.predict(tf.convert_to_tensor(img, dtype=tf.int8))"
   ]
  },
  {
   "cell_type": "code",
   "execution_count": null,
   "metadata": {},
   "outputs": [],
   "source": [
    "video_dim = (1280, 720)\n",
    "fps = 25\n",
    "\n",
    "vidwriter = cv2.VideoWriter(\"outputTrack3.mp4\", cv2.VideoWriter_fourcc(*\"mp4v\"), fps, video_dim)\n",
    "\n",
    "dir = 'C:/Users/loren/Desktop/TennisBounceDetector/runs/detect/predict5'\n",
    "frames = []\n",
    "for clip in os.listdir(dir):\n",
    "    f = os.path.join(dir, clip)\n",
    "    img = cv2.imread(f, cv2.IMREAD_COLOR)\n",
    "    vidwriter.write(img)\n",
    "    \n",
    "vidwriter.release()"
   ]
  },
  {
   "cell_type": "markdown",
   "metadata": {},
   "source": [
    "# Kalman filtering"
   ]
  },
  {
   "cell_type": "code",
   "execution_count": null,
   "metadata": {},
   "outputs": [],
   "source": [
    "df = pd.read_csv('./outcsv/veryshorttest.csv')"
   ]
  },
  {
   "cell_type": "code",
   "execution_count": null,
   "metadata": {},
   "outputs": [],
   "source": [
    "df.head()"
   ]
  },
  {
   "cell_type": "code",
   "execution_count": null,
   "metadata": {},
   "outputs": [],
   "source": [
    "VideoCap = cv2.VideoCapture('./videoin/veryshorttest.mp4')\n",
    "#skip first 3 frames\n",
    "for i in range(3):\n",
    "    ret, frame = VideoCap.read()"
   ]
  },
  {
   "cell_type": "code",
   "execution_count": null,
   "metadata": {},
   "outputs": [],
   "source": [
    " #Variable used to control the speed of reading the video\n",
    "ControlSpeedVar = 70  #Lowest: 1 - Highest:100\n",
    "\n",
    "HiSpeed = 100\n"
   ]
  },
  {
   "cell_type": "code",
   "execution_count": null,
   "metadata": {},
   "outputs": [],
   "source": [
    "# KF = KalmanFilter(0.1, 1, 1, 1, 0.1,0.1)\n",
    "# discard first frame \n",
    "#ret, frame = VideoCap.read()\n",
    "i = 0\n"
   ]
  },
  {
   "cell_type": "code",
   "execution_count": null,
   "metadata": {},
   "outputs": [],
   "source": [
    "frames_df = df.iloc[0:3]\n",
    "# get x and y in a 2d array\n",
    "measurements = frames_df.to_numpy()\n",
    "measurements = measurements[:, 2:4]\n",
    "measurements "
   ]
  },
  {
   "cell_type": "code",
   "execution_count": null,
   "metadata": {},
   "outputs": [],
   "source": [
    "from cv2 import KalmanFilter\n",
    "# Collect measurements (example values)\n",
    "#measurements = np.array([[1, 2], [3, 4], [5, 6]])\n",
    "\n",
    "\n",
    "# Calculate mean and covariance of measurements\n",
    "mean_meas = np.mean(measurements, axis=0)\n",
    "cov_meas = np.cov(measurements, rowvar=False)\n",
    "\n",
    "# Initialize the Kalman filter\n",
    "kf = KalmanFilter(4, 2)  # 4 state variables, 2 measurements\n",
    "\n",
    "# Set initial mean\n",
    "kf.statePost = np.array([mean_meas[0], mean_meas[1], 0, 0], dtype=np.float32)\n",
    "\n",
    "# Set initial covariance\n",
    "kf.errorCovPost = cov_meas.astype(np.float32)\n",
    "# Initialize the Kalman filter\n",
    "kf = KalmanFilter(4, 2) # 4 state variables, 2 measurements\n",
    "kf.measurementMatrix = np.array([[1, 0, 0, 0], [0, 1, 0, 0]], np.float32)\n",
    "kf.transitionMatrix = np.array([[1, 0, 1, 0], [0, 1, 0, 1], [0, 0, 1, 0], [0, 0, 0, 1]], np.float32)\n",
    "kf.processNoiseCov = np.array([[1, 0, 0, 0], [0, 1, 0, 0], [0, 0, 1, 0], [0, 0, 0, 1]], np.float32) * 1e-4\n",
    "kf.measurementNoiseCov = np.array([[1, 0], [0, 1]], np.float32) * 1e-1"
   ]
  },
  {
   "cell_type": "code",
   "execution_count": null,
   "metadata": {},
   "outputs": [],
   "source": [
    "# from the 3 measurements calculate velocity\n",
    "vx = (measurements[2][0]- measurements[0][0])/2\n",
    "vy = (measurements[2][1]- measurements[0][1])/2"
   ]
  },
  {
   "cell_type": "code",
   "execution_count": null,
   "metadata": {},
   "outputs": [],
   "source": [
    "f = KalmanFilter (dim_x=4, dim_z=2)\n",
    "f.x = np.array([mean_meas,    # position\n",
    "                [vx, vy]])   # velocity"
   ]
  },
  {
   "cell_type": "code",
   "execution_count": null,
   "metadata": {},
   "outputs": [],
   "source": [
    "# state transition matrix\n",
    "f.F = np.array([[1, 0, 1, 0], [0, 1, 0, 1], [0, 0, 1, 0], [0, 0, 0, 1]], np.float32)\n",
    "f.H = np.array([[1, 0, 0, 0], [0, 1, 0, 0]], np.float32)\n",
    "f.P = np.array([[1, 0, 0, 0], [0, 1, 0, 0], [0, 0, 1, 0], [0, 0, 0, 1]], np.float32) * 1e-4\n",
    "f.R =np.array([[1, 0], [0, 1]], np.float32) * 1e-1\n"
   ]
  },
  {
   "cell_type": "code",
   "execution_count": null,
   "metadata": {},
   "outputs": [],
   "source": [
    "while(True):\n",
    "    ret, frame = VideoCap.read()\n",
    "    # get first row of dataset\n",
    "    _, _,c_x, c_y = df.iloc[i]\n",
    "    \n",
    "    \n",
    "    if (not math.isnan(c_x)) and (not math.isnan(c_y)):\n",
    "        f.update(np.array([c_x, c_y], np.float32).reshape(2, 1))  \n",
    "    predicted = f.predict()\n",
    "\n",
    "        # Draw the predicted position\n",
    "    cv2.circle(frame, (int(predicted[0]), int(predicted[1])), 10, (0, 255, 0), -1)\n",
    "    cv2.imshow('image', frame)\n",
    "\n",
    "    if cv2.waitKey(2) & 0xFF == ord('q'):\n",
    "            VideoCap.release()\n",
    "            cv2.destroyAllWindows()\n",
    "            break\n",
    "\n",
    "    cv2.waitKey(HiSpeed-ControlSpeedVar+1)\n",
    "    i= i+1\n",
    "    \n",
    "    "
   ]
  },
  {
   "cell_type": "code",
   "execution_count": null,
   "metadata": {},
   "outputs": [],
   "source": []
  }
 ],
 "metadata": {
  "kernelspec": {
   "display_name": "Python 3",
   "language": "python",
   "name": "python3"
  },
  "language_info": {
   "codemirror_mode": {
    "name": "ipython",
    "version": 3
   },
   "file_extension": ".py",
   "mimetype": "text/x-python",
   "name": "python",
   "nbconvert_exporter": "python",
   "pygments_lexer": "ipython3",
   "version": "3.10.9"
  }
 },
 "nbformat": 4,
 "nbformat_minor": 2
}
